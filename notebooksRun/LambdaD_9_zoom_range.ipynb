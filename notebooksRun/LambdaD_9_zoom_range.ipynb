{
 "cells": [
  {
   "cell_type": "markdown",
   "metadata": {},
   "source": [
    "# 8 and 16 bit image pairs\n",
    "* select equation\n",
    "* set domain parameters\n",
    "* set number of pixels\n",
    "* select color-mapping limits or option(s)\n",
    "* set number of images\n",
    "* view example output\n",
    "* set names, destination folder\n",
    "* run (monitor)"
   ]
  },
  {
   "cell_type": "code",
   "execution_count": null,
   "metadata": {},
   "outputs": [],
   "source": [
    "import os\n",
    "import sys\n",
    "import numpy as np\n",
    "\n",
    "sys.path.insert(0, '../src')\n",
    "import deg_0_ddeq\n",
    "from noat_buk_snippers import *\n",
    "from im_scale_products import name_functionhandle_dict #, named_function_handles_dict\n",
    "\n",
    "print('Default domain:')\n",
    "domain_dict = get_test_domain_dict()\n",
    "for k, v in domain_dict.items():\n",
    "    print('\\t', k,v)\n",
    "    \n",
    "print('\\nEquations by number or name:')\n",
    "\n",
    "for k, v in name_functionhandle_dict.items():\n",
    "    print('\\t', k, v)"
   ]
  },
  {
   "cell_type": "code",
   "execution_count": null,
   "metadata": {},
   "outputs": [],
   "source": [
    "\"\"\"\n",
    "        * select equation\n",
    "        * set domain parameters\n",
    "        * set number of pixels\n",
    "        \n",
    "fcn_name, fcn = name_functionhandle_dict[fcn_number][0], name_functionhandle_dict[fcn_number][1]\n",
    "p = fcn(0.0, None)\n",
    "\n",
    "list_tuple = [(fcn, (p))]\n",
    "\n",
    "display_calc_result(list_tuple, domain_dict)\n",
    "\"\"\"\n",
    "domain_dict['function_name'] = 'lambda_D_9'\n",
    "\n",
    "new_zoom_value = 0.035\n",
    "domain_update_zoom(domain_dict, zoom_value=new_zoom_value)\n",
    "domain_dict['theta'] = -1 * np.pi/2\n",
    "domain_dict['center_point'] = 0.0 + 0.0j\n",
    "domain_dict['n_rows'] = 300\n",
    "domain_dict['n_cols'] = 300\n",
    "\n"
   ]
  },
  {
   "cell_type": "code",
   "execution_count": null,
   "metadata": {},
   "outputs": [],
   "source": [
    "#zm_list = [0.08, 0.10666667, 0.13333333, 0.16, 0.18666667, 0.21333333, 0.24, 0.26666667, 0.29333333, 0.32]\n",
    "zm_list = np.flip([0.08, 0.25075, 0.5005, 0.75025, 1.0, 2.0, 4.0, 8.0])\n",
    "\n",
    "for zm in zm_list:\n",
    "    domain_dict = domain_update_zoom(domain_dict, zoom_value=zm)\n",
    "    calculate_and_display(domain_dict)"
   ]
  },
  {
   "cell_type": "code",
   "execution_count": null,
   "metadata": {},
   "outputs": [],
   "source": []
  }
 ],
 "metadata": {
  "kernelspec": {
   "display_name": "Python 3",
   "language": "python",
   "name": "python3"
  },
  "language_info": {
   "codemirror_mode": {
    "name": "ipython",
    "version": 3
   },
   "file_extension": ".py",
   "mimetype": "text/x-python",
   "name": "python",
   "nbconvert_exporter": "python",
   "pygments_lexer": "ipython3",
   "version": "3.7.3"
  }
 },
 "nbformat": 4,
 "nbformat_minor": 2
}
