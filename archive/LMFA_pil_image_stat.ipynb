{
 "cells": [
  {
   "cell_type": "markdown",
   "metadata": {},
   "source": [
    "# Image Statistics Modules\n",
    "[PIL ImageStat](https://pillow.readthedocs.io/en/3.0.x/reference/ImageStat.html) <br>\n",
    "```python\n",
    "from PIL import ImageFile\n",
    "\n",
    "fp = open(\"lena.pgm\", \"rb\")\n",
    "\n",
    "p = ImageFile.Parser()\n",
    "\n",
    "while 1:\n",
    "    s = fp.read(1024)\n",
    "    if not s:\n",
    "        break\n",
    "    p.feed(s)\n",
    "\n",
    "im = p.close()\n",
    "\n",
    "im.save(\"copy.jpg\")\n",
    "```\n",
    "## official modes\n",
    "```script\n",
    "    \"1\": (\"L\", \"L\", (\"1\",)),\n",
    "    \"L\": (\"L\", \"L\", (\"L\",)),\n",
    "    \"I\": (\"L\", \"I\", (\"I\",)),\n",
    "    \"F\": (\"L\", \"F\", (\"F\",)),\n",
    "    \"P\": (\"P\", \"L\", (\"P\",)),\n",
    "    \"RGB\": (\"RGB\", \"L\", (\"R\", \"G\", \"B\")),\n",
    "    \"RGBX\": (\"RGB\", \"L\", (\"R\", \"G\", \"B\", \"X\")),\n",
    "    \"RGBA\": (\"RGB\", \"L\", (\"R\", \"G\", \"B\", \"A\")),\n",
    "    \"CMYK\": (\"RGB\", \"L\", (\"C\", \"M\", \"Y\", \"K\")),\n",
    "    \"YCbCr\": (\"RGB\", \"L\", (\"Y\", \"Cb\", \"Cr\")),\n",
    "    \"LAB\": (\"RGB\", \"L\", (\"L\", \"A\", \"B\")),\n",
    "    \"HSV\": (\"RGB\", \"L\", (\"H\", \"S\", \"V\")),\n",
    "```"
   ]
  },
  {
   "cell_type": "code",
   "execution_count": null,
   "metadata": {},
   "outputs": [],
   "source": [
    "import os\n",
    "from PIL import Image\n",
    "from PIL import ImageFile\n",
    "from PIL.ImageStat import Stat\n",
    "from PIL.ImageOps import grayscale\n",
    "\n",
    "im_file_dir = '/Users/mojo/git_clone/dlanier/La_Machina_Fractal_Arien/images'\n",
    "if os.path.isdir(im_file_dir) == False:\n",
    "    print(im_file_dir, '\\nDirectory not found')\n"
   ]
  },
  {
   "cell_type": "code",
   "execution_count": null,
   "metadata": {},
   "outputs": [],
   "source": [
    "os.listdir(im_file_dir)"
   ]
  },
  {
   "cell_type": "code",
   "execution_count": null,
   "metadata": {},
   "outputs": [],
   "source": [
    "FILE_EXT = ['.png']\n",
    "im_dir = im_file_dir # os.path.abspath('../images')\n",
    "file_list = os.listdir(im_dir)\n",
    "png_files = []\n",
    "for maybe_file in file_list:\n",
    "    _, file_ext = os.path.splitext(maybe_file)\n",
    "    if file_ext in FILE_EXT:\n",
    "        print(maybe_file)\n",
    "        full_file_name = os.path.join(im_dir, maybe_file)\n",
    "        print('\\t%s'%full_file_name)\n",
    "        p = ImageFile.Parser()\n",
    "        with open(full_file_name, 'rb') as fp:\n",
    "            while 1:\n",
    "                s = fp.read(1024)\n",
    "                if not s:\n",
    "                    break\n",
    "                p.feed(s)\n",
    "            im = p.close()\n",
    "            print('type(im)',type(im))\n",
    "            im_stat = Stat(im)\n",
    "            stddev = im_stat.stddev\n",
    "            print(type(stddev), len(stddev), 'stddev')\n",
    "            for std in stddev:\n",
    "                print(std)\n",
    "            print('\\n')\n",
    "            "
   ]
  },
  {
   "cell_type": "code",
   "execution_count": null,
   "metadata": {},
   "outputs": [],
   "source": [
    "import os\n",
    "from collections import OrderedDict\n",
    "from PIL import ImageFile\n",
    "from PIL.ImageStat import Stat\n",
    "import pandas as pd\n",
    "\n",
    "def get_image_file_stats(imfilename, imfiledirectory=None):\n",
    "    \"\"\" stats_dict, image_input = get_image_file_stats(imfilename, imfiledirectory) \"\"\"\n",
    "    \n",
    "    stats_dict = {}\n",
    "    full_file_name = os.path.join(imfiledirectory, imfilename)\n",
    "    if os.path.isfile(full_file_name):\n",
    "        p = ImageFile.Parser()\n",
    "        with open(full_file_name, 'rb') as fp:\n",
    "            while 1:\n",
    "                s = fp.read(1024)\n",
    "                if not s:\n",
    "                    break\n",
    "                p.feed(s)\n",
    "            image_input = p.close()\n",
    "        \n",
    "        stats_dict = get_image_stats(image_input)\n",
    "        stats_dict['image_file_name'] = imfilename\n",
    "        \n",
    "    else:\n",
    "        print('Failed to open file:', full_file_name)\n",
    "        \n",
    "    return stats_dict, image_input\n",
    "\n",
    "def get_image_stats(image_input):\n",
    "    stats_dict = {}\n",
    "    im_stat = Stat(im)\n",
    "    stats_dict['extrema'] = im_stat.extrema\n",
    "    stats_dict['count'] = im_stat.count\n",
    "    stats_dict['sum'] = im_stat.sum\n",
    "    stats_dict['sum2'] = im_stat.sum2\n",
    "    stats_dict['mean'] = im_stat.mean\n",
    "    stats_dict['median'] = im_stat.median\n",
    "    stats_dict['rms'] = im_stat.rms\n",
    "    stats_dict['var'] = im_stat.var\n",
    "    stats_dict['stddev'] = im_stat.stddev\n",
    "    \n",
    "    return stats_dict\n",
    "\n",
    "def show_image_stats(imfilename, imfiledirectory):\n",
    "    if imfiledirectory is None:\n",
    "        imfiledirectory = os.getcwd()\n",
    "    stats_dict, image_input = get_image_file_stats(imfilename, imfiledirectory)\n",
    "    for k, v in stats_dict.items():\n",
    "        print('%20s: '%(k), v,'\\n')\n",
    "    display(image_input)\n",
    "    \n",
    "    \n",
    "def get_images_stats_dataframe(images_dir_list, file_extensions_list):\n",
    "    \"\"\"images_stats_dataframe = get_images_stats_dataframe(images_dir_list, file_extensions_list) \"\"\"\n",
    "    STATS_KEYS = [\"count\",\"extrema\",\"image_file_name\",\"mean\",\"median\",\"rms\",\"stddev\",\"sum\",\"sum2\",\"var\"]\n",
    "    images_stats_dataframe = None\n",
    "    stats_dict_list = []\n",
    "    for maybe_image_dir in images_dir_list:\n",
    "        if os.path.isdir(maybe_image_dir):\n",
    "            files_list = os.listdir(maybe_image_dir)\n",
    "            for maybe_file in files_list:\n",
    "                _, file_ext = os.path.splitext(maybe_file)\n",
    "                if file_ext in file_extensions_list:\n",
    "                    stats_dict, _ = get_image_file_stats(maybe_file, maybe_image_dir)\n",
    "                    stats_dict_list.append(stats_dict)\n",
    "                    \n",
    "    images_stats_dataframe = pd.DataFrame(stats_dict_list)\n",
    "                    \n",
    "    return images_stats_dataframe\n",
    "                    \n",
    "    "
   ]
  },
  {
   "cell_type": "code",
   "execution_count": null,
   "metadata": {},
   "outputs": [],
   "source": [
    "imfiledir = '/Users/mojo/git_clone/dlanier/La_Machina_Fractal_Arien/images'\n",
    "imfilename = 'helloKeras.png'\n",
    "\n",
    "stats_dict, _ = get_image_file_stats(imfilename, imfiledir)\n",
    "s = '\"'\n",
    "for k in sorted(list(stats_dict.keys())):\n",
    "    s +=  k + '\",\"'\n",
    "    \n",
    "print('[',s[:-2] ,']')"
   ]
  },
  {
   "cell_type": "code",
   "execution_count": null,
   "metadata": {},
   "outputs": [],
   "source": [
    "FILE_EXT = ['.png']\n",
    "# im_dir = os.path.abspath('../images')\n",
    "images_stats_dataframe = get_images_stats_dataframe([im_dir], FILE_EXT)\n",
    "images_stats_dataframe"
   ]
  },
  {
   "cell_type": "code",
   "execution_count": null,
   "metadata": {},
   "outputs": [],
   "source": [
    "FILE_EXT = ['.png']\n",
    "# im_dir = os.path.abspath('../images')\n",
    "file_list = os.listdir(im_dir)\n",
    "png_files = []\n",
    "for maybe_file in file_list:\n",
    "    _, file_ext = os.path.splitext(maybe_file)\n",
    "    if file_ext in FILE_EXT:\n",
    "        show_image_stats(maybe_file, im_dir)"
   ]
  },
  {
   "cell_type": "code",
   "execution_count": null,
   "metadata": {},
   "outputs": [],
   "source": []
  },
  {
   "cell_type": "code",
   "execution_count": null,
   "metadata": {},
   "outputs": [],
   "source": [
    "# helloKeras.png\n",
    "imfiledir = '/Users/mojo/git_clone/dlanier/La_Machina_Fractal_Arien/images'\n",
    "imfilename = 'helloKeras.png'\n",
    "show_image_stats(imfilename, imfiledir)"
   ]
  },
  {
   "cell_type": "code",
   "execution_count": null,
   "metadata": {},
   "outputs": [],
   "source": [
    "imfiledir = '/Users/mojo/git_clone/dlanier/La_Machina_Fractal_Arien/images'\n",
    "imfilename = 'adecPwrAFxLFQNTAAAFD.png'\n",
    "im1 = Image.open(os.path.join(imfiledir, imfilename)).convert('RGBA')\n",
    "show_image_stats(imfilename, imfiledir)"
   ]
  },
  {
   "cell_type": "code",
   "execution_count": null,
   "metadata": {},
   "outputs": [],
   "source": [
    "# adecPwrAFxLFQNTAAADW.png\n",
    "imfiledir = '/Users/mojo/git_clone/dlanier/La_Machina_Fractal_Arien/images'\n",
    "imfilename = 'adecPwrAFxLFQNTAAADW.png'\n",
    "im2 = Image.open(os.path.join(imfiledir, imfilename)).convert('RGBA')\n",
    "show_image_stats(imfilename, imfiledir)"
   ]
  },
  {
   "cell_type": "code",
   "execution_count": null,
   "metadata": {},
   "outputs": [],
   "source": []
  },
  {
   "cell_type": "code",
   "execution_count": null,
   "metadata": {},
   "outputs": [],
   "source": [
    "alphaBlended1 = Image.blend(im1, im2, alpha=.5)\n",
    "display(grayscale(alphaBlended1))"
   ]
  },
  {
   "cell_type": "code",
   "execution_count": null,
   "metadata": {},
   "outputs": [],
   "source": [
    "alphaBlended2 = Image.blend(im1, im2, alpha=.8)\n",
    "display(grayscale(alphaBlended2))"
   ]
  },
  {
   "cell_type": "code",
   "execution_count": null,
   "metadata": {},
   "outputs": [],
   "source": []
  }
 ],
 "metadata": {
  "kernelspec": {
   "display_name": "Python 3",
   "language": "python",
   "name": "python3"
  },
  "language_info": {
   "codemirror_mode": {
    "name": "ipython",
    "version": 3
   },
   "file_extension": ".py",
   "mimetype": "text/x-python",
   "name": "python",
   "nbconvert_exporter": "python",
   "pygments_lexer": "ipython3",
   "version": "3.7.3"
  }
 },
 "nbformat": 4,
 "nbformat_minor": 2
}
