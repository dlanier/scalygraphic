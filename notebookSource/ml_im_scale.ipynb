{
 "cells": [
  {
   "cell_type": "markdown",
   "metadata": {},
   "source": [
    "# Image Scaling with Machine Learning\n",
    "\n",
    "## Parameters to generate a set of images for train-test-validate\n",
    "    * Over all parameters\n",
    "        * number of image sets\n",
    "        * sizes dict {name1: [h, w], name2: [h, w],...}\n",
    "        * run-limits {escape_boundry: diagonal_multiplier, max_iterations: int}\n",
    "        * coloring scheme - perhaps a function\n",
    "        * output file format\n",
    "        * ouput file naming format\n",
    "    * File system\n",
    "        * output directory {train: path, test: path, validate: path}\n",
    "        * run-log location\n",
    "    * Stocastic Choices:\n",
    "        * hashed dictionary - to reject duplicate images\n",
    "        * equation\n",
    "            * parameters\n",
    "        * rotation \n",
    "        * center point \n",
    "        * frame scale\n",
    "\n",
    "\n",
    "## Source structure\n",
    "    * main - opens run_parameters file - passes to module function\n",
    "    * selection and tracking module\n",
    "    * equations module\n",
    "    * iteration module\n",
    "    * matrix to image module"
   ]
  },
  {
   "cell_type": "code",
   "execution_count": 1,
   "metadata": {},
   "outputs": [],
   "source": [
    "p_all = {'number_of_image_sets': 10, \n",
    "         'sizes_dict': {'small': [128, 128], 'large': [1024, 1024]}, \n",
    "         'run_limits': {'esc_dist': 12, 'max_iterations': 64}, \n",
    "         'color': 'rgb', \n",
    "         'file_format': 'jpg', \n",
    "         'output_directory': './', \n",
    "         'run_directory': '../'}\n"
   ]
  },
  {
   "cell_type": "code",
   "execution_count": null,
   "metadata": {},
   "outputs": [],
   "source": []
  }
 ],
 "metadata": {
  "kernelspec": {
   "display_name": "Python 3",
   "language": "python",
   "name": "python3"
  },
  "language_info": {
   "codemirror_mode": {
    "name": "ipython",
    "version": 3
   },
   "file_extension": ".py",
   "mimetype": "text/x-python",
   "name": "python",
   "nbconvert_exporter": "python",
   "pygments_lexer": "ipython3",
   "version": "3.7.3"
  }
 },
 "nbformat": 4,
 "nbformat_minor": 2
}
