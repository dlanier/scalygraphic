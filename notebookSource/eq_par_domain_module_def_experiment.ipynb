{
 "cells": [
  {
   "cell_type": "markdown",
   "metadata": {},
   "source": [
    "# scalygraphic eq: Prototype equation-parameter-domain limitations\n",
    "    * EquationModule only contains equations (and is imported into AccessModule\n",
    "    * AccessModule provides parameter, domain-limitations & function handles\n",
    "## Equation iteration depends on degree (passing previous result)\n",
    "```python\n",
    "\"\"\" known parameter sets  \"\"\"\n",
    "p = [-0.035613765269, -1.218970084931, -0.709247225513, -1.087520531925, -0.290922668972]\n",
    "\"\"\" define the equation \"\"\"\n",
    "def nlc5(Z, p, Z0=None, ET=None):\n",
    "    \"\"\" \n",
    "    Args:\n",
    "        Z:    a real or complex number\n",
    "        p:    a real of complex number\n",
    "    Returns:\n",
    "        Z:    the result (complex)\n",
    "    \"\"\"\n",
    "    Z = Z**(2*Z**(p[0]**(Z**p[1])**(Z**p[2])**(Z**p[3])**(Z**p[4]) ))\n",
    "    return Z\n",
    "```\n",
    "## Equation handle, parameters and limitations dictionary obtained from second module\n",
    "\n",
    "```python\n",
    "# limitations dict default\n",
    "bounds_dict = {'CP_magnitude_limits': {'min': 0, 'max': 2}, \n",
    "               'ZM_limits': {'min': np.finfo(float).eps, 'max': 1}, \n",
    "               'theta_limits': {'min': 0, 'max':2 * np.pi }, 'eq_order': 0 }\n",
    "# par_set['eq_order'] = 2\n",
    "class EqDataAccess:\n",
    "    def __init__(self, space_time_event):\n",
    "        self.space_time_event = space_time_event\n",
    "    def get_domain_limits(self):\n",
    "        return self.bounds_dict\n",
    "    def get_known_parameters(self):\n",
    "        return self.known_parameters\n",
    "    \n",
    "class nlc5_dfp(EqDataAccess):\n",
    "    def __init__(self, run_parameters_file_name):\n",
    "        self.name = 'nlc5'\n",
    "        self.run_parameters_file_name = run_parameters_file_name\n",
    "```"
   ]
  },
  {
   "cell_type": "code",
   "execution_count": null,
   "metadata": {},
   "outputs": [],
   "source": []
  }
 ],
 "metadata": {
  "kernelspec": {
   "display_name": "Python 3",
   "language": "python",
   "name": "python3"
  },
  "language_info": {
   "codemirror_mode": {
    "name": "ipython",
    "version": 3
   },
   "file_extension": ".py",
   "mimetype": "text/x-python",
   "name": "python",
   "nbconvert_exporter": "python",
   "pygments_lexer": "ipython3",
   "version": "3.7.3"
  }
 },
 "nbformat": 4,
 "nbformat_minor": 2
}
