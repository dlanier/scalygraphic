{
 "cells": [
  {
   "cell_type": "markdown",
   "metadata": {},
   "source": [
    "# Image Scaling with Machine Learning\n",
    "\n",
    "## Parameters to generate a set of images for train-test-validate\n",
    "    * Over all parameters\n",
    "        * number of image sets\n",
    "        * sizes dict {name1: [h, w], name2: [h, w],...}\n",
    "        * run-limits {escape_boundry: diagonal_multiplier, max_iterations: int}\n",
    "        * coloring scheme - perhaps a function\n",
    "        * output file format\n",
    "        * ouput file naming format\n",
    "    * File system\n",
    "        * output directory {train: path, test: path, validate: path}\n",
    "        * run-log location\n",
    "    * Stocastic Choices:\n",
    "        * hashed dictionary - to reject duplicate images\n",
    "        * equation\n",
    "            * parameters\n",
    "        * rotation \n",
    "        * center point \n",
    "        * frame scale\n",
    "\n",
    "## Source structure\n",
    "    * main - opens run_parameters file - passes to module function\n",
    "    * selection and tracking module\n",
    "    * starting plain complex\n",
    "    * equations module\n",
    "    * iteration module\n",
    "    * matrix to image module\n",
    "    \n",
    "****\n",
    "[GitHub scalygraphic](https://github.com/dlanier/scalygraphic/) <br>\n",
    "### Background Code:\n",
    "[Add: random plane on domain](https://github.com/dlanier/scalygraphic/blob/master/scalygraphic/zplain.py) <br>\n",
    "\n",
    "#### Import & Expand *functions_demo.py*\n",
    "[FMF functions_demo](https://github.com/dlanier/FlyingMachineFractal/blob/master/pyreimpic/functions_demo_01.py) <br>\n",
    "#### Import & Trim itergators.py\n",
    "[FMF itergators](https://github.com/dlanier/FlyingMachineFractal/blob/master/src/itergataters.py) <br>\n",
    "#### Rewrite HSV coloring\n",
    "[FMF graphic_utility.py](https://github.com/dlanier/FlyingMachineFractal/blob/master/src/graphic_utility.py) <br>\n",
    "[FMF numcolorpy.py](https://github.com/dlanier/FlyingMachineFractal/blob/master/src/numcolorpy.py) <br>\n",
    "#### Reslove plain functions\n",
    "[FMF z_plane.py](https://github.com/dlanier/FlyingMachineFractal/blob/master/src/z_plane.py) <br>\n",
    "****\n",
    "    \n",
    "### Inception: Random Selection, Tracking and Generation - called from *main()*"
   ]
  },
  {
   "cell_type": "code",
   "execution_count": null,
   "metadata": {},
   "outputs": [],
   "source": [
    "p_all = {'number_of_image_sets': 10, \n",
    "         'sizes_dict': {'small': [128, 128], 'large': [1024, 1024]}, \n",
    "         'run_limits': {'esc_dist': 12, 'max_iterations': 64}, \n",
    "         'color': 'rgb', \n",
    "         'file_format': 'jpg', \n",
    "         'output_directory': './', \n",
    "         'run_directory': '../'}\n"
   ]
  },
  {
   "cell_type": "code",
   "execution_count": 1,
   "metadata": {},
   "outputs": [],
   "source": [
    "%matplotlib inline\n",
    "%reload_ext autoreload\n",
    "%autoreload 2"
   ]
  },
  {
   "cell_type": "markdown",
   "metadata": {},
   "source": [
    "# Clickety Clack:\n",
    "## production_parameters: *output_dir_name, image_sizes_dict, number_of_sets*\n",
    "### get a random eq & p with a random domain\n",
    "#### check uniquness\n",
    "### get a random color map\n",
    "## Iterate: run, write, report"
   ]
  },
  {
   "cell_type": "code",
   "execution_count": 2,
   "metadata": {},
   "outputs": [],
   "source": [
    "import os\n",
    "import sys\n",
    "import hashlib\n",
    "import numpy as np\n",
    "\n",
    "sys.path.insert(0, '../src/')\n",
    "from eq_iter import get_rand_eq_p_set\n",
    "import zplain as zp"
   ]
  },
  {
   "cell_type": "markdown",
   "metadata": {},
   "source": [
    "## get a random function and parameter set"
   ]
  },
  {
   "cell_type": "code",
   "execution_count": 3,
   "metadata": {},
   "outputs": [
    {
     "name": "stdout",
     "output_type": "stream",
     "text": [
      "\n",
      "\t decPwrAFx\n",
      "0j\n",
      "inf\n",
      "(1+1j)\n",
      "(0.16528862469723804+1.9184157694253376j)\n",
      "\n",
      "\t RoyalZ\n",
      "0j\n",
      "inf\n",
      "(1+1j)\n",
      "(0.2923148390749084-0.3868784485455075j)\n",
      "\n",
      "\t ItchicuPpwrF\n",
      "0j\n",
      "0j\n",
      "(1+1j)\n",
      "(-25.981292978230876-33.45441127947091j)\n"
     ]
    }
   ],
   "source": [
    "n_trys = 3\n",
    "for k in range(n_trys):\n",
    "    fcn_name, eq, p = get_rand_eq_p_set()\n",
    "    print('\\n\\t', fcn_name)\n",
    "    try:\n",
    "        Z = 0.0+0.0j\n",
    "        print(Z)\n",
    "        print(eq(Z,p))\n",
    "        Z = 1.0+1.0j\n",
    "        print(Z)\n",
    "        print(eq(Z,p))\n",
    "    except:\n",
    "        print('Crash crash ')\n",
    "        break\n",
    "        pass"
   ]
  },
  {
   "cell_type": "markdown",
   "metadata": {},
   "source": [
    "## get a random complex domain"
   ]
  },
  {
   "cell_type": "code",
   "execution_count": 4,
   "metadata": {},
   "outputs": [],
   "source": [
    "# from zplain import get_complex_frame, complex_frame_dict_to_string, get_frame_from_dict\n",
    "# import zplain as zp"
   ]
  },
  {
   "cell_type": "code",
   "execution_count": 5,
   "metadata": {},
   "outputs": [
    {
     "name": "stdout",
     "output_type": "stream",
     "text": [
      "upper_left:3.9692+3.2649j\ttop_center:3.2687+2.5489j\tupper_right:2.5682+1.8330j\n",
      "left_center:2.9669+4.2456j\tcenter_point:4.5327+7.0593j\tright_center:1.5659+2.8137j\n",
      "bottom_left:1.9645+5.2263j\tbottom_center:1.2640+4.5103j\tbottom_right:0.5635+3.7944j\n",
      "\n"
     ]
    }
   ],
   "source": [
    "# CP_magnitude_limits =   {'min': 0, 'max': 10}\n",
    "# ZM_limits =             {'min': np.finfo(float).eps, 'max': 1}\n",
    "# theta_limits =          {'min': 0, 'max':2 * np.pi}\n",
    "\n",
    "def get_random_domain(h, w, bounds_dict=None):\n",
    "    if bounds_dict is None:\n",
    "        CP_magnitude_limits =   {'min': 0, 'max': 7}\n",
    "        ZM_limits =             {'min': np.finfo(float).eps, 'max': 2}\n",
    "        theta_limits =          {'min': 0, 'max':2 * np.pi}\n",
    "    else:\n",
    "        CP_magnitude_limits =   bounds_dict['CP_magnitude_limits']\n",
    "        ZM_limits =             bounds_dict['ZM_limits']\n",
    "        theta_limits =          bounds_dict['theta_limits']\n",
    "\n",
    "    def_dict = {'n_rows': h, 'n_cols': w}\n",
    "    r = np.random.uniform(low=0.0, high=2*np.pi) * 0.0+1.0j\n",
    "    m = np.random.uniform(low=CP_magnitude_limits['min'], high=CP_magnitude_limits['max'])\n",
    "    def_dict['center_point'] = m*np.exp(r)\n",
    "    def_dict['zoom'] = np.random.uniform(low=ZM_limits['min'], high=ZM_limits['max'])\n",
    "    def_dict['theta'] = np.random.uniform(low=theta_limits['min'], high=theta_limits['max'])\n",
    "    \n",
    "    return def_dict\n",
    "\n",
    "N_DEC=4\n",
    "\n",
    "domain_dict = get_random_domain(h=7, w=5)\n",
    "f = zp.get_frame_from_dict(domain_dict)\n",
    "s = zp.complex_frame_dict_to_string(f,N_DEC)\n",
    "print(s)"
   ]
  },
  {
   "cell_type": "code",
   "execution_count": 6,
   "metadata": {},
   "outputs": [
    {
     "name": "stdout",
     "output_type": "stream",
     "text": [
      "52874b655dc5aa4f247c6795cb58baaeda02c400aa0cd64293686b449ddbffd7\n"
     ]
    }
   ],
   "source": [
    "def sha256sum(s):\n",
    "    \"\"\"\n",
    "    \"\"\"\n",
    "    h  = hashlib.sha256()\n",
    "    h.update(bytes(s, 'ascii'))\n",
    "    \n",
    "    return h.hexdigest()\n",
    "\n",
    "def hash_parameters(domain_dict, fcn_name, p):\n",
    "    \"\"\" Usage: hash_key = hash_parameters(domain_dict, fcn_name, p)\n",
    "    \"\"\"\n",
    "    N_DEC = 15\n",
    "    f = zp.get_frame_from_dict(domain_dict)\n",
    "    s = zp.complex_frame_dict_to_string(f, N_DEC) + '\\n' + fcn_name\n",
    "    if isinstance(p, list):\n",
    "        p_str = ''\n",
    "        for p_n in p:\n",
    "            p_str += zp.complex_to_string(p_n, N_DEC)\n",
    "    else:\n",
    "        p_str = zp.complex_to_string(p, N_DEC)\n",
    "    \n",
    "    s += p_str\n",
    "    \n",
    "    return sha256sum(s)\n",
    "\n",
    "\n",
    "\n",
    "\n",
    "fcn_name, eq, p = get_rand_eq_p_set()\n",
    "domain_dict = get_random_domain(h=7, w=5)\n",
    "\n",
    "hash_key = hash_parameters(domain_dict, fcn_name, p)\n",
    "print(hash_key)"
   ]
  },
  {
   "cell_type": "code",
   "execution_count": 7,
   "metadata": {},
   "outputs": [
    {
     "name": "stdout",
     "output_type": "stream",
     "text": [
      "True False\n",
      "0.000+1.000j 0.000+0.000j\n"
     ]
    }
   ],
   "source": [
    "z = 0.0+1.0j\n",
    "r = 0.0\n",
    "print(isinstance(z, complex), isinstance(r, complex))\n",
    "print(zp.complex_to_string(z),zp.complex_to_string(r))"
   ]
  },
  {
   "cell_type": "code",
   "execution_count": null,
   "metadata": {},
   "outputs": [],
   "source": []
  },
  {
   "cell_type": "code",
   "execution_count": null,
   "metadata": {},
   "outputs": [],
   "source": []
  },
  {
   "cell_type": "code",
   "execution_count": null,
   "metadata": {},
   "outputs": [],
   "source": []
  },
  {
   "cell_type": "code",
   "execution_count": null,
   "metadata": {},
   "outputs": [],
   "source": []
  },
  {
   "cell_type": "code",
   "execution_count": 9,
   "metadata": {},
   "outputs": [],
   "source": [
    "import inspect\n",
    "import deg_0_ddeq\n",
    "\n",
    "all_functions = inspect.getmembers(deg_0_ddeq, inspect.isfunction)\n"
   ]
  },
  {
   "cell_type": "code",
   "execution_count": 12,
   "metadata": {},
   "outputs": [
    {
     "data": {
      "text/plain": [
       "(list, tuple)"
      ]
     },
     "execution_count": 12,
     "metadata": {},
     "output_type": "execute_result"
    }
   ],
   "source": [
    "type(all_functions), type(all_functions[0])"
   ]
  },
  {
   "cell_type": "code",
   "execution_count": 13,
   "metadata": {},
   "outputs": [],
   "source": [
    "af_dict = dict(all_functions)"
   ]
  },
  {
   "cell_type": "code",
   "execution_count": 14,
   "metadata": {},
   "outputs": [
    {
     "name": "stdout",
     "output_type": "stream",
     "text": [
      "IslaLace <class 'function'>\n",
      "ItchicuPpwrF <class 'function'>\n",
      "Nautuliz <class 'function'>\n",
      "RoyalZ <class 'function'>\n",
      "T_Spake_Z <class 'function'>\n",
      "decPwrAFx <class 'function'>\n",
      "dreadSkull <class 'function'>\n",
      "starfish_ish <class 'function'>\n",
      "starfish_ish_II <class 'function'>\n"
     ]
    }
   ],
   "source": [
    "for k, v in af_dict.items():\n",
    "    print(k, type(v))"
   ]
  },
  {
   "cell_type": "code",
   "execution_count": null,
   "metadata": {},
   "outputs": [],
   "source": []
  },
  {
   "cell_type": "code",
   "execution_count": null,
   "metadata": {},
   "outputs": [],
   "source": []
  },
  {
   "cell_type": "code",
   "execution_count": null,
   "metadata": {},
   "outputs": [],
   "source": []
  },
  {
   "cell_type": "code",
   "execution_count": null,
   "metadata": {},
   "outputs": [],
   "source": []
  },
  {
   "cell_type": "code",
   "execution_count": null,
   "metadata": {},
   "outputs": [],
   "source": []
  },
  {
   "cell_type": "code",
   "execution_count": null,
   "metadata": {},
   "outputs": [],
   "source": []
  },
  {
   "cell_type": "code",
   "execution_count": null,
   "metadata": {},
   "outputs": [],
   "source": []
  },
  {
   "cell_type": "code",
   "execution_count": null,
   "metadata": {},
   "outputs": [],
   "source": []
  },
  {
   "cell_type": "code",
   "execution_count": null,
   "metadata": {},
   "outputs": [],
   "source": []
  },
  {
   "cell_type": "code",
   "execution_count": null,
   "metadata": {},
   "outputs": [],
   "source": []
  },
  {
   "cell_type": "code",
   "execution_count": null,
   "metadata": {},
   "outputs": [],
   "source": []
  },
  {
   "cell_type": "code",
   "execution_count": null,
   "metadata": {},
   "outputs": [],
   "source": []
  },
  {
   "cell_type": "code",
   "execution_count": null,
   "metadata": {},
   "outputs": [],
   "source": []
  },
  {
   "cell_type": "code",
   "execution_count": null,
   "metadata": {},
   "outputs": [],
   "source": []
  },
  {
   "cell_type": "code",
   "execution_count": null,
   "metadata": {},
   "outputs": [],
   "source": []
  },
  {
   "cell_type": "code",
   "execution_count": null,
   "metadata": {},
   "outputs": [],
   "source": []
  },
  {
   "cell_type": "code",
   "execution_count": null,
   "metadata": {},
   "outputs": [],
   "source": []
  }
 ],
 "metadata": {
  "kernelspec": {
   "display_name": "Python 3",
   "language": "python",
   "name": "python3"
  },
  "language_info": {
   "codemirror_mode": {
    "name": "ipython",
    "version": 3
   },
   "file_extension": ".py",
   "mimetype": "text/x-python",
   "name": "python",
   "nbconvert_exporter": "python",
   "pygments_lexer": "ipython3",
   "version": "3.7.3"
  }
 },
 "nbformat": 4,
 "nbformat_minor": 2
}
