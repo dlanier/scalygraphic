{
 "cells": [
  {
   "cell_type": "markdown",
   "metadata": {},
   "source": [
    "# Image Scaling with Machine Learning\n",
    "\n",
    "## Parameters to generate a set of images for train-test-validate\n",
    "    * Over all parameters\n",
    "        * number of image sets\n",
    "        * sizes dict {name1: [h, w], name2: [h, w],...}\n",
    "        * run-limits {escape_boundry: diagonal_multiplier, max_iterations: int}\n",
    "        * coloring scheme - perhaps a function\n",
    "        * output file format\n",
    "        * ouput file naming format\n",
    "    * File system\n",
    "        * output directory {train: path, test: path, validate: path}\n",
    "        * run-log location\n",
    "    * Stocastic Choices:\n",
    "        * hashed dictionary - to reject duplicate images\n",
    "        * equation\n",
    "            * parameters\n",
    "        * rotation \n",
    "        * center point \n",
    "        * frame scale\n",
    "\n",
    "## Source structure\n",
    "    * main - opens run_parameters file - passes to module function\n",
    "    * selection and tracking module\n",
    "    * starting plain complex\n",
    "    * equations module\n",
    "    * iteration module\n",
    "    * matrix to image module\n",
    "    \n",
    "****\n",
    "[GitHub scalygraphic](https://github.com/dlanier/scalygraphic/) <br>\n",
    "### Background Code:\n",
    "[Add: random plane on domain](https://github.com/dlanier/scalygraphic/blob/master/scalygraphic/zplain.py) <br>\n",
    "\n",
    "#### Import & Expand *functions_demo.py*\n",
    "[FMF functions_demo](https://github.com/dlanier/FlyingMachineFractal/blob/master/pyreimpic/functions_demo_01.py) <br>\n",
    "#### Import & Trim itergators.py\n",
    "[FMF itergators](https://github.com/dlanier/FlyingMachineFractal/blob/master/src/itergataters.py) <br>\n",
    "#### Rewrite HSV coloring\n",
    "[FMF graphic_utility.py](https://github.com/dlanier/FlyingMachineFractal/blob/master/src/graphic_utility.py) <br>\n",
    "[FMF numcolorpy.py](https://github.com/dlanier/FlyingMachineFractal/blob/master/src/numcolorpy.py) <br>\n",
    "#### Reslove plain functions\n",
    "[FMF z_plane.py](https://github.com/dlanier/FlyingMachineFractal/blob/master/src/z_plane.py) <br>\n",
    "****\n",
    "    \n",
    "### Inception: Random Selection, Tracking and Generation - called from *main()*"
   ]
  },
  {
   "cell_type": "code",
   "execution_count": null,
   "metadata": {},
   "outputs": [],
   "source": [
    "p_all = {'number_of_image_sets': 10, \n",
    "         'sizes_dict': {'small': [128, 128], 'large': [1024, 1024]}, \n",
    "         'run_limits': {'esc_dist': 12, 'max_iterations': 64}, \n",
    "         'color': 'rgb', \n",
    "         'file_format': 'jpg', \n",
    "         'output_directory': './', \n",
    "         'run_directory': '../'}\n"
   ]
  },
  {
   "cell_type": "code",
   "execution_count": null,
   "metadata": {},
   "outputs": [],
   "source": [
    "%matplotlib inline\n",
    "%reload_ext autoreload\n",
    "%autoreload 2"
   ]
  },
  {
   "cell_type": "markdown",
   "metadata": {},
   "source": [
    "# Clickety Clack:\n",
    "## production_parameters: *output_dir_name, image_sizes_dict, number_of_sets*\n",
    "### get a random eq & p with a random domain\n",
    "#### check uniquness\n",
    "### get a random color map\n",
    "## Iterate: run, write, report"
   ]
  },
  {
   "cell_type": "code",
   "execution_count": 1,
   "metadata": {},
   "outputs": [],
   "source": [
    "import os\n",
    "import sys\n",
    "import numpy as np\n",
    "\n",
    "sys.path.insert(0, '../src/')\n",
    "from eq_iter import get_rand_eq_p_set\n",
    "import zplain as zp"
   ]
  },
  {
   "cell_type": "markdown",
   "metadata": {},
   "source": [
    "## get a random function and parameter set"
   ]
  },
  {
   "cell_type": "code",
   "execution_count": 2,
   "metadata": {},
   "outputs": [
    {
     "name": "stdout",
     "output_type": "stream",
     "text": [
      "\n",
      "\t starfish_ish\n",
      "0j\n",
      "inf\n",
      "(1+1j)\n",
      "(0.3002442621927148-0.5556059533972527j)\n",
      "\n",
      "\t dreadSkull\n",
      "0j\n",
      "inf\n",
      "(1+1j)\n",
      "(-0.58826341452304+0.048566039686071j)\n",
      "\n",
      "\t T_Spake_Z\n",
      "0j\n",
      "[1.92846051108342, 2.27919841968635, 3.37327534248407, 2.17984103218476]\n",
      "(1+1j)\n",
      "[1.92846051108342, 2.27919841968635, 3.37327534248407, 2.17984103218476]\n"
     ]
    }
   ],
   "source": [
    "n_trys = 3\n",
    "for k in range(n_trys):\n",
    "    fcn_name, eq, p = get_rand_eq_p_set()\n",
    "    print('\\n\\t', fcn_name)\n",
    "    try:\n",
    "        Z = 0.0+0.0j\n",
    "        print(Z)\n",
    "        print(eq(Z,p))\n",
    "        Z = 1.0+1.0j\n",
    "        print(Z)\n",
    "        print(eq(Z,p))\n",
    "    except:\n",
    "        print('Crash crash ')\n",
    "        break\n",
    "        pass"
   ]
  },
  {
   "cell_type": "markdown",
   "metadata": {},
   "source": [
    "## get a random complex domain"
   ]
  },
  {
   "cell_type": "code",
   "execution_count": 3,
   "metadata": {},
   "outputs": [],
   "source": [
    "# from zplain import get_complex_frame, complex_frame_dict_to_string, get_frame_from_dict\n",
    "# import zplain as zp"
   ]
  },
  {
   "cell_type": "code",
   "execution_count": 25,
   "metadata": {},
   "outputs": [
    {
     "name": "stdout",
     "output_type": "stream",
     "text": [
      "upper_left:8.4071+1.0947j\ttop_center:5.1490-0.9071j\tupper_right:1.8908-2.9090j\n",
      "left_center:5.6045+5.6561j\tcenter_point:4.6928+7.3085j\tright_center:-0.9118+1.6524j\n",
      "bottom_left:2.8020+10.2175j\tbottom_center:-0.4562+8.2157j\tbottom_right:-3.7144+6.2138j\n",
      "\n"
     ]
    }
   ],
   "source": [
    "# CP_magnitude_limits =   {'min': 0, 'max': 10}\n",
    "# ZM_limits =             {'min': np.finfo(float).eps, 'max': 1}\n",
    "# theta_limits =          {'min': 0, 'max':2 * np.pi}\n",
    "\n",
    "def get_random_domain(h, w, bounds_dict=None):\n",
    "    if bounds_dict is None:\n",
    "        CP_magnitude_limits =   {'min': 0, 'max': 7}\n",
    "        ZM_limits =             {'min': np.finfo(float).eps, 'max': 2}\n",
    "        theta_limits =          {'min': 0, 'max':2 * np.pi}\n",
    "    else:\n",
    "        CP_magnitude_limits =   bounds_dict['CP_magnitude_limits']\n",
    "        ZM_limits =             bounds_dict['ZM_limits']\n",
    "        theta_limits =          bounds_dict['theta_limits']\n",
    "\n",
    "    def_dict = {'n_rows': h, 'n_cols': w}\n",
    "    r = np.random.uniform(low=0.0, high=2*np.pi) * 0.0+1.0j\n",
    "    m = np.random.uniform(low=CP_magnitude_limits['min'], high=CP_magnitude_limits['max'])\n",
    "    def_dict['center_point'] = m*np.exp(r)\n",
    "    def_dict['zoom'] = np.random.uniform(low=ZM_limits['min'], high=ZM_limits['max'])\n",
    "    def_dict['theta'] = np.random.uniform(low=theta_limits['min'], high=theta_limits['max'])\n",
    "    \n",
    "    return def_dict\n",
    "\n",
    "N_DEC=4\n",
    "\n",
    "def_dict_II = get_random_domain(h=7, w=5)\n",
    "f = zp.get_frame_from_dict(def_dict_II)\n",
    "s = zp.complex_frame_dict_to_string(f,N_DEC)\n",
    "print(s)"
   ]
  },
  {
   "cell_type": "code",
   "execution_count": 36,
   "metadata": {},
   "outputs": [
    {
     "name": "stdout",
     "output_type": "stream",
     "text": [
      "0ef670f4061d5b9c124b136cf13d8574860ac462e797b3263daf24f00e525f76\n"
     ]
    }
   ],
   "source": [
    "import hashlib\n",
    "\n",
    "def sha256sum(s):\n",
    "    h  = hashlib.sha256()\n",
    "    h.update(bytes(s, 'ascii'))\n",
    "    return h.hexdigest()\n",
    "\n",
    "fcn_name, eq, p = get_rand_eq_p_set()\n",
    "\n",
    "def_dict_II = get_random_domain(h=7, w=5)\n",
    "f = zp.get_frame_from_dict(def_dict_II)\n",
    "s = zp.complex_frame_dict_to_string(f,N_DEC)\n",
    "s += '\\n' + fcn_name + '{}'.format(p)\n",
    "set_sig = sha256sum(s)\n",
    "print(set_sig)\n",
    "# wasie = '857810f2e13990d6f57f15e6fa1d3817178810c1fff03d13501b6dfd5ce58dc9'"
   ]
  },
  {
   "cell_type": "code",
   "execution_count": null,
   "metadata": {},
   "outputs": [],
   "source": [
    "f_name = '/Users/mojo/requirements_Jun_16_19.txt'\n",
    "\n",
    "h = sha256sum(s)\n",
    "print(len(h), '\\n', h)"
   ]
  },
  {
   "cell_type": "code",
   "execution_count": null,
   "metadata": {},
   "outputs": [],
   "source": [
    "import numpy as np\n",
    "np.finfo(float).max"
   ]
  },
  {
   "cell_type": "code",
   "execution_count": null,
   "metadata": {},
   "outputs": [],
   "source": []
  },
  {
   "cell_type": "code",
   "execution_count": null,
   "metadata": {},
   "outputs": [],
   "source": []
  },
  {
   "cell_type": "code",
   "execution_count": null,
   "metadata": {},
   "outputs": [],
   "source": []
  }
 ],
 "metadata": {
  "kernelspec": {
   "display_name": "Python 3",
   "language": "python",
   "name": "python3"
  },
  "language_info": {
   "codemirror_mode": {
    "name": "ipython",
    "version": 3
   },
   "file_extension": ".py",
   "mimetype": "text/x-python",
   "name": "python",
   "nbconvert_exporter": "python",
   "pygments_lexer": "ipython3",
   "version": "3.7.3"
  }
 },
 "nbformat": 4,
 "nbformat_minor": 2
}
