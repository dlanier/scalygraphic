{
 "cells": [
  {
   "cell_type": "markdown",
   "metadata": {},
   "source": [
    "# Image Scaling with Machine Learning\n",
    "## Inputs:\n",
    "    1) Number of image pairs\n",
    "    2) dictionary of {size_label_A: [pixels_high, pixels_wide], \n",
    "                      size_label_B: [pixels_high, pixels_wide]}\n",
    "    3) run directory\n",
    "    4) output directory\n",
    "    5) existing sets parameters.json (None for first run)\n",
    "***\n",
    "## Parameters to generate a set of images for train-test-validate\n",
    "    * Over all parameters\n",
    "        * number of image sets\n",
    "        * sizes dict {name1: [h, w], name2: [h, w],...}\n",
    "        * run-limits {escape_boundry: diagonal_multiplier, max_iterations: int}\n",
    "        * coloring scheme - perhaps a function\n",
    "        * output file format\n",
    "        * ouput file naming format\n",
    "    * File system\n",
    "        * output directory {train: path, test: path, validate: path}\n",
    "        * run-log location\n",
    "    * Stocastic Choices:\n",
    "        * hashed dictionary - to reject duplicate images\n",
    "        * equation\n",
    "            * parameters\n",
    "        * rotation \n",
    "        * center point \n",
    "        * frame scale\n",
    "\n",
    "## Source structure\n",
    "    * main - opens run_parameters file - passes to module function\n",
    "    * selection and tracking module\n",
    "    * starting plain complex\n",
    "    * equations module\n",
    "    * iteration module\n",
    "    * matrix to image module\n",
    "***\n",
    "[PIL image](https://pillow.readthedocs.io/en/5.1.x/reference/Image.html#the-image-class) <br>\n",
    "****\n",
    "[GitHub scalygraphic](https://github.com/dlanier/scalygraphic/) <br>\n",
    "### Background Code:\n",
    "[Add: random plane on domain](https://github.com/dlanier/scalygraphic/blob/master/scalygraphic/zplain.py) <br>\n",
    "\n",
    "#### Import & Expand *functions_demo.py*\n",
    "[FMF functions_demo](https://github.com/dlanier/FlyingMachineFractal/blob/master/pyreimpic/functions_demo_01.py) <br>\n",
    "#### Import & Trim itergators.py\n",
    "[FMF itergators](https://github.com/dlanier/FlyingMachineFractal/blob/master/src/itergataters.py) <br>\n",
    "#### Rewrite HSV coloring\n",
    "[FMF graphic_utility.py](https://github.com/dlanier/FlyingMachineFractal/blob/master/src/graphic_utility.py) <br>\n",
    "[FMF numcolorpy.py](https://github.com/dlanier/FlyingMachineFractal/blob/master/src/numcolorpy.py) <br>\n",
    "#### Reslove plain functions\n",
    "[FMF z_plane.py](https://github.com/dlanier/FlyingMachineFractal/blob/master/src/z_plane.py) <br>\n",
    "****\n",
    "    \n",
    "### Inception: Random Selection, Tracking and Generation - called from *main()*"
   ]
  },
  {
   "cell_type": "code",
   "execution_count": 1,
   "metadata": {},
   "outputs": [],
   "source": [
    "%matplotlib inline\n",
    "%reload_ext autoreload\n",
    "%autoreload 2"
   ]
  },
  {
   "cell_type": "code",
   "execution_count": 2,
   "metadata": {},
   "outputs": [],
   "source": [
    "import warnings\n",
    "warnings.filterwarnings('ignore')"
   ]
  },
  {
   "cell_type": "markdown",
   "metadata": {},
   "source": [
    "# Clickety Clack:\n",
    "## production_parameters: *output_dir_name, image_sizes_dict, number_of_sets*\n",
    "### get a random eq & p with a random domain\n",
    "#### check uniquness\n",
    "### get a random color map\n",
    "## Iterate: run, write, report"
   ]
  },
  {
   "cell_type": "code",
   "execution_count": 3,
   "metadata": {},
   "outputs": [],
   "source": [
    "#    ../src/im_scale_products.py\n",
    "import os\n",
    "import sys\n",
    "import time\n",
    "import hashlib\n",
    "import inspect\n",
    "import numpy as np\n",
    "import PIL\n",
    "\n",
    "sys.path.insert(0, '../src/')\n",
    "\n",
    "import zplain as zp\n",
    "import eq_iter\n",
    "import deg_0_ddeq\n",
    "import numcolorpy as ncp\n",
    "\n",
    "\"\"\"     Constants (lookups):\n",
    "\n",
    "        EQUS_DICT is an enumerated dictionary of the functions in module deg_0_ddeq\n",
    "        EQUS_DICT_NAMED_IDX is a dictionary - name: number index of EQUS_DICT \n",
    "\"\"\"\n",
    "EQUS_DICT = {k: v for k, v in enumerate(inspect.getmembers(deg_0_ddeq, inspect.isfunction))}\n",
    "EQUS_DICT_NAMED_IDX = {v[0]: k for k, v in EQUS_DICT.items()}\n",
    "\n",
    "def get_rand_eq_p_set():\n",
    "    \"\"\" get a random equation and parameter set from the deg_0_ddeq module\n",
    "    (No Args:)\n",
    "    Returns:\n",
    "        tuple:      (function_name, function_handle, parameter_set)\n",
    "    \"\"\"\n",
    "    n = np.random.randint(0,len(EQUS_DICT),1)\n",
    "    fcn_name, fcn = EQUS_DICT[n[0]]\n",
    "    p = fcn(0.0, None)\n",
    "\n",
    "    return (fcn_name, fcn, p)\n",
    "\n",
    "def get_eq_by_name(fcn_name):\n",
    "    \"\"\" Usage: function_handle = get_eq_by_name(fcn_name)\n",
    "    Args:\n",
    "        name of a function in deg_0_ddeq\n",
    "    \"\"\"\n",
    "    if fcn_name in EQUS_DICT_NAMED_IDX:\n",
    "        return EQUS_DICT[EQUS_DICT_NAMED_IDX[fcn_name]][1]\n",
    "    else:\n",
    "        return None\n",
    "    \n",
    "def get_random_domain(bounds_dict=None):\n",
    "    \"\"\" Usage: \n",
    "    domain_dict = get_random_domain(h, w, bounds_dict)\n",
    "    \n",
    "    Args:\n",
    "        bounds_dict:    min - max limits for keys eg.\n",
    "                            CP_magnitude_limits = {'min': 0, 'max': 7}\n",
    "                            ZM_limits           = {'min': np.finfo(float).eps, 'max': 2}\n",
    "                            theta_limits        = {'min': 0, 'max':2 * np.pi}\n",
    "                        \n",
    "    Returns:\n",
    "        domain_dict:    with keys:\n",
    "                            center_point\n",
    "                            zoom\n",
    "                            theta\n",
    "    \"\"\"\n",
    "    domain_dict = {}\n",
    "    if bounds_dict is None:\n",
    "        CP_magnitude_limits =   {'min': 0, 'max': 2}\n",
    "        ZM_limits =             {'min': np.finfo(float).eps, 'max': 1}\n",
    "        theta_limits =          {'min': 0, 'max':2 * np.pi}\n",
    "    else:\n",
    "        CP_magnitude_limits =   bounds_dict['CP_magnitude_limits']\n",
    "        ZM_limits =             bounds_dict['ZM_limits']\n",
    "        theta_limits =          bounds_dict['theta_limits']\n",
    "\n",
    "    r = np.random.uniform(low=0.0, high=2*np.pi) * 0.0+1.0j\n",
    "    m = np.random.uniform(low=CP_magnitude_limits['min'], high=CP_magnitude_limits['max'])\n",
    "    domain_dict['center_point'] = m*np.exp(r)\n",
    "    domain_dict['zoom'] = np.random.uniform(low=ZM_limits['min'], high=ZM_limits['max'])\n",
    "    domain_dict['theta'] = np.random.uniform(low=theta_limits['min'], high=theta_limits['max'])\n",
    "    \n",
    "    return domain_dict\n",
    "\n",
    "def sha256sum(s):\n",
    "    \"\"\" Usage:  hash_key = sha256sum(input_str)\n",
    "    \"\"\"\n",
    "    h  = hashlib.sha256()\n",
    "    h.update(bytes(s, 'ascii'))\n",
    "    \n",
    "    return h.hexdigest()\n",
    "\n",
    "def hash_parameters(domain_dict, fcn_name, p):\n",
    "    \"\"\" Usage: hash_key = hash_parameters(domain_dict, fcn_name, p)\n",
    "    \"\"\"\n",
    "    N_DEC = 15\n",
    "    f = zp.get_frame_from_dict(domain_dict)\n",
    "    s = zp.complex_frame_dict_to_string(f, N_DEC) + '\\n' + fcn_name\n",
    "    if isinstance(p, list):\n",
    "        p_str = ''\n",
    "        for p_n in p:\n",
    "            p_str += zp.complex_to_string(p_n, N_DEC)\n",
    "    else:\n",
    "        p_str = zp.complex_to_string(p, N_DEC)\n",
    "    \n",
    "    s += p_str\n",
    "    \n",
    "    return sha256sum(s)\n",
    "\n",
    "def get_im(ET, Z, Z0):\n",
    "    \"\"\" Usage: I = get_im(ET, Z, Z0)\n",
    "    \"\"\"\n",
    "    Zd, Zr, ETn = ncp.etg_norm(Z0, Z, ET)\n",
    "\n",
    "    A = np.zeros((domain_dict['n_rows'],domain_dict['n_cols'],3))\n",
    "    A[:,:,0] += ETn     # Hue\n",
    "    A[:,:,1] += Zr      # Saturation\n",
    "    A[:,:,2] += Zd      # Value\n",
    "    I = PIL.Image.fromarray(np.uint8(A * 255), 'HSV').convert('RGB')\n",
    "    \n",
    "    return I\n",
    "\n",
    "def get_gray_im(ET, Z, Z0, et_gray=False):\n",
    "    \"\"\" Usage: I = get_im(ET, Z, Z0)\n",
    "    \"\"\"\n",
    "    Zd, Zr, ETn = ncp.etg_norm(Z0, Z, ET)\n",
    "    \n",
    "    if et_gray:\n",
    "        I = PIL.Image.fromarray(np.uint8(ETn * 255), 'L')\n",
    "    else:\n",
    "        I = PIL.Image.fromarray(np.uint8(Zd * 255), 'L')\n",
    "    \n",
    "    return I\n",
    "\n",
    "def now_name(prefi_str=None, suffi_str=None):\n",
    "    \"\"\" get a human readable time stamp name \"\"\"\n",
    "    t0 = time.time()\n",
    "    t_dec = t0 - np.floor(t0)\n",
    "    ahora_nombre = time.strftime(\"%a_%d_%b_%Y_%H_%M_%S\", time.localtime()) \n",
    "    if prefi_str is None: prefi_str = ''\n",
    "    if suffi_str is None: suffi_str = ''\n",
    "        \n",
    "    return prefi_str + '_' + ahora_nombre + suffi_str\n"
   ]
  },
  {
   "cell_type": "markdown",
   "metadata": {},
   "source": [
    "# Demos:\n",
    "\n",
    "****\n",
    "## get a random function and parameter set"
   ]
  },
  {
   "cell_type": "code",
   "execution_count": 4,
   "metadata": {},
   "outputs": [
    {
     "name": "stdout",
     "output_type": "stream",
     "text": [
      "\n",
      "\t ItchicuPpwrF\n",
      "0j\n",
      "0j\n",
      "(1+1j)\n",
      "(-25.981292978230876-33.45441127947091j)\n",
      "\n",
      "\t starfish_ish_II\n",
      "0j\n",
      "inf\n",
      "(1+1j)\n",
      "(0.32846448762413555-0.5416832056787281j)\n",
      "\n",
      "\t dreadSkull\n",
      "0j\n",
      "inf\n",
      "(1+1j)\n",
      "(-0.58826341452304+0.048566039686071j)\n"
     ]
    }
   ],
   "source": [
    "n_trys = 3\n",
    "\n",
    "for k in range(n_trys):\n",
    "    fcn_name, eq, p = get_rand_eq_p_set()\n",
    "    \n",
    "    print('\\n\\t', fcn_name)\n",
    "    try:\n",
    "        Z = 0.0+0.0j\n",
    "        print(Z)\n",
    "        print(eq(Z,p))\n",
    "        Z = 1.0+1.0j\n",
    "        print(Z)\n",
    "        print(eq(Z,p))\n",
    "    except:\n",
    "        print('Crash crash ')\n",
    "        break\n",
    "        pass"
   ]
  },
  {
   "cell_type": "markdown",
   "metadata": {},
   "source": [
    "## get a random complex domain"
   ]
  },
  {
   "cell_type": "code",
   "execution_count": 5,
   "metadata": {},
   "outputs": [
    {
     "name": "stdout",
     "output_type": "stream",
     "text": [
      "upper_left:4.3024+6.6374j\ttop_center:5.2467+2.1916j\tupper_right:6.1909-2.2541j\n",
      "left_center:-0.1434+5.6931j\tcenter_point:1.6018+2.4947j\tright_center:1.7452-3.1984j\n",
      "bottom_left:-4.5891+4.7488j\tbottom_center:-3.6448+0.3031j\tbottom_right:-2.7006-4.1427j\n",
      " \n",
      "                                 (from dictionary)\n",
      "                            center_point: 0.801+1.247j\n",
      "                                    zoom: 0\n",
      "                                   theta: 4\n"
     ]
    }
   ],
   "source": [
    "N_DEC=4\n",
    "\n",
    "domain_dict = get_random_domain()\n",
    "f = zp.get_frame_from_dict(domain_dict)\n",
    "s = zp.complex_frame_dict_to_string(f, N_DEC)\n",
    "print(s,'\\n%50s'%('(from dictionary)'))\n",
    "for k, v in domain_dict.items():\n",
    "    if isinstance(v, complex):\n",
    "        v_str = zp.complex_to_string(v)\n",
    "    else:\n",
    "        v_str = '%i'%(v)\n",
    "        \n",
    "    print('%40s: %s'%(k, v_str))"
   ]
  },
  {
   "cell_type": "markdown",
   "metadata": {},
   "source": [
    "## *hash_parameters( )* - function, parameters & domain - (reject duplicate parameters)\n",
    "    Option: hashed dict > json file to allow reproduction of an exact data-set with different scaling"
   ]
  },
  {
   "cell_type": "code",
   "execution_count": 6,
   "metadata": {},
   "outputs": [
    {
     "name": "stdout",
     "output_type": "stream",
     "text": [
      "5badb3fba38cef323a01199a72c188dcfd2bff327c1cd664de54808af77eb01a\n"
     ]
    }
   ],
   "source": [
    "fcn_name, eq, p = get_rand_eq_p_set()\n",
    "domain_dict = get_random_domain()\n",
    "\n",
    "hash_key = hash_parameters(domain_dict, fcn_name, p)\n",
    "print(hash_key)"
   ]
  },
  {
   "cell_type": "code",
   "execution_count": null,
   "metadata": {},
   "outputs": [],
   "source": []
  },
  {
   "cell_type": "markdown",
   "metadata": {},
   "source": [
    "## Produce many pair of scaled images"
   ]
  },
  {
   "cell_type": "code",
   "execution_count": 7,
   "metadata": {},
   "outputs": [],
   "source": [
    "# define for multiple iterations of next cell\n",
    "hashy_list = []"
   ]
  },
  {
   "cell_type": "code",
   "execution_count": 8,
   "metadata": {},
   "outputs": [
    {
     "name": "stdout",
     "output_type": "stream",
     "text": [
      "\n",
      "  1) dreadSkull\n",
      "91dd465fa84bb4aad360c381c25e1603b8168a3185bb1a2d44324a04722f2dc9\n",
      "\n",
      "7.607\t 2 images time\n",
      "\n",
      "  2) Nautuliz\n",
      "f0a74c40cde3ed40bc70bdf69c81b1a0efccf53f2e2d79ca00db48c845951db9\n",
      "\n",
      "3.321\t 2 images time\n",
      "\n",
      "  3) ItchicuPpwrF\n",
      "f579b524a762a936a2b78916bb9a581fc5270f8e8d16d375703785b21f6e7840\n",
      "\n",
      "21.706\t 2 images time\n",
      "\n",
      "  4) IslaLace\n",
      "ae62ad8eb9d5c827b1b64ac3701c2cfe071a3d9e3630c13153a8ebc7a131a22e\n",
      "\n",
      "5.163\t 2 images time\n",
      "\n",
      "  5) decPwrAFx\n",
      "45e1bba4004eb5a928d2dd10fbfe329874c3d20ee600af01f032ada63f65a806\n",
      "\n",
      "17.537\t 2 images time\n",
      "\n",
      "  6) decPwrAFx\n",
      "54d7b3315ee1aef5fc2d80bfd4738a51d1b2004400db2b41dac7c9db7dea574d\n",
      "\n",
      "16.108\t 2 images time\n",
      "\n",
      "  7) Nautuliz\n",
      "a37620c80693802b6f92e1c56b345ce17ece6f8511f82f0b872c4f3c61b194b0\n",
      "\n",
      "2.738\t 2 images time\n",
      "\n",
      "  8) RoyalZ\n",
      "17565fe5f08e20acd70879b9d85577bd62b69b4bbaa8617c396b7b5d1ecccedd\n",
      "\n",
      "18.590\t 2 images time\n",
      "\n",
      "  9) Nautuliz\n",
      "7bbfd11b950157b4d9042c6feb41de020b81b458472c74c41fd557cc629860f6\n",
      "\n",
      "2.218\t 2 images time\n",
      "\n",
      " 10) starfish_ish_II\n",
      "dd00b52df3b932a8cd3c86d755a5f80d77486005a703ed35aba49e8d0906b4f1\n",
      "\n",
      "22.029\t 2 images time\n",
      "\n",
      "10 pairs written in 117.03 seconds\n"
     ]
    }
   ],
   "source": [
    "cell_start_time = time.time()\n",
    "\n",
    "n_2_do = 10\n",
    "\n",
    "test_temporary_dir = '../../test_temporary_dir'\n",
    "if os.path.isdir(test_temporary_dir) == False:\n",
    "    os.makedirs(test_temporary_dir)\n",
    "\n",
    "DISPLAY_IN_NOTEBOOK = False\n",
    "\n",
    "small_scale = [128, 128]\n",
    "large_scale = [255, 255]\n",
    "output_directory = '../../ImagesFriday'\n",
    "if os.path.isdir(output_directory) == False:\n",
    "    os.makedirs(output_directory)\n",
    "    \n",
    "\n",
    "for k_do in range(n_2_do):\n",
    "    fcn_name, eq, p = get_rand_eq_p_set()\n",
    "    print('\\n%3i) %s'%(k_do+1, fcn_name))\n",
    "    domain_dict = get_random_domain()\n",
    "\n",
    "    domain_dict['it_max'] = 64\n",
    "    domain_dict['max_d'] = 10 / domain_dict['zoom']\n",
    "\n",
    "    hash_idx = hash_parameters(domain_dict, fcn_name, p)\n",
    "    if hash_idx in hashy_list:\n",
    "        print('\\n\\n\\t\\tImpossible! But! Skipping:\\n%s\\n'%(hash_idx))\n",
    "    else:\n",
    "        hashy_list.append(hash_idx)\n",
    "        print(hash_idx + '\\n')\n",
    "        domain_dict['n_rows'] = small_scale[0]\n",
    "        domain_dict['n_cols'] = small_scale[1]\n",
    "\n",
    "        domain_dict['dir_path'] = test_temporary_dir\n",
    "\n",
    "        list_tuple = [(eq, (p))]\n",
    "\n",
    "        t0 = time.time()\n",
    "        ET, Z, Z0 = eq_iter.get_primitives(list_tuple, domain_dict)\n",
    "        I = get_im(ET, Z, Z0)\n",
    "        file_name = os.path.join(output_directory, hash_idx + 'small.jpg')\n",
    "        I.save(file_name)\n",
    "        if DISPLAY_IN_NOTEBOOK:\n",
    "            display(I)\n",
    "\n",
    "        domain_dict['n_rows'] = large_scale[0]\n",
    "        domain_dict['n_cols'] = large_scale[1]\n",
    "\n",
    "        ET, Z, Z0 = eq_iter.get_primitives(list_tuple, domain_dict)\n",
    "        I = get_im(ET, Z, Z0)\n",
    "        file_name = os.path.join(output_directory, hash_idx + 'large.jpg')\n",
    "        I.save(file_name)\n",
    "        \n",
    "        print('%0.3f\\t 2 images time'%(time.time() - t0))\n",
    "        if DISPLAY_IN_NOTEBOOK:\n",
    "            display(I)\n",
    "\n",
    "tt = time.time() - cell_start_time\n",
    "print('\\n%i pairs written in %0.2f seconds'%(n_2_do, tt))"
   ]
  },
  {
   "cell_type": "markdown",
   "metadata": {},
   "source": [
    "## file nameing ?"
   ]
  },
  {
   "cell_type": "code",
   "execution_count": 9,
   "metadata": {},
   "outputs": [
    {
     "name": "stdout",
     "output_type": "stream",
     "text": [
      "starfish_ish_II_Fri_20_Sep_2019_06_23_35.jpg\n",
      "91dd465fa84bb4aad360c381c25e1603b8168a3185bb1a2d44324a04722f2dc9.jpg\n"
     ]
    }
   ],
   "source": [
    "do_da = now_name(prefi_str=fcn_name, suffi_str='.jpg')\n",
    "print(do_da)\n",
    "d0_dat = hashy_list[0] + '.jpg'\n",
    "print(d0_dat)"
   ]
  },
  {
   "cell_type": "markdown",
   "metadata": {},
   "source": [
    "## coloring logic\n",
    "    * HSV model - choose three result components\n",
    "        * Hue        (red to red) (0, 1) * 255          == visible spectrum colors\n",
    "        * Saturation (gray to solid color) (0, 1) * 255 == color intensity\n",
    "        * Value      (black to white) (0, 1) * 255      == brightness\n",
    "    * RGB conversion from HSV\n",
    "        * portable for multiple file formats\n",
    "        * norm for train - validate - test\n",
    "    * Escape-time algorithm produces\n",
    "        * Escape Time (integer matrix)\n",
    "        * Final Vector (Z - Z0)\n",
    "            * distance (float matrix)\n",
    "            * rotation (float matrix)\n",
    "****\n",
    "### Coloring component normalization:\n"
   ]
  },
  {
   "cell_type": "code",
   "execution_count": 10,
   "metadata": {},
   "outputs": [],
   "source": [
    "def view_component_color_range(Z0, Z, ET):\n",
    "    # Examine color ranges - for HSV - RGB conversion \n",
    "    Zd_t, Zr_t, ETn_t = ncp.etg_norm(Z0, Z, ET)\n",
    "    print('\\nZd_t', np.max(Zd_t), np.min(Zd_t))\n",
    "    print('Zr_t', np.max(Zr_t), np.min(Zr_t))\n",
    "    print('ETn_t', np.max(ETn_t), np.min(ETn_t))"
   ]
  },
  {
   "cell_type": "code",
   "execution_count": null,
   "metadata": {},
   "outputs": [],
   "source": []
  },
  {
   "cell_type": "code",
   "execution_count": null,
   "metadata": {},
   "outputs": [],
   "source": []
  },
  {
   "cell_type": "code",
   "execution_count": null,
   "metadata": {},
   "outputs": [],
   "source": []
  },
  {
   "cell_type": "code",
   "execution_count": null,
   "metadata": {},
   "outputs": [],
   "source": []
  },
  {
   "cell_type": "code",
   "execution_count": null,
   "metadata": {},
   "outputs": [],
   "source": []
  },
  {
   "cell_type": "code",
   "execution_count": null,
   "metadata": {},
   "outputs": [],
   "source": []
  },
  {
   "cell_type": "code",
   "execution_count": null,
   "metadata": {},
   "outputs": [],
   "source": []
  },
  {
   "cell_type": "code",
   "execution_count": null,
   "metadata": {},
   "outputs": [],
   "source": []
  },
  {
   "cell_type": "code",
   "execution_count": null,
   "metadata": {},
   "outputs": [],
   "source": []
  },
  {
   "cell_type": "code",
   "execution_count": null,
   "metadata": {},
   "outputs": [],
   "source": []
  }
 ],
 "metadata": {
  "kernelspec": {
   "display_name": "Python 3",
   "language": "python",
   "name": "python3"
  },
  "language_info": {
   "codemirror_mode": {
    "name": "ipython",
    "version": 3
   },
   "file_extension": ".py",
   "mimetype": "text/x-python",
   "name": "python",
   "nbconvert_exporter": "python",
   "pygments_lexer": "ipython3",
   "version": "3.7.3"
  }
 },
 "nbformat": 4,
 "nbformat_minor": 2
}
