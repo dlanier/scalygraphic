{
 "cells": [
  {
   "cell_type": "markdown",
   "metadata": {},
   "source": [
    "# Image Scaling with Machine Learning\n",
    "## Inputs:\n",
    "    1) Number of image pairs\n",
    "    2) dictionary of {size_label_A: [pixels_high, pixels_wide], \n",
    "                      size_label_B: [pixels_high, pixels_wide]}\n",
    "    3) run directory\n",
    "    4) output directory\n",
    "    5) existing sets parameters.json (None for first run)\n",
    "***\n",
    "## Parameters to generate a set of images for train-test-validate\n",
    "    * Over all parameters\n",
    "        * number of image sets\n",
    "        * sizes dict {name1: [h, w], name2: [h, w],...}\n",
    "        * run-limits {escape_boundry: diagonal_multiplier, max_iterations: int}\n",
    "        * coloring scheme - perhaps a function\n",
    "        * output file format\n",
    "        * ouput file naming format\n",
    "    * File system\n",
    "        * output directory {train: path, test: path, validate: path}\n",
    "        * run-log location\n",
    "    * Stocastic Choices:\n",
    "        * hashed dictionary - to reject duplicate images\n",
    "        * equation\n",
    "            * parameters\n",
    "        * rotation \n",
    "        * center point \n",
    "        * frame scale\n",
    "\n",
    "## Source structure\n",
    "    * main - opens run_parameters file - passes to module function\n",
    "    * selection and tracking module\n",
    "    * starting plain complex\n",
    "    * equations module\n",
    "    * iteration module\n",
    "    * matrix to image module\n",
    "***\n",
    "[PIL image](https://pillow.readthedocs.io/en/5.1.x/reference/Image.html#the-image-class) <br>\n",
    "****\n",
    "[GitHub scalygraphic](https://github.com/dlanier/scalygraphic/) <br>\n",
    "### Background Code:\n",
    "[Add: random plane on domain](https://github.com/dlanier/scalygraphic/blob/master/scalygraphic/zplain.py) <br>\n",
    "\n",
    "#### Import & Expand *functions_demo.py*\n",
    "[FMF functions_demo](https://github.com/dlanier/FlyingMachineFractal/blob/master/pyreimpic/functions_demo_01.py) <br>\n",
    "#### Import & Trim itergators.py\n",
    "[FMF itergators](https://github.com/dlanier/FlyingMachineFractal/blob/master/src/itergataters.py) <br>\n",
    "#### Rewrite HSV coloring\n",
    "[FMF graphic_utility.py](https://github.com/dlanier/FlyingMachineFractal/blob/master/src/graphic_utility.py) <br>\n",
    "[FMF numcolorpy.py](https://github.com/dlanier/FlyingMachineFractal/blob/master/src/numcolorpy.py) <br>\n",
    "#### Reslove plain functions\n",
    "[FMF z_plane.py](https://github.com/dlanier/FlyingMachineFractal/blob/master/src/z_plane.py) <br>\n",
    "****\n",
    "    \n",
    "### Inception: Random Selection, Tracking and Generation - called from *main()*"
   ]
  },
  {
   "cell_type": "code",
   "execution_count": null,
   "metadata": {},
   "outputs": [],
   "source": [
    "%matplotlib inline\n",
    "%reload_ext autoreload\n",
    "%autoreload 2"
   ]
  },
  {
   "cell_type": "code",
   "execution_count": null,
   "metadata": {},
   "outputs": [],
   "source": [
    "import warnings\n",
    "warnings.filterwarnings('ignore')\n",
    "\n",
    "import os\n",
    "import sys\n",
    "import time\n",
    "\n",
    "sys.path.insert(0, '../src/')\n",
    "sys.path.insert(0, 'scalygraphic/src/')\n",
    "\n",
    "# import zplain as zp\n",
    "# import eq_iter\n",
    "# import deg_0_ddeq\n",
    "# import numcolorpy as ncp\n",
    "from im_scale_products import *\n",
    "import impute_color as ncp"
   ]
  },
  {
   "cell_type": "markdown",
   "metadata": {},
   "source": [
    "# Clickety Clack:\n",
    "## production_parameters: *output_dir_name, image_sizes_dict, number_of_sets*\n",
    "### get a random eq & p with a random domain\n",
    "#### check uniquness\n",
    "### get a random color map\n",
    "## Iterate: run, write, report"
   ]
  },
  {
   "cell_type": "code",
   "execution_count": null,
   "metadata": {},
   "outputs": [],
   "source": [
    "# %load ../src/im_scale_products.py"
   ]
  },
  {
   "cell_type": "markdown",
   "metadata": {},
   "source": [
    "# Demos:\n",
    "\n",
    "****\n",
    "## get a random function and parameter set"
   ]
  },
  {
   "cell_type": "code",
   "execution_count": null,
   "metadata": {},
   "outputs": [],
   "source": [
    "n_trys = 5\n",
    "\n",
    "for k in range(n_trys):\n",
    "    fcn_name, eq, p = get_rand_eq_p_set()\n",
    "    \n",
    "    print('\\n\\t', fcn_name)\n",
    "    try:\n",
    "        Z = 0.0+0.0j\n",
    "        print(Z)\n",
    "        print(eq(Z,p))\n",
    "        Z = 1.0+1.0j\n",
    "        print(Z)\n",
    "        print(eq(Z,p))\n",
    "    except:\n",
    "        print('Crash crash ')\n",
    "        break\n",
    "        pass"
   ]
  },
  {
   "cell_type": "markdown",
   "metadata": {},
   "source": [
    "## get a random complex domain"
   ]
  },
  {
   "cell_type": "code",
   "execution_count": null,
   "metadata": {},
   "outputs": [],
   "source": [
    "N_DEC=4\n",
    "\n",
    "domain_dict = get_random_domain()\n",
    "f = zp.get_frame_from_dict(domain_dict)\n",
    "s = zp.complex_frame_dict_to_string(f, N_DEC)\n",
    "print(s,'\\n%50s'%('(from dictionary)'))\n",
    "for k, v in domain_dict.items():\n",
    "    if isinstance(v, complex):\n",
    "        v_str = zp.complex_to_string(v)\n",
    "    else:\n",
    "        v_str = '%i'%(v)\n",
    "        \n",
    "    print('%40s: %s'%(k, v_str))"
   ]
  },
  {
   "cell_type": "markdown",
   "metadata": {},
   "source": [
    "## *hash_parameters( )* - function, parameters & domain - (reject duplicate parameters)\n",
    "    Option: hashed dict > json file to allow reproduction of an exact data-set with different scaling"
   ]
  },
  {
   "cell_type": "code",
   "execution_count": null,
   "metadata": {},
   "outputs": [],
   "source": [
    "fcn_name, eq, p = get_rand_eq_p_set()\n",
    "domain_dict = get_random_domain()\n",
    "\n",
    "hash_key = hash_parameters(domain_dict, fcn_name, p)\n",
    "print(hash_key)"
   ]
  },
  {
   "cell_type": "markdown",
   "metadata": {},
   "source": [
    "## Produce many pair of scaled images"
   ]
  },
  {
   "cell_type": "code",
   "execution_count": null,
   "metadata": {},
   "outputs": [],
   "source": [
    "#             or use saved list\n",
    "hash_list=[]"
   ]
  },
  {
   "cell_type": "code",
   "execution_count": null,
   "metadata": {},
   "outputs": [],
   "source": [
    "cell_start_time = time.time()\n",
    "\n",
    "n_2_do = 2\n",
    "iteration_dict = {'it_max': 64, 'scale_dist': 10}\n",
    "small_scale = [128, 128]\n",
    "large_scale = [255, 255]\n",
    "\n",
    "output_directory = '../../ImagesFriday'\n",
    "if os.path.isdir(output_directory) == False:\n",
    "    os.makedirs(output_directory)\n",
    "\n",
    "hash_list = write_n_image_sets(n_2_do, \n",
    "                               iteration_dict['it_max'], \n",
    "                               iteration_dict['scale_dist'], \n",
    "                               small_scale, \n",
    "                               large_scale, \n",
    "                               output_directory, \n",
    "                               hash_list)\n",
    "\n",
    "tt = time.time() - cell_start_time\n",
    "print('\\ntotal cell time: %0.2f seconds'%(tt))"
   ]
  },
  {
   "cell_type": "markdown",
   "metadata": {},
   "source": [
    "## file nameing ?"
   ]
  },
  {
   "cell_type": "code",
   "execution_count": null,
   "metadata": {},
   "outputs": [],
   "source": [
    "do_da = now_name(prefi_str=fcn_name, suffi_str='.jpg')\n",
    "print(do_da)\n",
    "d0_dat = hash_list[0] + '.jpg'\n",
    "print(d0_dat)"
   ]
  },
  {
   "cell_type": "markdown",
   "metadata": {},
   "source": [
    "## coloring logic\n",
    "    * HSV model - choose three result components\n",
    "        * Hue        (red to red) (0, 1) * 255          == visible spectrum colors\n",
    "        * Saturation (gray to solid color) (0, 1) * 255 == color intensity\n",
    "        * Value      (black to white) (0, 1) * 255      == brightness\n",
    "    * RGB conversion from HSV\n",
    "        * portable for multiple file formats\n",
    "        * norm for train - validate - test\n",
    "    * Escape-time algorithm produces\n",
    "        * Escape Time (integer matrix)\n",
    "        * Final Vector (Z - Z0)\n",
    "            * distance (float matrix)\n",
    "            * rotation (float matrix)\n",
    "****\n",
    "### Coloring component normalization:\n"
   ]
  },
  {
   "cell_type": "code",
   "execution_count": null,
   "metadata": {},
   "outputs": [],
   "source": [
    "def view_component_color_range(Z0, Z, ET):\n",
    "    # Examine color ranges - for HSV - RGB conversion \n",
    "    Zd_t, Zr_t, ETn_t = ncp.etg_norm(Z0, Z, ET)\n",
    "    print('\\nZd_t', np.max(Zd_t), np.min(Zd_t))\n",
    "    print('Zr_t', np.max(Zr_t), np.min(Zr_t))\n",
    "    print('ETn_t', np.max(ETn_t), np.min(ETn_t))"
   ]
  },
  {
   "cell_type": "markdown",
   "metadata": {},
   "source": [
    "## Development legacy - cell below replaced by function:\n",
    "```python\n",
    "# Use hash_list for multi-session calling to avoid (improbable) duplicate parameter sets\n",
    "hash_list = write_n_image_sets(n_2_do, iteration_dict, small_scale, large_scale, output_directory, hash_list)\n",
    "```"
   ]
  },
  {
   "cell_type": "code",
   "execution_count": null,
   "metadata": {},
   "outputs": [],
   "source": [
    "hashy_list = []"
   ]
  },
  {
   "cell_type": "code",
   "execution_count": null,
   "metadata": {},
   "outputs": [],
   "source": [
    "cell_start_time = time.time()\n",
    "\n",
    "n_2_do = 3\n",
    "\n",
    "test_temporary_dir = '../../test_temporary_dir'\n",
    "if os.path.isdir(test_temporary_dir) == False:\n",
    "    os.makedirs(test_temporary_dir)\n",
    "\n",
    "DISPLAY_IN_NOTEBOOK = True\n",
    "GRAYSCALE = True\n",
    "\n",
    "small_scale = [128, 128]\n",
    "large_scale = [255, 255]\n",
    "output_directory = '../../ImagesFriday'\n",
    "if os.path.isdir(output_directory) == False:\n",
    "    os.makedirs(output_directory)\n",
    "    \n",
    "\n",
    "for k_do in range(n_2_do):\n",
    "    fcn_name, eq, p = get_rand_eq_p_set()\n",
    "    print('\\n%3i) %s'%(k_do+1, fcn_name))\n",
    "    domain_dict = get_random_domain()\n",
    "\n",
    "    domain_dict['it_max'] = 64\n",
    "    domain_dict['max_d'] = 10 / domain_dict['zoom']\n",
    "\n",
    "    hash_idx = hash_parameters(domain_dict, fcn_name, p)\n",
    "    if hash_idx in hashy_list:\n",
    "        print('\\n\\n\\t\\tImpossible! But! Skipping:\\n%s\\n'%(hash_idx))\n",
    "    else:\n",
    "        hashy_list.append(hash_idx)\n",
    "        print(hash_idx + '\\n')\n",
    "        domain_dict['n_rows'] = small_scale[0]\n",
    "        domain_dict['n_cols'] = small_scale[1]\n",
    "\n",
    "        domain_dict['dir_path'] = test_temporary_dir\n",
    "\n",
    "        list_tuple = [(eq, (p))]\n",
    "\n",
    "        t0 = time.time()\n",
    "        ET, Z, Z0 = eq_iter.get_primitives(list_tuple, domain_dict)\n",
    "        if GRAYSCALE == True:\n",
    "            I = ncp.get_gray_im(ET, Z, Z0)\n",
    "        else:\n",
    "            I = ncp.get_im(ET, Z, Z0)\n",
    "            \n",
    "        file_name = os.path.join(output_directory, hash_idx + 'small.jpg')\n",
    "        I.save(file_name)\n",
    "        if DISPLAY_IN_NOTEBOOK:\n",
    "            display(I)\n",
    "\n",
    "        domain_dict['n_rows'] = large_scale[0]\n",
    "        domain_dict['n_cols'] = large_scale[1]\n",
    "\n",
    "        ET, Z, Z0 = eq_iter.get_primitives(list_tuple, domain_dict)\n",
    "        if GRAYSCALE == True:\n",
    "            I = ncp.get_gray_im(ET, Z, Z0)\n",
    "        else:\n",
    "            I = ncp.get_im(ET, Z, Z0)\n",
    "            \n",
    "        file_name = os.path.join(output_directory, hash_idx + 'large.jpg')\n",
    "        I.save(file_name)\n",
    "        \n",
    "        print('%0.3f\\t 2 images time'%(time.time() - t0))\n",
    "        if DISPLAY_IN_NOTEBOOK:\n",
    "            display(I)\n",
    "\n",
    "tt = time.time() - cell_start_time\n",
    "print('\\n%i pairs written in %0.2f seconds'%(n_2_do, tt))"
   ]
  },
  {
   "cell_type": "markdown",
   "metadata": {},
   "source": [
    "## coloring logic\n",
    "    * HSV model - choose three result components\n",
    "        * Hue        (red to red) (0, 1) * 255          == visible spectrum colors\n",
    "        * Saturation (gray to solid color) (0, 1) * 255 == color intensity\n",
    "        * Value      (black to white) (0, 1) * 255      == brightness\n",
    "    * RGB conversion from HSV\n",
    "        * portable for multiple file formats\n",
    "        * norm for train - validate - test\n",
    "    * Escape-time algorithm produces\n",
    "        * Escape Time (integer matrix)\n",
    "        * Final Vector (Z - Z0)\n",
    "            * distance (float matrix)\n",
    "            * rotation (float matrix)\n",
    "****\n",
    "### Coloring component normalization:\n"
   ]
  },
  {
   "cell_type": "code",
   "execution_count": null,
   "metadata": {},
   "outputs": [],
   "source": [
    "def view_component_color_range(Z0, Z, ET):\n",
    "    # Examine color ranges - for HSV - RGB conversion \n",
    "    Zd_t, Zr_t, ETn_t = ncp.etg_norm(Z0, Z, ET)\n",
    "    print('\\nZd_t', np.max(Zd_t), np.min(Zd_t))\n",
    "    print('Zr_t', np.max(Zr_t), np.min(Zr_t))\n",
    "    print('ETn_t', np.max(ETn_t), np.min(ETn_t))\n",
    "    \n",
    "view_component_color_range(Z0, Z, ET)"
   ]
  },
  {
   "cell_type": "markdown",
   "metadata": {},
   "source": [
    "## file nameing calls - time-stamp-name or hash-name"
   ]
  },
  {
   "cell_type": "code",
   "execution_count": null,
   "metadata": {},
   "outputs": [],
   "source": [
    "do_da = now_name(prefi_str=fcn_name, suffi_str='.jpg')\n",
    "print(do_da)\n",
    "d0_dat = hashy_list[0] + '.jpg'\n",
    "print(d0_dat)"
   ]
  },
  {
   "cell_type": "code",
   "execution_count": null,
   "metadata": {},
   "outputs": [],
   "source": []
  },
  {
   "cell_type": "code",
   "execution_count": null,
   "metadata": {},
   "outputs": [],
   "source": []
  },
  {
   "cell_type": "code",
   "execution_count": null,
   "metadata": {},
   "outputs": [],
   "source": []
  }
 ],
 "metadata": {
  "kernelspec": {
   "display_name": "Python 3",
   "language": "python",
   "name": "python3"
  },
  "language_info": {
   "codemirror_mode": {
    "name": "ipython",
    "version": 3
   },
   "file_extension": ".py",
   "mimetype": "text/x-python",
   "name": "python",
   "nbconvert_exporter": "python",
   "pygments_lexer": "ipython3",
   "version": "3.7.3"
  }
 },
 "nbformat": 4,
 "nbformat_minor": 2
}
