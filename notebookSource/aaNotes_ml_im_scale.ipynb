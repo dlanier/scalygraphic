{
 "cells": [
  {
   "cell_type": "markdown",
   "metadata": {},
   "source": [
    "# Image Scaling with Machine Learning\n",
    "\n",
    "## Parameters to generate a set of images for train-test-validate\n",
    "    * Over all parameters\n",
    "        * number of image sets\n",
    "        * sizes dict {name1: [h, w], name2: [h, w],...}\n",
    "        * run-limits {escape_boundry: diagonal_multiplier, max_iterations: int}\n",
    "        * coloring scheme - perhaps a function\n",
    "        * output file format\n",
    "        * ouput file naming format\n",
    "    * File system\n",
    "        * output directory {train: path, test: path, validate: path}\n",
    "        * run-log location\n",
    "    * Stocastic Choices:\n",
    "        * hashed dictionary - to reject duplicate images\n",
    "        * equation\n",
    "            * parameters\n",
    "        * rotation \n",
    "        * center point \n",
    "        * frame scale\n",
    "\n",
    "## Source structure\n",
    "    * main - opens run_parameters file - passes to module function\n",
    "    * selection and tracking module\n",
    "    * starting plain complex\n",
    "    * equations module\n",
    "    * iteration module\n",
    "    * matrix to image module\n",
    "    \n",
    "****\n",
    "[GitHub scalygraphic](https://github.com/dlanier/scalygraphic/) <br>\n",
    "### Background Code:\n",
    "[Add: random plane on domain](https://github.com/dlanier/scalygraphic/blob/master/scalygraphic/zplain.py) <br>\n",
    "\n",
    "#### Import & Expand *functions_demo.py*\n",
    "[FMF functions_demo](https://github.com/dlanier/FlyingMachineFractal/blob/master/pyreimpic/functions_demo_01.py) <br>\n",
    "#### Import & Trim itergators.py\n",
    "[FMF itergators](https://github.com/dlanier/FlyingMachineFractal/blob/master/src/itergataters.py) <br>\n",
    "#### Rewrite HSV coloring\n",
    "[FMF graphic_utility.py](https://github.com/dlanier/FlyingMachineFractal/blob/master/src/graphic_utility.py) <br>\n",
    "[FMF numcolorpy.py](https://github.com/dlanier/FlyingMachineFractal/blob/master/src/numcolorpy.py) <br>\n",
    "#### Reslove plain functions\n",
    "[FMF z_plane.py](https://github.com/dlanier/FlyingMachineFractal/blob/master/src/z_plane.py) <br>\n",
    "****\n",
    "    \n",
    "### Inception: Random Selection, Tracking and Generation - called from *main()*"
   ]
  },
  {
   "cell_type": "code",
   "execution_count": null,
   "metadata": {},
   "outputs": [],
   "source": [
    "p_all = {'number_of_image_sets': 10, \n",
    "         'sizes_dict': {'small': [128, 128], 'large': [1024, 1024]}, \n",
    "         'run_limits': {'esc_dist': 12, 'max_iterations': 64}, \n",
    "         'color': 'rgb', \n",
    "         'file_format': 'jpg', \n",
    "         'output_directory': './', \n",
    "         'run_directory': '../'}\n"
   ]
  },
  {
   "cell_type": "code",
   "execution_count": null,
   "metadata": {},
   "outputs": [],
   "source": [
    "%matplotlib inline\n",
    "%reload_ext autoreload\n",
    "%autoreload 2"
   ]
  },
  {
   "cell_type": "code",
   "execution_count": 2,
   "metadata": {},
   "outputs": [],
   "source": [
    "import os\n",
    "import sys\n",
    "\n",
    "sys.path.insert(0, '../src/')\n",
    "from eq_iter import get_rand_eq_p_set"
   ]
  },
  {
   "cell_type": "markdown",
   "metadata": {},
   "source": [
    "## get a random function and parameter set"
   ]
  },
  {
   "cell_type": "code",
   "execution_count": 84,
   "metadata": {},
   "outputs": [
    {
     "name": "stdout",
     "output_type": "stream",
     "text": [
      "\n",
      "\t IslaLace\n",
      "0j\n",
      "inf\n",
      "(1+1j)\n",
      "(1.4559758142625245-1.102089495118849j)\n",
      "\n",
      "\t RoyalZ\n",
      "0j\n",
      "inf\n",
      "(1+1j)\n",
      "(0.2923148390749084-0.3868784485455075j)\n",
      "\n",
      "\t ItchicuPpwrF\n",
      "0j\n",
      "0j\n",
      "(1+1j)\n",
      "(-25.981292978230876-33.45441127947091j)\n"
     ]
    }
   ],
   "source": [
    "n_trys = 3\n",
    "for k in range(n_trys):\n",
    "    fcn_name, eq, p = get_rand_eq_p_set()\n",
    "    print('\\n\\t', fcn_name)\n",
    "    try:\n",
    "        Z = 0.0+0.0j\n",
    "        print(Z)\n",
    "        print(eq(Z,p))\n",
    "        Z = 1.0+1.0j\n",
    "        print(Z)\n",
    "        print(eq(Z,p))\n",
    "    except:\n",
    "        print('Crash crash ')\n",
    "        break\n",
    "        pass"
   ]
  },
  {
   "cell_type": "markdown",
   "metadata": {},
   "source": [
    "## get a random complex domain"
   ]
  },
  {
   "cell_type": "code",
   "execution_count": 94,
   "metadata": {},
   "outputs": [
    {
     "name": "stdout",
     "output_type": "stream",
     "text": [
      "upper_left:-10.000+14.000j\ttop_center: 0.000+14.000j\tupper_right:10.000+14.000j\n",
      "left_center:-10.000+0.000j\tcenter_point:  0.000+0.000j\tright_center: 10.000+0.000j\n",
      "bottom_left:-10.000-14.000j\tbottom_center:-0.000-14.000j\tbottom_right:10.000-14.000j\n",
      "\n"
     ]
    }
   ],
   "source": [
    "from zplain import get_complex_frame, complex_frame_dict_to_string\n",
    "h = 7\n",
    "w = 5\n",
    "CP = 0.0+0.0j\n",
    "ZM = 1/10\n",
    "theta = 0\n",
    "f = get_complex_frame(CP, ZM, theta, h, w)\n",
    "s = complex_frame_dict_to_string(f,N_DEC=3)\n",
    "print(s)"
   ]
  },
  {
   "cell_type": "code",
   "execution_count": null,
   "metadata": {},
   "outputs": [],
   "source": []
  },
  {
   "cell_type": "code",
   "execution_count": null,
   "metadata": {},
   "outputs": [],
   "source": []
  },
  {
   "cell_type": "code",
   "execution_count": null,
   "metadata": {},
   "outputs": [],
   "source": []
  },
  {
   "cell_type": "code",
   "execution_count": null,
   "metadata": {},
   "outputs": [],
   "source": []
  },
  {
   "cell_type": "code",
   "execution_count": null,
   "metadata": {},
   "outputs": [],
   "source": []
  },
  {
   "cell_type": "code",
   "execution_count": null,
   "metadata": {},
   "outputs": [],
   "source": []
  }
 ],
 "metadata": {
  "kernelspec": {
   "display_name": "Python 3",
   "language": "python",
   "name": "python3"
  },
  "language_info": {
   "codemirror_mode": {
    "name": "ipython",
    "version": 3
   },
   "file_extension": ".py",
   "mimetype": "text/x-python",
   "name": "python",
   "nbconvert_exporter": "python",
   "pygments_lexer": "ipython3",
   "version": "3.7.3"
  }
 },
 "nbformat": 4,
 "nbformat_minor": 2
}
