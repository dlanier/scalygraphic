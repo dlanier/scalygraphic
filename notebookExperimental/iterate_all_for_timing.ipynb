{
 "cells": [
  {
   "cell_type": "code",
   "execution_count": null,
   "metadata": {},
   "outputs": [],
   "source": []
  },
  {
   "cell_type": "code",
   "execution_count": null,
   "metadata": {},
   "outputs": [],
   "source": []
  },
  {
   "cell_type": "code",
   "execution_count": 3,
   "metadata": {},
   "outputs": [],
   "source": [
    "import warnings\n",
    "warnings.filterwarnings('ignore')\n",
    "\n",
    "import time\n",
    "import sys\n",
    "import tempfile\n",
    "\n",
    "import skimage.io as im_io\n",
    "\n",
    "from PIL import TiffImagePlugin as tip\n",
    "from PIL.TiffImagePlugin import Image\n",
    "\n",
    "import matplotlib.pyplot as pyplot\n",
    "\n",
    "sys.path.insert(0, '../src/')\n",
    "sys.path.insert(0, 'scalygraphic/src/')\n",
    "\n",
    "from im_scale_products import *\n",
    "from impute_color import *"
   ]
  },
  {
   "cell_type": "code",
   "execution_count": 9,
   "metadata": {},
   "outputs": [
    {
     "name": "stdout",
     "output_type": "stream",
     "text": [
      "ElGato <class 'function'>\n",
      "IslaLace <class 'function'>\n",
      "ItchicuPpwrF <class 'function'>\n",
      "Nautuliz <class 'function'>\n",
      "RoyalZ <class 'function'>\n",
      "bugga_bear <class 'function'>\n",
      "de_Okeeffe <class 'function'>\n",
      "decPwrAFx <class 'function'>\n",
      "dreadSkull <class 'function'>\n",
      "nlC3 <class 'function'>\n",
      "starfish_ish <class 'function'>\n",
      "starfish_ish_II <class 'function'>\n",
      "thunderHead <class 'function'>\n"
     ]
    }
   ],
   "source": [
    "for fcn_number in range(len(name_functionhandle_dict)):\n",
    "    print(name_functionhandle_dict[fcn_number][0], type(name_functionhandle_dict[fcn_number][1]))"
   ]
  },
  {
   "cell_type": "code",
   "execution_count": 12,
   "metadata": {},
   "outputs": [],
   "source": [
    "def get_center_domain_dict(it_max=None, scale_dist=None):\n",
    "    \"\"\" Usage: \n",
    "    domain_dict = get_center_domain_dict(it_max, scale_dist)\n",
    "    \"\"\"\n",
    "    if it_max is None:\n",
    "        it_max = 64\n",
    "        \n",
    "    if scale_dist is None:\n",
    "        scale_dist = 12\n",
    "        \n",
    "    domain_dict = get_default_domain_dict()\n",
    "    domain_dict['it_max'] = it_max\n",
    "    domain_dict['max_d'] = scale_dist / domain_dict['zoom']\n",
    "    domain_dict['n_rows'] = 255\n",
    "    domain_dict['n_cols'] = 255\n",
    "    \n",
    "    return domain_dict"
   ]
  },
  {
   "cell_type": "code",
   "execution_count": 13,
   "metadata": {},
   "outputs": [
    {
     "name": "stdout",
     "output_type": "stream",
     "text": [
      "center_point 0j\n",
      "zoom 0.5\n",
      "theta 0.0\n",
      "it_max 64\n",
      "max_d 24.0\n",
      "n_rows 255\n",
      "n_cols 255\n"
     ]
    }
   ],
   "source": [
    "domain_dict = get_center_domain_dict()\n",
    "for k, v in domain_dict.items():\n",
    "    print(k,v)"
   ]
  },
  {
   "cell_type": "code",
   "execution_count": null,
   "metadata": {},
   "outputs": [],
   "source": []
  },
  {
   "cell_type": "code",
   "execution_count": null,
   "metadata": {},
   "outputs": [],
   "source": []
  },
  {
   "cell_type": "code",
   "execution_count": null,
   "metadata": {},
   "outputs": [],
   "source": []
  },
  {
   "cell_type": "code",
   "execution_count": null,
   "metadata": {},
   "outputs": [],
   "source": []
  },
  {
   "cell_type": "code",
   "execution_count": null,
   "metadata": {},
   "outputs": [],
   "source": []
  },
  {
   "cell_type": "code",
   "execution_count": null,
   "metadata": {},
   "outputs": [],
   "source": []
  },
  {
   "cell_type": "code",
   "execution_count": 4,
   "metadata": {},
   "outputs": [
    {
     "name": "stdout",
     "output_type": "stream",
     "text": [
      "0 ElGato\n",
      "\t ('ElGato', <function ElGato at 0x12b46dbf8>)\n",
      "1 IslaLace\n",
      "\t ('IslaLace', <function IslaLace at 0x12b46da60>)\n",
      "2 ItchicuPpwrF\n",
      "\t ('ItchicuPpwrF', <function ItchicuPpwrF at 0x12b46db70>)\n",
      "3 Nautuliz\n",
      "\t ('Nautuliz', <function Nautuliz at 0x12b46d7b8>)\n",
      "4 RoyalZ\n",
      "\t ('RoyalZ', <function RoyalZ at 0x12b46dae8>)\n",
      "5 bugga_bear\n",
      "\t ('bugga_bear', <function bugga_bear at 0x12b46d598>)\n",
      "6 de_Okeeffe\n",
      "\t ('de_Okeeffe', <function de_Okeeffe at 0x12b46d9d8>)\n",
      "7 decPwrAFx\n",
      "\t ('decPwrAFx', <function decPwrAFx at 0x12b46d8c8>)\n",
      "8 dreadSkull\n",
      "\t ('dreadSkull', <function dreadSkull at 0x12b46d950>)\n",
      "9 nlC3\n",
      "\t ('nlC3', <function nlC3 at 0x12b46d840>)\n",
      "10 starfish_ish\n",
      "\t ('starfish_ish', <function starfish_ish at 0x12b46d6a8>)\n",
      "11 starfish_ish_II\n",
      "\t ('starfish_ish_II', <function starfish_ish_II at 0x12b46d730>)\n",
      "12 thunderHead\n",
      "\t ('thunderHead', <function thunderHead at 0x12b46dc80>)\n"
     ]
    }
   ],
   "source": [
    "for eq_name, eq_num in number_function_name_dict.items():\n",
    "    print(eq_num, eq_name)\n",
    "    print('\\t', name_functionhandle_dict[eq_num])\n"
   ]
  },
  {
   "cell_type": "code",
   "execution_count": null,
   "metadata": {},
   "outputs": [],
   "source": [
    "name_functionhandle_dict[fcn_number]"
   ]
  },
  {
   "cell_type": "code",
   "execution_count": null,
   "metadata": {},
   "outputs": [],
   "source": []
  },
  {
   "cell_type": "code",
   "execution_count": null,
   "metadata": {},
   "outputs": [],
   "source": []
  }
 ],
 "metadata": {
  "kernelspec": {
   "display_name": "Python 3",
   "language": "python",
   "name": "python3"
  },
  "language_info": {
   "codemirror_mode": {
    "name": "ipython",
    "version": 3
   },
   "file_extension": ".py",
   "mimetype": "text/x-python",
   "name": "python",
   "nbconvert_exporter": "python",
   "pygments_lexer": "ipython3",
   "version": "3.7.3"
  }
 },
 "nbformat": 4,
 "nbformat_minor": 2
}
