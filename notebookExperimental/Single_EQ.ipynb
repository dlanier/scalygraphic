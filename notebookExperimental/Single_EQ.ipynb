{
 "cells": [
  {
   "cell_type": "code",
   "execution_count": null,
   "metadata": {},
   "outputs": [],
   "source": [
    "%matplotlib inline"
   ]
  },
  {
   "cell_type": "markdown",
   "metadata": {},
   "source": [
    "# Iterate through all available functions to get timing and mapping data"
   ]
  },
  {
   "cell_type": "code",
   "execution_count": 2,
   "metadata": {},
   "outputs": [
    {
     "name": "stdout",
     "output_type": "stream",
     "text": [
      "center_point 0j\n",
      "zoom 0.5\n",
      "theta 0.0\n",
      "it_max 64\n",
      "max_d 24.0\n",
      "n_rows 255\n",
      "n_cols 255\n",
      "im_scale_products.py with function show_equations()\n",
      "\tname_functionhandle_dict.items()\n",
      "\n",
      "000 ('ElGato', <function ElGato at 0x123ef6598>)\n",
      "001 ('IslaLace', <function IslaLace at 0x123ef6400>)\n",
      "002 ('ItchicuPpwrF', <function ItchicuPpwrF at 0x123ef6510>)\n",
      "003 ('Nautuliz', <function Nautuliz at 0x123ef6158>)\n",
      "004 ('RoyalZ', <function RoyalZ at 0x123ef6488>)\n",
      "005 ('bugga_bear', <function bugga_bear at 0x123ee5f28>)\n",
      "006 ('de_Okeeffe', <function de_Okeeffe at 0x123ef6378>)\n",
      "007 ('decPwrAFx', <function decPwrAFx at 0x123ef6268>)\n",
      "008 ('dreadSkull', <function dreadSkull at 0x123ef62f0>)\n",
      "009 ('nlC3', <function nlC3 at 0x123ef61e0>)\n",
      "010 ('starfish_ish', <function starfish_ish at 0x123ef6048>)\n",
      "011 ('starfish_ish_II', <function starfish_ish_II at 0x123ef60d0>)\n",
      "012 ('thunderHead', <function thunderHead at 0x123ef6620>)\n"
     ]
    }
   ],
   "source": [
    "import warnings\n",
    "warnings.filterwarnings('ignore')\n",
    "\n",
    "import time\n",
    "import sys\n",
    "import tempfile\n",
    "\n",
    "import skimage.io as im_io\n",
    "\n",
    "from PIL import TiffImagePlugin as tip\n",
    "from PIL.TiffImagePlugin import Image\n",
    "\n",
    "import matplotlib.pyplot as pyplot\n",
    "\n",
    "sys.path.insert(0, '../src/')\n",
    "sys.path.insert(0, 'scalygraphic/src/')\n",
    "\n",
    "from im_scale_products import *\n",
    "from impute_color import *\n",
    "\n",
    "def get_test_domain_dict(it_max=None, scale_dist=None):\n",
    "    \"\"\" Usage: \n",
    "    domain_dict = get_center_domain_dict(it_max, scale_dist)\n",
    "    \"\"\"\n",
    "    if it_max is None:\n",
    "        it_max = 64\n",
    "        \n",
    "    if scale_dist is None:\n",
    "        scale_dist = 12\n",
    "        \n",
    "    domain_dict = get_default_domain_dict()\n",
    "    domain_dict['it_max'] = it_max\n",
    "    domain_dict['max_d'] = scale_dist / domain_dict['zoom']\n",
    "    domain_dict['n_rows'] = 255\n",
    "    domain_dict['n_cols'] = 255\n",
    "    \n",
    "    return domain_dict\n",
    "\n",
    "domain_dict = get_test_domain_dict()\n",
    "for k, v in domain_dict.items():\n",
    "    print(k,v)\n",
    "    \n",
    "# print('\\n')\n",
    "# for n, t in name_functionhandle_dict.items():\n",
    "#     print('%02i'%(n), t)\n",
    "show_equations()"
   ]
  },
  {
   "cell_type": "code",
   "execution_count": null,
   "metadata": {},
   "outputs": [],
   "source": [
    "eq = get_eq_by_name(fcn_name='bugga_bear')\n",
    "p = eq(0, None)\n",
    "print(p)"
   ]
  },
  {
   "cell_type": "code",
   "execution_count": null,
   "metadata": {},
   "outputs": [],
   "source": []
  },
  {
   "cell_type": "code",
   "execution_count": null,
   "metadata": {},
   "outputs": [],
   "source": []
  },
  {
   "cell_type": "code",
   "execution_count": null,
   "metadata": {},
   "outputs": [],
   "source": []
  },
  {
   "cell_type": "code",
   "execution_count": null,
   "metadata": {},
   "outputs": [],
   "source": []
  }
 ],
 "metadata": {
  "kernelspec": {
   "display_name": "Python 3",
   "language": "python",
   "name": "python3"
  },
  "language_info": {
   "codemirror_mode": {
    "name": "ipython",
    "version": 3
   },
   "file_extension": ".py",
   "mimetype": "text/x-python",
   "name": "python",
   "nbconvert_exporter": "python",
   "pygments_lexer": "ipython3",
   "version": "3.7.3"
  }
 },
 "nbformat": 4,
 "nbformat_minor": 2
}
