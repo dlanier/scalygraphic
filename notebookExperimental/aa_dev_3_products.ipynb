{
 "cells": [
  {
   "cell_type": "markdown",
   "metadata": {},
   "source": [
    "# Three output products for one eq\n",
    "* 8-bit and 16-bit of same image S.T. psnr is high\n",
    "* pairs of grayscale for super resolution (2 ways)\n",
    "    * higher resolution by pixel size\n",
    "    * higher resolution by pixel depth & pixel size\n",
    "* edge mapping for both\n",
    "    \n",
    "## Generate and display:"
   ]
  },
  {
   "cell_type": "code",
   "execution_count": null,
   "metadata": {},
   "outputs": [],
   "source": [
    "import warnings\n",
    "warnings.filterwarnings('ignore')\n",
    "\n",
    "import time\n",
    "import sys\n",
    "import tempfile\n",
    "\n",
    "import skimage.io as im_io\n",
    "\n",
    "from PIL import TiffImagePlugin as tip\n",
    "from PIL.TiffImagePlugin import Image\n",
    "\n",
    "import matplotlib.pyplot as pyplot\n",
    "\n",
    "sys.path.insert(0, '../src/')\n",
    "sys.path.insert(0, 'scalygraphic/src/')\n",
    "\n",
    "from im_scale_products import *\n",
    "from impute_color import *\n",
    "\n",
    "def get_test_domain_dict(it_max=None, scale_dist=None):\n",
    "    \"\"\" Usage: \n",
    "    domain_dict = get_center_domain_dict(it_max, scale_dist)\n",
    "    \"\"\"\n",
    "    if it_max is None:\n",
    "        it_max = 64\n",
    "        \n",
    "    if scale_dist is None:\n",
    "        scale_dist = 12\n",
    "        \n",
    "    domain_dict = get_default_domain_dict()\n",
    "    domain_dict['it_max'] = it_max\n",
    "    domain_dict['max_d'] = scale_dist / domain_dict['zoom']\n",
    "    domain_dict['n_rows'] = 255\n",
    "    domain_dict['n_cols'] = 255\n",
    "    \n",
    "    return domain_dict\n",
    "\n",
    "print('\\t\\t\\tDomain dictionary for test:')\n",
    "domain_dict = get_test_domain_dict()\n",
    "for k, v in domain_dict.items():\n",
    "    print(k,v)\n",
    "    \n",
    "print('\\n\\t\\t\\tEquations enumeration of (Name, function_handle) tuples')    \n",
    "for k, v in name_functionhandle_dict.items():\n",
    "    print(k, v)"
   ]
  },
  {
   "cell_type": "code",
   "execution_count": null,
   "metadata": {},
   "outputs": [],
   "source": [
    "for fcn_number in range(len(name_functionhandle_dict)):\n",
    "    print(name_functionhandle_dict[fcn_number][0], type(name_functionhandle_dict[fcn_number][1]))"
   ]
  },
  {
   "cell_type": "code",
   "execution_count": null,
   "metadata": {},
   "outputs": [],
   "source": [
    "domain_dict = get_test_domain_dict()\n",
    "\n",
    "for fcn_number in range(len(name_functionhandle_dict)):\n",
    "    t0 = time.time()\n",
    "    fcn_name, fcn = name_functionhandle_dict[fcn_number][0], name_functionhandle_dict[fcn_number][1]\n",
    "    p = p = fcn(0.0, None)\n",
    "    \n",
    "    list_tuple = [(fcn, (p))]\n",
    "    \n",
    "    ET, Z, Z0 = eq_iter.get_primitives(list_tuple, domain_dict)\n",
    "    Zd_n2, Zr_n2, ETn_n2 = etg_norm(Z0, Z, ET)\n",
    "\n",
    "    g_im_et = primitive_2_gray(ETn_n2)\n",
    "    # complex result vectors: distance component\n",
    "    g_im_Zd = primitive_2_gray(Zd_n2)\n",
    "\n",
    "    # complex result vectors: rotation component\n",
    "    g_im_Zr = primitive_2_gray(Zr_n2)\n",
    "\n",
    "    im_gray = get_gray_im(ET, Z, Z0)\n",
    "    \n",
    "    im_list = [g_im_et, g_im_Zd, g_im_Zr, im_gray]\n",
    "    new_im = cat_im_list_hori(im_list)\n",
    "    tt = time.time() - t0\n",
    "    \n",
    "    print('\\n')\n",
    "    print('%20s: %0.6f seconds\\n\\t\\tp ='%(fcn_name, tt), p)\n",
    "    print('%15s%30s%30s%30s'%('ET','Zd','Zr', 'All'))\n",
    "    display(new_im)\n"
   ]
  }
 ],
 "metadata": {
  "kernelspec": {
   "display_name": "Python 3",
   "language": "python",
   "name": "python3"
  },
  "language_info": {
   "codemirror_mode": {
    "name": "ipython",
    "version": 3
   },
   "file_extension": ".py",
   "mimetype": "text/x-python",
   "name": "python",
   "nbconvert_exporter": "python",
   "pygments_lexer": "ipython3",
   "version": "3.7.3"
  }
 },
 "nbformat": 4,
 "nbformat_minor": 2
}
