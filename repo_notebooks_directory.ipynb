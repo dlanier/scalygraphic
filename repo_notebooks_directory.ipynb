{
 "cells": [
  {
   "cell_type": "code",
   "execution_count": 6,
   "id": "79251789",
   "metadata": {},
   "outputs": [],
   "source": [
    "import os, time, sys\n",
    "from datetime import datetime\n",
    "from collections import defaultdict\n",
    "\n",
    "import numpy as np\n",
    "import pandas as pd\n",
    "\n",
    "# from git import Repo\n",
    "import git"
   ]
  },
  {
   "cell_type": "code",
   "execution_count": 2,
   "id": "9d31afb2",
   "metadata": {
    "scrolled": false
   },
   "outputs": [
    {
     "data": {
      "text/plain": [
       "(<git.Commit \"ea07fa9b8e738be0430331672b8078e70fd2c712\">,\n",
       " [<git.Head \"refs/heads/master\">])"
      ]
     },
     "execution_count": 2,
     "metadata": {},
     "output_type": "execute_result"
    }
   ],
   "source": [
    "repo = git.Repo(os.getcwd())\n",
    "\n",
    "heads = repo.heads\n",
    "master = heads.master       # lists can be accessed by name for convenience\n",
    "# master.commit               # the commit pointed to by head called master\n",
    "# master.rename('new_name')   # rename heads\n",
    "# master.rename('master')\n",
    "master.commit, heads"
   ]
  },
  {
   "cell_type": "markdown",
   "id": "d97e8b23",
   "metadata": {},
   "source": [
    "GitPython [read the docs](https://gitpython.readthedocs.io/en/stable/tutorial.html#) <br>\n",
    "****\n",
    "# Repo Directory:\n"
   ]
  },
  {
   "cell_type": "code",
   "execution_count": 3,
   "id": "9ab6d464",
   "metadata": {},
   "outputs": [
    {
     "name": "stdout",
     "output_type": "stream",
     "text": [
      "46 notebooks found today: 08:44:49 2022 05 07\n",
      "\n",
      "\n",
      "\n",
      "By Short File Names:\n",
      "\n",
      "                         0000_jupyter_cheat_sheet.ipynb                          0001_Gradient_Resolution.ipynb \n",
      "               0002_Gradient_Resolution_to_Module.ipynb         0003_Gradient_Resolution_Noise_Viewer_001.ipynb \n",
      "        0003_Gradient_Resolution_Noise_Viewer_002.ipynb         0003_Gradient_Resolution_Noise_Viewer_003.ipynb \n",
      "        0003_Gradient_Resolution_Noise_Viewer_004.ipynb         0003_Gradient_Resolution_Noise_Viewer_005.ipynb \n",
      "        0003_Gradient_Resolution_Noise_Viewer_006.ipynb                                       000_Edges3D.ipynb \n",
      "                           AAA_HeadHuntHistorical.ipynb                                     AB_mnst_edges.ipynb \n",
      "                               Choose_And_Display.ipynb                                    IN_cnumimageD3.ipynb \n",
      "                                    IN_deg0ddeqD3.ipynb                                       IN_eqiterD3.ipynb \n",
      "                                      IN_zplainD3.ipynb                               LMFA_pil_image_stat.ipynb \n",
      "                             LambdaD_9_zoom_range.ipynb                                  SciPy_F2Py_links.ipynb \n",
      "                                        Single_EQ.ipynb                               aaNotes_ml_im_scale.ipynb \n",
      "                                aa_dev_3_products.ipynb                                     color_options.ipynb \n",
      "                        color_options_custom_maps.ipynb                                       demo_OpenCV.ipynb \n",
      "                                demo_OpenCV_edges.ipynb                                 demo_OpenCV_links.ipynb \n",
      "                                   edges_research.ipynb               eq_par_domain_module_def_experiment.ipynb \n",
      "                      explore_equation_parameters.ipynb            explore_equation_parameters_bugga_bear.ipynb \n",
      "          explore_individual_eq_domain_parameters.ipynb                          fork_and_memmap_and_mmap.ipynb \n",
      "                            impute_color_examples.ipynb              impute_color_examples_HackingHistory.ipynb \n",
      "                           iterate_all_for_timing.ipynb                             nbCMP_color_composite.ipynb \n",
      "                 nbCMP_impute_color__write_module.ipynb                      nbCMP_matplotlib_pillow_talk.ipynb \n",
      "                                pil_imagstat_stat.ipynb                                      plC6_Develop.ipynb \n",
      "                         repo_notebooks_directory.ipynb                                      tf_image_try.ipynb \n",
      "                                         view_dfs.ipynb                                       view_im_dfs.ipynb \n",
      "\n",
      "\n",
      "By Directories:\n",
      "\n",
      "/Users/daniellanier/git_clone/dlanier/scalygraphic/\n",
      "\n",
      "                    repo_notebooks_directory.ipynb \n",
      "\n",
      "\n",
      "/Users/daniellanier/git_clone/dlanier/scalygraphic/doc_code/\n",
      "\n",
      "                    0000_jupyter_cheat_sheet.ipynb                             SciPy_F2Py_links.ipynb \n",
      "                               color_options.ipynb                    color_options_custom_maps.ipynb \n",
      "                                 demo_OpenCV.ipynb                            demo_OpenCV_edges.ipynb \n",
      "                           demo_OpenCV_links.ipynb                               edges_research.ipynb \n",
      "                       impute_color_examples.ipynb         impute_color_examples_HackingHistory.ipynb \n",
      "\n",
      "\n",
      "\n",
      "/Users/daniellanier/git_clone/dlanier/scalygraphic/doc_code/equations_data_spreadsheets/\n",
      "\n",
      "                                    view_dfs.ipynb \n",
      "\n",
      "\n",
      "/Users/daniellanier/git_clone/dlanier/scalygraphic/doc_code/images_description_spreadsheets/\n",
      "\n",
      "                                 view_im_dfs.ipynb \n",
      "\n",
      "\n",
      "/Users/daniellanier/git_clone/dlanier/scalygraphic/archive/\n",
      "\n",
      "                              IN_cnumimageD3.ipynb                                IN_deg0ddeqD3.ipynb \n",
      "                                 IN_eqiterD3.ipynb                                  IN_zplainD3.ipynb \n",
      "                         LMFA_pil_image_stat.ipynb                        nbCMP_color_composite.ipynb \n",
      "            nbCMP_impute_color__write_module.ipynb                 nbCMP_matplotlib_pillow_talk.ipynb \n",
      "                           pil_imagstat_stat.ipynb \n",
      "\n",
      "\n",
      "/Users/daniellanier/git_clone/dlanier/scalygraphic/notebookEdges/\n",
      "\n",
      "                    0001_Gradient_Resolution.ipynb           0002_Gradient_Resolution_to_Module.ipynb \n",
      "   0003_Gradient_Resolution_Noise_Viewer_001.ipynb    0003_Gradient_Resolution_Noise_Viewer_002.ipynb \n",
      "   0003_Gradient_Resolution_Noise_Viewer_003.ipynb    0003_Gradient_Resolution_Noise_Viewer_004.ipynb \n",
      "   0003_Gradient_Resolution_Noise_Viewer_005.ipynb    0003_Gradient_Resolution_Noise_Viewer_006.ipynb \n",
      "                                 000_Edges3D.ipynb                                AB_mnst_edges.ipynb \n",
      "\n",
      "\n",
      "\n",
      "/Users/daniellanier/git_clone/dlanier/scalygraphic/notebooksRun/\n",
      "\n",
      "                          Choose_And_Display.ipynb                         LambdaD_9_zoom_range.ipynb \n",
      "\n",
      "\n",
      "\n",
      "/Users/daniellanier/git_clone/dlanier/scalygraphic/notebookSource/\n",
      "\n",
      "                         aaNotes_ml_im_scale.ipynb          eq_par_domain_module_def_experiment.ipynb \n",
      "\n",
      "\n",
      "\n",
      "/Users/daniellanier/git_clone/dlanier/scalygraphic/notebooksHeadHunt/\n",
      "\n",
      "                      AAA_HeadHuntHistorical.ipynb \n",
      "\n",
      "\n",
      "/Users/daniellanier/git_clone/dlanier/scalygraphic/notebookExperimental/\n",
      "\n",
      "                                   Single_EQ.ipynb                            aa_dev_3_products.ipynb \n",
      "                 explore_equation_parameters.ipynb       explore_equation_parameters_bugga_bear.ipynb \n",
      "     explore_individual_eq_domain_parameters.ipynb                     fork_and_memmap_and_mmap.ipynb \n",
      "                      iterate_all_for_timing.ipynb                                 plC6_Develop.ipynb \n",
      "                                tf_image_try.ipynb \n"
     ]
    }
   ],
   "source": [
    "\"\"\"\n",
    "        Existing Here & Now Notebooks:\n",
    "\"\"\"\n",
    "f_ext_list = ['.ipynb']\n",
    "this_dir = os.getcwd()\n",
    "f_dict = dict()\n",
    "dir_dict = defaultdict(list)\n",
    "for d, dl, fl in os.walk(this_dir):\n",
    "    if len(fl) > 0:\n",
    "        for f in fl:\n",
    "            if os.path.splitext(f)[-1] in f_ext_list:\n",
    "                if not f.endswith('-checkpoint.ipynb'):\n",
    "                    full_file_name = os.path.join(d, f)\n",
    "                    f_dict[full_file_name] = f\n",
    "                    dir_dict[d].append(f)\n",
    "                    \n",
    "print(len(f_dict), 'notebooks found today: %s\\n'%(datetime.strftime(datetime.now(), format='%H:%M:%S %Y %m %d')))\n",
    "print(\"\\n\\nBy Short File Names:\\n\")\n",
    "\n",
    "for i, nb in enumerate(sorted(f_dict.values())):\n",
    "    print('%55s'%(nb), end=' ')\n",
    "    if (i+1) % 2 == 0:\n",
    "        print()\n",
    "\n",
    "print(\"\\n\\nBy Directories:\", end='')\n",
    "for d, fl in dir_dict.items():\n",
    "    print('\\n\\n%s%s\\n'%(d, os.sep))\n",
    "    for i, f in enumerate(sorted(fl)):\n",
    "        print('%50s'%(f), end=' ')\n",
    "        if (i+1) % 2 == 0:\n",
    "            print()\n",
    "    print()"
   ]
  },
  {
   "cell_type": "code",
   "execution_count": 5,
   "id": "c5a581af",
   "metadata": {},
   "outputs": [],
   "source": [
    "# list all the files ever in the repo: (write to a file)\n",
    "# !git log --pretty=format: --name-only --diff-filter=A | sort - | sed '/^$/d' >> temporary_dog_file.txt\n",
    "\n",
    "# list the files that are being tracked:\n",
    "!git ls-tree -r master --name-only >> temporary_dog_file.txt"
   ]
  },
  {
   "cell_type": "code",
   "execution_count": 4,
   "id": "50ea7b16",
   "metadata": {
    "scrolled": false
   },
   "outputs": [
    {
     "name": "stdout",
     "output_type": "stream",
     "text": [
      "\n",
      "Uncomment & run one of the commands (in cell above),\n",
      "to create the file. Then run this Cell again.\n"
     ]
    }
   ],
   "source": [
    "tmp_filename = 'temporary_dog_file_.txt____'\n",
    "if os.path.isfile(tmp_filename):\n",
    "    with open(tmp_filename, 'r') as fh:\n",
    "        lines = fh.readlines()\n",
    "\n",
    "    if len(lines) > 0:\n",
    "        print('%i lines'%(len(lines)))\n",
    "        for line in lines:\n",
    "            print(line.strip())\n",
    "else:\n",
    "    print('\\nUncomment & run one of the commands (in cell above),\\nto create the file. Then run this Cell again.')"
   ]
  },
  {
   "cell_type": "code",
   "execution_count": null,
   "id": "15060bdd",
   "metadata": {},
   "outputs": [],
   "source": []
  }
 ],
 "metadata": {
  "kernelspec": {
   "display_name": "Python [conda env:pytorch_env] *",
   "language": "python",
   "name": "conda-env-pytorch_env-py"
  },
  "language_info": {
   "codemirror_mode": {
    "name": "ipython",
    "version": 3
   },
   "file_extension": ".py",
   "mimetype": "text/x-python",
   "name": "python",
   "nbconvert_exporter": "python",
   "pygments_lexer": "ipython3",
   "version": "3.8.12"
  }
 },
 "nbformat": 4,
 "nbformat_minor": 5
}
