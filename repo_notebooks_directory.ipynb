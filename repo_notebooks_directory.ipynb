{
 "cells": [
  {
   "cell_type": "code",
   "execution_count": 1,
   "id": "2c845573",
   "metadata": {},
   "outputs": [],
   "source": [
    "import os, time, sys\n",
    "from datetime import datetime\n",
    "from collections import defaultdict\n",
    "\n",
    "import numpy as np\n",
    "import pandas as pd\n",
    "\n",
    "# from git import Repo\n",
    "import git"
   ]
  },
  {
   "cell_type": "code",
   "execution_count": 14,
   "id": "f97470f1",
   "metadata": {
    "scrolled": false
   },
   "outputs": [
    {
     "data": {
      "text/plain": [
       "(<git.Commit \"285afc0963db413646e2f8fd2aecfca536653e26\">,\n",
       " [<git.Head \"refs/heads/master\">])"
      ]
     },
     "execution_count": 14,
     "metadata": {},
     "output_type": "execute_result"
    }
   ],
   "source": [
    "repo = git.Repo(os.getcwd())\n",
    "\n",
    "heads = repo.heads\n",
    "master = heads.master       # lists can be accessed by name for convenience\n",
    "# master.commit               # the commit pointed to by head called master\n",
    "# master.rename('new_name')   # rename heads\n",
    "# master.rename('master')\n",
    "master.commit, heads"
   ]
  },
  {
   "cell_type": "markdown",
   "id": "c801d06f",
   "metadata": {},
   "source": [
    "GitPython [read the docs](https://gitpython.readthedocs.io/en/stable/tutorial.html#) <br>\n",
    "****\n",
    "# Repo Directory:\n"
   ]
  },
  {
   "cell_type": "code",
   "execution_count": null,
   "id": "0729705f",
   "metadata": {},
   "outputs": [],
   "source": [
    "\"\"\"\n",
    "        Existing Here & Now Notebooks:\n",
    "\"\"\"\n",
    "f_ext_list = ['.ipynb']\n",
    "this_dir = os.getcwd()\n",
    "f_dict = dict()\n",
    "dir_dict = defaultdict(list)\n",
    "for d, dl, fl in os.walk(this_dir):\n",
    "    if len(fl) > 0:\n",
    "        for f in fl:\n",
    "            if os.path.splitext(f)[-1] in f_ext_list:\n",
    "                if not f.endswith('-checkpoint.ipynb'):\n",
    "                    full_file_name = os.path.join(d, f)\n",
    "                    f_dict[full_file_name] = f\n",
    "                    dir_dict[d].append(f)\n",
    "                    \n",
    "print(len(f_dict), 'notebooks found today: %s\\n'%(datetime.strftime(datetime.now(), format='%H:%M:%S %Y %m %d')))\n",
    "\n",
    "for i, nb in enumerate(sorted(f_dict.values())):\n",
    "    print('%55s'%(nb), end=' ')\n",
    "    if (i+1) % 2 == 0:\n",
    "        print()\n",
    "\n",
    "print(\"\\n\\nBy Directories:\", end='')\n",
    "for d, fl in dir_dict.items():\n",
    "    print('\\n\\n%s%s\\n'%(d, os.sep))\n",
    "    for i, f in enumerate(sorted(fl)):\n",
    "        print('%50s'%(f), end=' ')\n",
    "        if (i+1) % 2 == 0:\n",
    "            print()\n",
    "    print()"
   ]
  },
  {
   "cell_type": "code",
   "execution_count": null,
   "id": "68570af7",
   "metadata": {},
   "outputs": [],
   "source": [
    "# list all the files ever in the repo: (write to a file)\n",
    "# !git log --pretty=format: --name-only --diff-filter=A | sort - | sed '/^$/d' >> temporary_dog_file.txt\n",
    "\n",
    "# list the files that are being tracked:\n",
    "!git ls-tree -r master --name-only"
   ]
  },
  {
   "cell_type": "code",
   "execution_count": null,
   "id": "9b02dd8e",
   "metadata": {},
   "outputs": [],
   "source": [
    "with open('temporary_dog_file.txt', 'r') as fh:\n",
    "    lines = fh.readlines()\n",
    "    \n",
    "if len(lines) > 0:\n",
    "    print('%i lines'%(len(lines)))\n",
    "    for line in lines:\n",
    "        print(line.strip())"
   ]
  }
 ],
 "metadata": {
  "kernelspec": {
   "display_name": "Python [conda env:pytorch_env] *",
   "language": "python",
   "name": "conda-env-pytorch_env-py"
  },
  "language_info": {
   "codemirror_mode": {
    "name": "ipython",
    "version": 3
   },
   "file_extension": ".py",
   "mimetype": "text/x-python",
   "name": "python",
   "nbconvert_exporter": "python",
   "pygments_lexer": "ipython3",
   "version": "3.8.12"
  }
 },
 "nbformat": 4,
 "nbformat_minor": 5
}
