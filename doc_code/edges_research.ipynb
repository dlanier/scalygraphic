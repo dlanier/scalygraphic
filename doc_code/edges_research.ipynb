{
 "cells": [
  {
   "cell_type": "markdown",
   "metadata": {},
   "source": [
    "# Edges For ML\n",
    "****\n",
    "#### existing public:\n",
    "[scikit image Canny edge det](https://scikit-image.org/docs/stable/auto_examples/edges/plot_canny.html?highlight=edges) <br>\n",
    "[scikit image compare edges options](https://scikit-image.org/docs/stable/auto_examples/applications/plot_coins_segmentation.html?highlight=edges) <br>\n",
    "[scikit image edge operators](https://scikit-image.org/docs/stable/auto_examples/edges/plot_edge_filter.html?highlight=edges) <br>\n",
    "[scikit image edge detect search](https://scikit-image.org/docs/stable/search.html?q=edges&check_keywords=yes&area=default#) <br>\n",
    "[scikit image edge modes for transform interpolation](https://scikit-image.org/docs/stable/auto_examples/transform/plot_edge_modes.html?highlight=edges) <br>\n",
    "****\n",
    "[Find Faces In Edges in 20 lines of code](https://towardsdatascience.com/find-face-edges-in-20-lines-of-code-from-scratch-8058e128c013) <br>\n",
    "\n",
    "****\n",
    "##### off topic link landing\n",
    "[BERT](https://medium.com/sciforce/googles-bert-changing-the-nlp-landscape-5f4a7bf65cc5) <br>"
   ]
  },
  {
   "cell_type": "code",
   "execution_count": 1,
   "metadata": {},
   "outputs": [],
   "source": [
    "import os"
   ]
  },
  {
   "cell_type": "code",
   "execution_count": null,
   "metadata": {},
   "outputs": [],
   "source": []
  },
  {
   "cell_type": "code",
   "execution_count": null,
   "metadata": {},
   "outputs": [],
   "source": []
  },
  {
   "cell_type": "code",
   "execution_count": null,
   "metadata": {},
   "outputs": [],
   "source": []
  }
 ],
 "metadata": {
  "kernelspec": {
   "display_name": "Python 3",
   "language": "python",
   "name": "python3"
  },
  "language_info": {
   "codemirror_mode": {
    "name": "ipython",
    "version": 3
   },
   "file_extension": ".py",
   "mimetype": "text/x-python",
   "name": "python",
   "nbconvert_exporter": "python",
   "pygments_lexer": "ipython3",
   "version": "3.7.3"
  }
 },
 "nbformat": 4,
 "nbformat_minor": 2
}
