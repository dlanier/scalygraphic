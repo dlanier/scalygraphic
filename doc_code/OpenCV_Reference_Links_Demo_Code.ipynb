{
 "cells": [
  {
   "cell_type": "markdown",
   "metadata": {},
   "source": [
    "# OpenCV - the tawdry story:\n",
    "[**pypi OpenCV** tutorials](https://docs.opencv.org/master/d6/d00/tutorial_py_root.html) <br>\n",
    "\n",
    "## Uninstall the old install the pythonic new.\n",
    "[**pypi OpenCV** skvark (unofficial)](https://pypi.org/project/opencv-python/) <br>\n",
    "[**pypi OpenCV** skvark-GitHub](https://github.com/skvark/opencv-python) <br>\n",
    "    * Old cv morfed into 4 versions of cv2\n",
    "    * Open source became muddied by patents, documentation is widelyscattered\n",
    "[**OpenCV Doc main page** (official \"unofficial\" latest)](https://docs.opencv.org/master/) <br>\n",
    "\n",
    "[**OpenCV** Colormaps](https://docs.opencv.org/2.4/modules/contrib/doc/facerec/colormaps.html) <br>\n",
    "[**python cv2** colorspace conversion](https://docs.opencv.org/3.0-beta/doc/py_tutorials/py_imgproc/py_colorspaces/py_colorspaces.html) <br>\n",
    "****\n",
    "## OpenCV specific technique\n",
    "[padding](https://docs.opencv.org/master/d3/df2/tutorial_py_basic_ops.html) <br>\n",
    "[cv2 colorspace](https://docs.opencv.org/master/df/d9d/tutorial_py_colorspaces.html) <br>\n",
    "\n",
    "****\n",
    "## OpenCV Technical:\n",
    "[c++ binding](https://docs.opencv.org/master/da/d49/tutorial_py_bindings_basics.html) <br>\n",
    "[histogram 40x faster than np](https://docs.opencv.org/master/de/db2/tutorial_py_table_of_contents_histograms.html) <br>\n",
    "\n",
    "****\n",
    "## Recommended Adittional Resources:\n",
    "[matplotlib pyplot](https://matplotlib.org/api/pyplot_api.html) <br>\n",
    "[StackOverflow BGR | RGB discussion](https://stackoverflow.com/questions/15072736/extracting-a-region-from-an-image-using-slicing-in-python-opencv/15074748#15074748) <br>\n",
    "### warning:\n",
    "`Color images will not be displayed correctly in Matplotlib if image is read with OpenCV. \n",
    "    Color image loaded by OpenCV is in BGR mode -- But Matplotlib displays in RGB mode.\n",
    "`\n",
    "```python\n",
    "img = cv2.imread('messi4.jpg')\n",
    "b,g,r = cv2.split(img)\n",
    "img2 = cv2.merge([r,g,b])\n",
    "```\n",
    "\n",
    "[**pynash.org** profiling & timeing](https://pynash.org/2013/03/06/timing-and-profiling/) <br>\n",
    "[advanced numpy](http://scipy-lectures.org/advanced/advanced_numpy/index.html#advanced-numpy) <br>\n",
    "\n",
    "****\n",
    "## Maybe convenient:\n",
    "[opencv_wrapper on GitHub](https://github.com/anbergem/opencv_wrapper) <br>"
   ]
  },
  {
   "cell_type": "code",
   "execution_count": 11,
   "metadata": {},
   "outputs": [
    {
     "name": "stdout",
     "output_type": "stream",
     "text": [
      "                  TERM_PROGRAM: Apple_Terminal\n",
      "                         SHELL: /bin/bash\n",
      "                          TERM: xterm-color\n",
      "                        TMPDIR: /var/folders/gf/ybz3wzn55m139k_4dw2v_tvm0000gn/T/\n",
      "          TERM_PROGRAM_VERSION: 433\n",
      "               TERM_SESSION_ID: AA221CF3-95F3-4DE0-BE26-45D707B823F5\n",
      "                          USER: mojo\n",
      "                 SSH_AUTH_SOCK: /private/tmp/com.apple.launchd.c8RnCxxXkI/Listeners\n",
      "                          PATH: \n",
      "                              \t/Library/Frameworks/Python.framework/Versions/3.7/bin\n",
      "                              \t/usr/local/opt/texinfo/bin\n",
      "                              \t/usr/local/opt/qt/bin\n",
      "                              \t/usr/local/opt/texinfo/bin\n",
      "                              \t/usr/local/opt/qt/bin\n",
      "                              \t/Library/Frameworks/Python.framework/Versions/3.7/bin\n",
      "                              \t/usr/local/go/bin\n",
      "                              \t/usr/local/bin\n",
      "                              \t/usr/bin\n",
      "                              \t/bin\n",
      "                              \t/usr/sbin\n",
      "                              \t/sbin\n",
      "                              \t/Library/Apple/usr/bin\n",
      "                              \t/Library/Apple/bin\n",
      "                              \t/Library/TeX/texbin\n",
      "                              \t/usr/local/go/bin\n",
      "                              \t/opt/X11/bin\n",
      "                           PWD: /Users/mojo\n",
      "                          LANG: en_US.UTF-8\n",
      "                     XPC_FLAGS: 0x0\n",
      "              XPC_SERVICE_NAME: 0\n",
      "                         SHLVL: 1\n",
      "                          HOME: /Users/mojo\n",
      "                       LOGNAME: mojo\n",
      "                        GOPATH: /Users/mojo/go\n",
      "                       DISPLAY: /private/tmp/com.apple.launchd.difvezubqp/org.macosforge.xquartz:0\n",
      "                             _: /Library/Frameworks/Python.framework/Versions/3.7/bin/jupyter\n",
      "       __CF_USER_TEXT_ENCODING: 0x1F5:0x0:0x0\n",
      "           __PYVENV_LAUNCHER__: /Library/Frameworks/Python.framework/Versions/3.7/bin/python3.7\n",
      "                JPY_PARENT_PID: 870\n",
      "                      CLICOLOR: 1\n",
      "                         PAGER: cat\n",
      "                     GIT_PAGER: cat\n",
      "                    MPLBACKEND: module://ipykernel.pylab.backend_inline\n"
     ]
    }
   ],
   "source": [
    "import os\n",
    "osx_env = os.environ\n",
    "\n",
    "for k, v in osx_env.items():\n",
    "    if k == 'PATH':\n",
    "        print('%30s: %s'%(k,''))\n",
    "        V_items = v.strip().split(':')\n",
    "        for v_it in V_items:\n",
    "            print('%30s\\t%s'%('',v_it))\n",
    "            \n",
    "    else:\n",
    "        print('%30s: %s'%(k,v))"
   ]
  },
  {
   "cell_type": "code",
   "execution_count": 1,
   "metadata": {},
   "outputs": [
    {
     "name": "stdout",
     "output_type": "stream",
     "text": [
      "Help on built-in function imwrite:\n",
      "\n",
      "imwrite(...)\n",
      "    imwrite(filename, img[, params]) -> retval\n",
      "    .   @brief Saves an image to a specified file.\n",
      "    .   \n",
      "    .   The function imwrite saves the image to the specified file. The image format is chosen based on the\n",
      "    .   filename extension (see cv::imread for the list of extensions). In general, only 8-bit\n",
      "    .   single-channel or 3-channel (with 'BGR' channel order) images\n",
      "    .   can be saved using this function, with these exceptions:\n",
      "    .   \n",
      "    .   - 16-bit unsigned (CV_16U) images can be saved in the case of PNG, JPEG 2000, and TIFF formats\n",
      "    .   - 32-bit float (CV_32F) images can be saved in PFM, TIFF, OpenEXR, and Radiance HDR formats;\n",
      "    .   3-channel (CV_32FC3) TIFF images will be saved using the LogLuv high dynamic range encoding\n",
      "    .   (4 bytes per pixel)\n",
      "    .   - PNG images with an alpha channel can be saved using this function. To do this, create\n",
      "    .   8-bit (or 16-bit) 4-channel image BGRA, where the alpha channel goes last. Fully transparent pixels\n",
      "    .   should have alpha set to 0, fully opaque pixels should have alpha set to 255/65535 (see the code sample below).\n",
      "    .   \n",
      "    .   If the format, depth or channel order is different, use\n",
      "    .   Mat::convertTo and cv::cvtColor to convert it before saving. Or, use the universal FileStorage I/O\n",
      "    .   functions to save the image to XML or YAML format.\n",
      "    .   \n",
      "    .   The sample below shows how to create a BGRA image and save it to a PNG file. It also demonstrates how to set custom\n",
      "    .   compression parameters:\n",
      "    .   @include snippets/imgcodecs_imwrite.cpp\n",
      "    .   @param filename Name of the file.\n",
      "    .   @param img Image to be saved.\n",
      "    .   @param params Format-specific parameters encoded as pairs (paramId_1, paramValue_1, paramId_2, paramValue_2, ... .) see cv::ImwriteFlags\n",
      "\n"
     ]
    }
   ],
   "source": [
    "import cv2\n",
    "help(cv2.imwrite)"
   ]
  },
  {
   "cell_type": "code",
   "execution_count": 5,
   "metadata": {},
   "outputs": [
    {
     "name": "stdout",
     "output_type": "stream",
     "text": [
      "[]\n"
     ]
    }
   ],
   "source": [
    "flags = [i for i in dir(cv2) if i.startswith('ImwriteFlags')]\n",
    "print(flags)"
   ]
  }
 ],
 "metadata": {
  "kernelspec": {
   "display_name": "Python 3",
   "language": "python",
   "name": "python3"
  },
  "language_info": {
   "codemirror_mode": {
    "name": "ipython",
    "version": 3
   },
   "file_extension": ".py",
   "mimetype": "text/x-python",
   "name": "python",
   "nbconvert_exporter": "python",
   "pygments_lexer": "ipython3",
   "version": "3.7.3"
  }
 },
 "nbformat": 4,
 "nbformat_minor": 2
}
