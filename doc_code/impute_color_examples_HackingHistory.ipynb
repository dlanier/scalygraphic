{
 "cells": [
  {
   "cell_type": "markdown",
   "metadata": {},
   "source": [
    "# Coloring to preserve Computational Details:\n",
    "\n"
   ]
  },
  {
   "cell_type": "code",
   "execution_count": null,
   "metadata": {},
   "outputs": [],
   "source": [
    "import warnings\n",
    "warnings.filterwarnings('ignore')\n",
    "\n",
    "import time\n",
    "import sys\n",
    "import tempfile\n",
    "\n",
    "import skimage.io as im_io\n",
    "\n",
    "from PIL import TiffImagePlugin as tip\n",
    "from PIL.TiffImagePlugin import Image\n",
    "\n",
    "import matplotlib.pyplot as pyplot\n",
    "\n",
    "sys.path.insert(0, '../src/')\n",
    "sys.path.insert(0, 'scalygraphic/src/')\n",
    "\n",
    "from im_scale_products import *\n",
    "from impute_color import *"
   ]
  },
  {
   "cell_type": "markdown",
   "metadata": {},
   "source": [
    "# Compute\n",
    "****\n",
    "### Algebraic Vector Matrix Data: *EscapeTime, Z_initial, Z_final* (ET, Z0, Z)"
   ]
  },
  {
   "cell_type": "code",
   "execution_count": null,
   "metadata": {},
   "outputs": [],
   "source": [
    "results_dir = '../../results'\n",
    "run_parameters = get_default_run_parameters(results_dir=None)\n",
    "run_parameters['theta'] = np.pi / 2\n",
    "if os.path.isdir(run_parameters['dir_path']) == False:\n",
    "    os.makedirs(run_parameters['dir_path'])\n",
    "    \n",
    "fcn_name = 'nlC3'\n",
    "# eq = EQUS_DICT[EQUS_DICT_NAMED_IDX[fcn_name]][1]\n",
    "eq = name_functionhandle_dict[number_function_name_dict[fcn_name]][1]\n",
    "# generate parameters:\n",
    "# p = eq(1, None)\n",
    "\n",
    "p = [0.106699281931, -1.446300888486, 0.763588120232]\n",
    "print('Using Equation parameters:\\n',p,'\\n')\n",
    "\n",
    "list_tuple = [(eq, (p))]\n",
    "\n",
    "t0 = time.time()\n",
    "ET_1, Z_1, Z0_1 = eq_iter.get_primitives(list_tuple, run_parameters)\n",
    "tt = time.time() - t0\n",
    "print(tt, 's\\ndata matrices size = ', ET_1.shape)"
   ]
  },
  {
   "cell_type": "code",
   "execution_count": null,
   "metadata": {},
   "outputs": [],
   "source": [
    "Zd = np.abs(Z0_1 - Z_1)\n",
    "Zd = Zd - Zd.min()\n",
    "Zd = Zd / Zd.max()\n",
    "Zd_plt = Zd.reshape(-1)\n",
    "print('Before:', Zd_plt.shape, (Zd_plt > top_cut).sum())\n",
    "top_cut = 0.1\n",
    "Zd_plt[Zd_plt >= top_cut] = top_cut\n",
    "print('After :', Zd_plt.shape, (Zd_plt <= top_cut).sum())\n",
    "\n",
    "bins = np.linspace(0,top_cut,16)\n",
    "hist, bin_edges = np.histogram(Zd_plt, bins)\n",
    "\n",
    "pyplot.bar(bin_edges[:-1], hist, width = 1)\n",
    "pyplot.xlim(min(bin_edges), max(bin_edges))\n",
    "pyplot.show()   "
   ]
  },
  {
   "cell_type": "code",
   "execution_count": null,
   "metadata": {},
   "outputs": [],
   "source": [
    "Zd_n2, Zr_n2, ETn_n2 = etg_norm(Z0_1, Z_1, ET_1)\n",
    "Zd_plt = Zd_n2.reshape(-1)\n",
    "bins = np.linspace(0,1,255)\n",
    "hist, bin_edges = np.histogram(Zd_plt, bins)\n",
    "\n",
    "pyplot.bar(bin_edges[:-1], hist, width = 1)\n",
    "pyplot.xlim(min(bin_edges), max(bin_edges))\n",
    "pyplot.show()   \n"
   ]
  },
  {
   "cell_type": "code",
   "execution_count": null,
   "metadata": {},
   "outputs": [],
   "source": [
    "def pil_rgb_2_uint16_gray(rgb_im):\n",
    "    \"\"\" convert a pillow rgb image to an unsigned 16 bit numpy array \n",
    "            - suitable for skimage.io.imsave\n",
    "            - suitable for matplotlib color mapping\n",
    "    \n",
    "    Args:\n",
    "        rgb_im:     PIL rgb image\n",
    "        \n",
    "    Returns:\n",
    "        gray_int:   numpy.ndarray of uint16 (0, 65535)\n",
    "    \"\"\"\n",
    "    rgb_im.getdata()\n",
    "    r, g, b = rgb_im.split()\n",
    "    \n",
    "    ra = np.array(r)\n",
    "    ga = np.array(g)\n",
    "    ba = np.array(b)\n",
    "\n",
    "    bit_depth = 2**16 - 1\n",
    "    \n",
    "    R2g = 0.299\n",
    "    G2g = 0.587\n",
    "    B2g = 0.114\n",
    "        \n",
    "    gray_int = np.uint16((R2g*ra + G2g*ga + B2g*ba) * bit_depth)\n",
    "    \n",
    "    return gray_int\n",
    "\n",
    "\n",
    "img = get_im(ET_1, Z_1, Z0_1)\n",
    "g_im = pil_rgb_2_uint16_gray(img)\n",
    "\n",
    "pyplot.figure()\n",
    "pyplot.imshow(g_im, cmap='gray')"
   ]
  },
  {
   "cell_type": "code",
   "execution_count": null,
   "metadata": {},
   "outputs": [],
   "source": [
    "Zd = np.abs(Z0_1 - Z_1)\n",
    "Zd = Zd - Zd.min()\n",
    "Zd = Zd / Zd.max()\n",
    "# Z_idx = np.uint16(Zd * (2**16 - 1))\n",
    "Z_idx = np.uint8(Zd * (2**8 - 1))\n",
    "pyplot.figure()\n",
    "pyplot.imshow(Z_idx, cmap='gray')"
   ]
  },
  {
   "cell_type": "code",
   "execution_count": null,
   "metadata": {},
   "outputs": [],
   "source": [
    "n_rows, n_cols = Zd.shape\n",
    "I = np.zeros((n_rows, n_cols, 3))\n",
    "I[:,:,0] += Zd \n",
    "I[:,:,1] += Zd \n",
    "I[:,:,2] += Zd\n",
    "I_im = np.uint16(I * (2**16-1))\n",
    "pyplot.figure()\n",
    "pyplot.imshow(I_im)"
   ]
  },
  {
   "cell_type": "code",
   "execution_count": null,
   "metadata": {},
   "outputs": [],
   "source": [
    "def get_uint16_gray(ET, Z, Z0):\n",
    "    \"\"\"  convert results data (ET, Z, Z0) to an unsigned 16 bit numpy array \n",
    "            - Write with: skimage.io.imsave(f_name, gray_int)\n",
    "            - colo map with matplotlib.cm\n",
    "    Args:\n",
    "        ET:     (Integer) matrix of the Escape Times    \n",
    "        Z:      (complex) matrix of the final vectors   \n",
    "        Z0:     (complex) matrix of the starting plane\n",
    "\n",
    "    Returns:\n",
    "        gray_16bit:     numpy.ndarray (16 bit integer)\n",
    "    \"\"\"\n",
    "    img = get_im(ET, Z, Z0)\n",
    "    gray_int = pil_rgb_2_uint16_gray(img)\n",
    "    \n",
    "    return gray_int\n",
    "\n",
    "\n",
    "\n",
    "gray_im = get_uint16_gray(ET_1, Z_1, Z0_1)\n",
    "print(type(gray_im), gray_im.shape, len(list(set(gray_im.reshape(-1)))))\n",
    "\n",
    "f_name = 'test_skim_io_16.tiff'\n",
    "im_io.imsave(f_name, gray_im)\n",
    "\n",
    "read_im = im_io.imread(f_name)\n",
    "print('type(read_im)',type(read_im), read_im.shape, len(list(set(read_im.reshape(-1)))))\n",
    "pyplot.figure()\n",
    "pyplot.imshow(gray_im, cmap='gray')"
   ]
  },
  {
   "cell_type": "markdown",
   "metadata": {},
   "source": [
    "```\n",
    "<class 'numpy.ndarray'> (256, 256) 22301\n",
    "type(read_im) <class 'numpy.ndarray'> (256, 256) 22301\n",
    "```"
   ]
  },
  {
   "cell_type": "code",
   "execution_count": null,
   "metadata": {},
   "outputs": [],
   "source": [
    "help(im_io.imsave)"
   ]
  },
  {
   "cell_type": "code",
   "execution_count": null,
   "metadata": {},
   "outputs": [],
   "source": [
    "os.listdir('../test/run_dir/results')"
   ]
  },
  {
   "cell_type": "code",
   "execution_count": null,
   "metadata": {},
   "outputs": [],
   "source": []
  },
  {
   "cell_type": "code",
   "execution_count": null,
   "metadata": {},
   "outputs": [],
   "source": []
  },
  {
   "cell_type": "code",
   "execution_count": null,
   "metadata": {},
   "outputs": [],
   "source": []
  },
  {
   "cell_type": "code",
   "execution_count": null,
   "metadata": {},
   "outputs": [],
   "source": []
  },
  {
   "cell_type": "code",
   "execution_count": null,
   "metadata": {},
   "outputs": [],
   "source": []
  },
  {
   "cell_type": "code",
   "execution_count": null,
   "metadata": {},
   "outputs": [],
   "source": []
  },
  {
   "cell_type": "code",
   "execution_count": null,
   "metadata": {},
   "outputs": [],
   "source": []
  },
  {
   "cell_type": "code",
   "execution_count": null,
   "metadata": {},
   "outputs": [],
   "source": []
  },
  {
   "cell_type": "code",
   "execution_count": null,
   "metadata": {},
   "outputs": [],
   "source": []
  },
  {
   "cell_type": "markdown",
   "metadata": {},
   "source": [
    "## Useful examples -- *impute_color.py* functions\n",
    "****\n",
    "### View the raw escape time & distance data in greyscle:\n",
    "* Note that most of the data is not easy to see because the extremes hog the black or white.\n",
    "* Enumerated, normalized version below shows all three imputed with an HSV scheme.\n",
    "### Naive method: normalize all to graphic floats in range (0, 1)"
   ]
  },
  {
   "cell_type": "code",
   "execution_count": null,
   "metadata": {},
   "outputs": [],
   "source": [
    "im = get_im(ET_1, Z_1, Z0_1)\n",
    "display(im)"
   ]
  },
  {
   "cell_type": "code",
   "execution_count": null,
   "metadata": {},
   "outputs": [],
   "source": [
    "# import numpy as np\n",
    "# from PIL.Image import Image\n",
    "# import matplotlib.pyplot as pyplot\n",
    "\n",
    "img = im # Image.open(\"/Users/travis/Desktop/new_zealand.tif\")\n",
    "\n",
    "img.getdata()\n",
    "r, g, b = img.split()\n",
    "\n",
    "ra = np.array(r)\n",
    "ga = np.array(g)\n",
    "ba = np.array(b)\n",
    "\n",
    "gray = (0.299*ra + 0.587*ga + 0.114*ba)\n",
    "\n",
    "pyplot.figure()\n",
    "pyplot.imshow(img)\n",
    "pyplot.figure()\n",
    "pyplot.imshow(gray)\n",
    "pyplot.figure()\n",
    "pyplot.imshow(gray, cmap=\"gray\")\n"
   ]
  },
  {
   "cell_type": "code",
   "execution_count": null,
   "metadata": {},
   "outputs": [],
   "source": [
    "A = gray.reshape(-1)\n",
    "print('Number of unique gray levels = ',len(list(set(A))))"
   ]
  },
  {
   "cell_type": "code",
   "execution_count": null,
   "metadata": {},
   "outputs": [],
   "source": [
    "gray[0,0]"
   ]
  },
  {
   "cell_type": "code",
   "execution_count": null,
   "metadata": {},
   "outputs": [],
   "source": [
    "help(tifffile)"
   ]
  },
  {
   "cell_type": "code",
   "execution_count": null,
   "metadata": {},
   "outputs": [],
   "source": [
    "help(tifffile.imwrite)"
   ]
  },
  {
   "cell_type": "code",
   "execution_count": null,
   "metadata": {},
   "outputs": [],
   "source": [
    "# import tempfile\n",
    "# import tiffflie\n",
    "\n",
    "with tempfile.NamedTemporaryFile(suffix='.tif') as tifhandle:\n",
    "    tifffile.imwrite(tifhandle, gray)\n",
    "    gray_back = tifffile.imread(tifhandle.name)"
   ]
  },
  {
   "cell_type": "code",
   "execution_count": null,
   "metadata": {},
   "outputs": [],
   "source": [
    "print(type(gray_back))\n",
    "display(gray_back)"
   ]
  },
  {
   "cell_type": "code",
   "execution_count": null,
   "metadata": {},
   "outputs": [],
   "source": [
    "help(tifffile.imread)"
   ]
  },
  {
   "cell_type": "code",
   "execution_count": null,
   "metadata": {},
   "outputs": [],
   "source": [
    "from tifffile import TiffFile"
   ]
  },
  {
   "cell_type": "code",
   "execution_count": null,
   "metadata": {},
   "outputs": [],
   "source": [
    "help(TiffFile)"
   ]
  },
  {
   "cell_type": "code",
   "execution_count": null,
   "metadata": {},
   "outputs": [],
   "source": [
    "B16 = 2**16 - 1\n",
    "R2g = 0.299\n",
    "G2g = 0.587\n",
    "B2g = 0.114\n",
    "print(1 - (R2g + G2g + B2g))\n",
    "A = np.uint16((R2g*Zd + G2g*Zr + B2g*ETn) * B16)"
   ]
  },
  {
   "cell_type": "code",
   "execution_count": null,
   "metadata": {},
   "outputs": [],
   "source": [
    "B16 = 2**16 - 1\n",
    "n_rows = np.shape(ET_1)[0]\n",
    "n_cols = np.shape(ET_1)[1]\n",
    "Zd, Zr, ETn = etg_norm(Z0_1, Z_1, ET_1)\n",
    "A = np.uint16((R2g*Zd + G2g*Zr + B2g*ETn) * B16)\n",
    "# A = np.zeros((n_rows, n_cols)).astype(np.uint16)\n",
    "# A += (R2g*Zd + G2g*Zr + B2g*ETn) * B16\n",
    "print('A.shape', A.shape, len(list(set(A.reshape(-1)))))\n",
    "pyplot.figure()\n",
    "pyplot.imshow(A)"
   ]
  },
  {
   "cell_type": "code",
   "execution_count": null,
   "metadata": {},
   "outputs": [],
   "source": [
    "nrm_prd = Zd * Zr * ETn\n",
    "nrm_prd = nrm_prd - nrm_prd.min()\n",
    "nrm_prd = nrm_prd / nrm_prd.max()\n",
    "nrm_prd = nrm_prd * B16\n",
    "nrm_prd = np.uint16(nrm_prd)\n",
    "pyplot.figure()\n",
    "pyplot.imshow(nrm_prd)"
   ]
  },
  {
   "cell_type": "code",
   "execution_count": null,
   "metadata": {},
   "outputs": [],
   "source": [
    "#  Zd * Zr * ETn\n",
    "p = np.uint16((Zd * Zr * ETn) * B16)\n",
    "print(B16, len(list(set(nrm_prd.reshape(-1)))))\n",
    "print('Zd ', len(list(set(Zd.reshape(-1)))))\n",
    "print('Zr ', len(list(set(Zd.reshape(-1)))))\n",
    "print('ETn', len(list(set(ETn.reshape(-1)))))\n",
    "print('p', len(list(set(p.reshape(-1)))), p.max())"
   ]
  },
  {
   "cell_type": "code",
   "execution_count": null,
   "metadata": {},
   "outputs": [],
   "source": [
    "f_name = 'test_me_tif_skimio.tiff'\n",
    "print(B.shape, p.shape)\n",
    "im_io.imsave(f_name, p)\n",
    "# with open(f_name, 'wf') as tifhandle:\n",
    "#     im_io.imsave(tifhandle, p)\n",
    "if os.path.isfile(f_name):\n",
    "    print('found:',f_name)\n",
    "\n",
    "P_im = im_io.imread(f_name)\n",
    "pyplot.figure()\n",
    "pyplot.imshow(P_im)"
   ]
  },
  {
   "cell_type": "code",
   "execution_count": null,
   "metadata": {},
   "outputs": [],
   "source": [
    "help(im_io.imsave)"
   ]
  },
  {
   "cell_type": "code",
   "execution_count": null,
   "metadata": {},
   "outputs": [],
   "source": [
    "f_name = 'test_me_tif_p.tiff'\n",
    "with open(f_name, 'wb') as tifhandle:\n",
    "    tifffile.imwrite(tifhandle, B)\n",
    "if os.path.isfile(f_name):\n",
    "    print('found:',f_name)\n",
    "\n",
    "P_im = im_io.imread(f_name)\n",
    "pyplot.figure()\n",
    "pyplot.imshow(P_im)"
   ]
  },
  {
   "cell_type": "code",
   "execution_count": null,
   "metadata": {},
   "outputs": [],
   "source": [
    "c_mp = mpl.cm.get_cmap('gray')\n",
    "B = c_mp(p)\n",
    "pyplot.figure()\n",
    "pyplot.imshow(B)"
   ]
  },
  {
   "cell_type": "code",
   "execution_count": null,
   "metadata": {},
   "outputs": [],
   "source": [
    "f_name = 'test_me_tif.tiff'\n",
    "with open(f_name, 'wb') as tifhandle:\n",
    "    tifffile.imwrite(tifhandle, B)\n",
    "if os.path.isfile(f_name):\n",
    "    print('found:',f_name)"
   ]
  },
  {
   "cell_type": "code",
   "execution_count": null,
   "metadata": {},
   "outputs": [],
   "source": [
    "C = tifffile.imread(f_name)\n",
    "print(type(C))\n",
    "pyplot.figure()\n",
    "pyplot.imshow(C)"
   ]
  },
  {
   "cell_type": "code",
   "execution_count": null,
   "metadata": {},
   "outputs": [],
   "source": [
    "print('C', C.shape, len(list(set(C.reshape(-1)))), C.max(), C.min())"
   ]
  },
  {
   "cell_type": "code",
   "execution_count": null,
   "metadata": {},
   "outputs": [],
   "source": [
    "# def gray_16_tiff()"
   ]
  },
  {
   "cell_type": "code",
   "execution_count": null,
   "metadata": {},
   "outputs": [],
   "source": []
  },
  {
   "cell_type": "code",
   "execution_count": null,
   "metadata": {},
   "outputs": [],
   "source": []
  },
  {
   "cell_type": "code",
   "execution_count": null,
   "metadata": {},
   "outputs": [],
   "source": [
    "# A = np.zeros((n_rows, n_cols, 3))\n",
    "# A[:,:,0] += ETn     # Hue\n",
    "# A[:,:,1] += Zr      # Saturation\n",
    "# A[:,:,2] += Zd      # Value"
   ]
  },
  {
   "cell_type": "code",
   "execution_count": null,
   "metadata": {},
   "outputs": [],
   "source": []
  },
  {
   "cell_type": "code",
   "execution_count": null,
   "metadata": {},
   "outputs": [],
   "source": []
  },
  {
   "cell_type": "code",
   "execution_count": null,
   "metadata": {},
   "outputs": [],
   "source": []
  },
  {
   "cell_type": "code",
   "execution_count": null,
   "metadata": {},
   "outputs": [],
   "source": []
  },
  {
   "cell_type": "code",
   "execution_count": null,
   "metadata": {},
   "outputs": [],
   "source": []
  },
  {
   "cell_type": "code",
   "execution_count": null,
   "metadata": {},
   "outputs": [],
   "source": []
  },
  {
   "cell_type": "code",
   "execution_count": null,
   "metadata": {},
   "outputs": [],
   "source": []
  },
  {
   "cell_type": "code",
   "execution_count": null,
   "metadata": {},
   "outputs": [],
   "source": []
  },
  {
   "cell_type": "code",
   "execution_count": null,
   "metadata": {},
   "outputs": [],
   "source": []
  },
  {
   "cell_type": "code",
   "execution_count": null,
   "metadata": {},
   "outputs": [],
   "source": []
  },
  {
   "cell_type": "code",
   "execution_count": null,
   "metadata": {},
   "outputs": [],
   "source": []
  },
  {
   "cell_type": "code",
   "execution_count": null,
   "metadata": {},
   "outputs": [],
   "source": []
  },
  {
   "cell_type": "code",
   "execution_count": null,
   "metadata": {},
   "outputs": [],
   "source": [
    "# complex result vectors == final minus initial\n",
    "Z_vec = Z_1 - Z0_1\n",
    "\n",
    "#                             normaize all to (0, 1)\n",
    "# number of iterations\n",
    "ET_n1 = graphic_norm(ET_1)\n",
    "g_im_et = primitive_2_gray(ET_n1)\n",
    "# complex result vectors: distance component\n",
    "Zd_n1 = np.abs(Z_vec)\n",
    "Zd_n1 = graphic_norm(Zd_n1)\n",
    "g_im_Zd = primitive_2_gray(Zd_n1)\n",
    "\n",
    "# complex result vectors: rotation component\n",
    "Zr_n1 = np.arctan2(np.imag(Z_vec), np.real(Z_vec))\n",
    "Zr_n1 = graphic_norm(Zr_n1)\n",
    "g_im_Zr = primitive_2_gray(Zr_n1)\n",
    "\n",
    "n_rows = np.shape(ET_1)[0]\n",
    "n_cols = np.shape(ET_1)[1]\n",
    "\n",
    "im_list = [g_im_et,g_im_Zd,g_im_Zr]\n",
    "# new_im = cat_im_list_hori(im_list)\n",
    "new_im = cat_im_list_verti(im_list)\n",
    "print('%15s%30s%30s'%('ET','Zd','Zr'))\n",
    "display(new_im)"
   ]
  },
  {
   "cell_type": "markdown",
   "metadata": {},
   "source": [
    "### Problems with the Naive method:\n",
    "    * Extremes pixel values mask the details in the softer regions\n"
   ]
  },
  {
   "cell_type": "code",
   "execution_count": null,
   "metadata": {},
   "outputs": [],
   "source": [
    "Zd_n2, Zr_n2, ETn_n2 = etg_norm(Z0_1, Z_1, ET_1)\n",
    "\n",
    "g_im_et = primitive_2_gray(ETn_n2)\n",
    "# complex result vectors: distance component\n",
    "g_im_Zd = primitive_2_gray(Zd_n2)\n",
    "\n",
    "# complex result vectors: rotation component\n",
    "g_im_Zr = primitive_2_gray(Zr_n2)\n",
    "\n",
    "im_list = [g_im_et,g_im_Zd,g_im_Zr]\n",
    "new_im = cat_im_list_hori(im_list)\n",
    "#new_im = cat_im_list_verti(im_list)\n",
    "\n",
    "print('%15s%30s%30s'%('ET','Zd','Zr'))\n",
    "display(new_im)"
   ]
  },
  {
   "cell_type": "markdown",
   "metadata": {},
   "source": [
    "### Much better visibility for the distance channel \n",
    "\n",
    "\n",
    "### Compositing all three makes a smooter image"
   ]
  },
  {
   "cell_type": "code",
   "execution_count": null,
   "metadata": {},
   "outputs": [],
   "source": [
    "im_gray = get_gray_im(ET_1, Z_1, Z0_1)\n",
    "display(im_gray)"
   ]
  },
  {
   "cell_type": "code",
   "execution_count": null,
   "metadata": {},
   "outputs": [],
   "source": [
    "gray_array = np.array(im_gray)\n",
    "\n",
    "g = gray_array.reshape(-1)\n",
    "len(list(set(g)))"
   ]
  },
  {
   "cell_type": "markdown",
   "metadata": {},
   "source": [
    "```python\n",
    "import scipy.misc\n",
    "img = scipy.misc.toimage(Zd_n2, mode='L')\n",
    "display(img)\n",
    "\n",
    "---------------------------------------------------------------------------\n",
    "AttributeError                            Traceback (most recent call last)\n",
    "<ipython-input-26-e887f228efaf> in <module>\n",
    "      1 import scipy.misc\n",
    "----> 2 img = scipy.misc.toimage(Zd_n2, mode='L')\n",
    "      3 display(img)\n",
    "\n",
    "AttributeError: module 'scipy.misc' has no attribute 'toimage'\n",
    "\n",
    "```"
   ]
  },
  {
   "cell_type": "code",
   "execution_count": null,
   "metadata": {},
   "outputs": [],
   "source": [
    "n_rows = np.shape(ET_1)[0]\n",
    "n_cols = np.shape(ET_1)[1]\n",
    "Zd, Zr, ETn = etg_norm(Z0_1, Z_1, ET_1)\n",
    "\n",
    "A = np.zeros((n_rows, n_cols, 3))\n",
    "A[:,:,0] += ETn     # Hue\n",
    "A[:,:,1] += Zr      # Saturation\n",
    "A[:,:,2] += Zd      # Value\n",
    "\n",
    "I = tip.Image.fromarray(np.uint8(A*255), 'HSV').convert('RGB')\n",
    "# display(I)\n",
    "# print(A.shape, type(A))\n",
    "fname = 'test.tiff'\n",
    "im_io.imsave(fname, A, plugin='tifffile')\n",
    "if os.path.isfile(fname):\n",
    "    print(fname, 'found')\n",
    "# with tempfile.NamedTemporaryFile(suffix='.tiff') as tmp:\n",
    "#     print(type(tmp), tmp, tmp.name)\n",
    "#     print(os.path.isfile(tmp.name))\n",
    "#     im_io.imsave(tmp.name, A)\n",
    "#     #np.save(tmp, A)\n",
    "#     #im_io.imsave(tmp.name, A)\n",
    "#     #B = im_io.imread(tmp.name) #, as_gray=True)\n",
    "#     #B2 = tip.Image.open(tmp.name)\n",
    "#     #B2 = PIM.open(tmp.name)\n",
    "#     B = im_io.imread(tmp.name)\n",
    "    \n",
    "# print(os.path.isfile(tmp.name))\n",
    "\n",
    "# print(B.shape, type(B), type(B[0,0,0]))\n",
    "# B_img = tip.Image.fromarray(B, 'HSV').convert('RGB')\n",
    "\n",
    "# print('\\n',type(B_img), B_img.size)\n",
    "# display(B_img)\n",
    "# display(I)"
   ]
  },
  {
   "cell_type": "code",
   "execution_count": null,
   "metadata": {},
   "outputs": [],
   "source": [
    "\n"
   ]
  },
  {
   "cell_type": "code",
   "execution_count": null,
   "metadata": {},
   "outputs": [],
   "source": [
    "help(ipd)"
   ]
  },
  {
   "cell_type": "code",
   "execution_count": null,
   "metadata": {},
   "outputs": [],
   "source": [
    "\n",
    "g_im_et = primitive_2_gray(ET_1)\n",
    "g_im_Zd = primitive_2_gray(np.abs(Z_1 - Z0_1))\n",
    "Zv = Z_1 - Z0_1\n",
    "Zv = np.arctan2(np.imag(Zv), np.real(Zv))\n",
    "g_im_Zr = primitive_2_gray(Zv)\n",
    "\n",
    "\n",
    "im_list = [g_im_et,g_im_Zd,g_im_Zr]\n",
    "new_im = cat_im_list_hori(im_list)\n",
    "\n",
    "print('%15s%30s%30s'%('ET','Zd','Zr'))\n",
    "display(new_im)"
   ]
  },
  {
   "cell_type": "code",
   "execution_count": null,
   "metadata": {},
   "outputs": [],
   "source": []
  },
  {
   "cell_type": "code",
   "execution_count": null,
   "metadata": {},
   "outputs": [],
   "source": []
  },
  {
   "cell_type": "code",
   "execution_count": null,
   "metadata": {},
   "outputs": [],
   "source": []
  },
  {
   "cell_type": "code",
   "execution_count": null,
   "metadata": {},
   "outputs": [],
   "source": []
  },
  {
   "cell_type": "code",
   "execution_count": null,
   "metadata": {},
   "outputs": [],
   "source": []
  },
  {
   "cell_type": "code",
   "execution_count": null,
   "metadata": {},
   "outputs": [],
   "source": []
  },
  {
   "cell_type": "code",
   "execution_count": null,
   "metadata": {},
   "outputs": [],
   "source": [
    "Zv = Z_1 - Z0_1\n",
    "\n",
    "ET_f, n_colors = flat_index(ET_1)\n",
    "g_im_et = primitive_2_gray(ET_f)\n",
    "\n",
    "Zv_f, n_colors = flat_index(np.abs(Zv))\n",
    "g_im_Zd = primitive_2_gray(Zv_f)\n",
    "\n",
    "\n",
    "Zr = np.arctan2(np.imag(Zv), np.real(Zv))\n",
    "Zr_f, n_colors = flat_index(Zr)\n",
    "g_im_Zr = primitive_2_gray(Zr_f)\n",
    "\n",
    "\n",
    "im_list = [g_im_et,g_im_Zd,g_im_Zr]\n",
    "new_im = cat_im_list_hori(im_list)\n",
    "\n",
    "print('%15s%30s%30s'%('ET','Zd','Zr'))\n",
    "display(new_im)"
   ]
  },
  {
   "cell_type": "code",
   "execution_count": null,
   "metadata": {},
   "outputs": [],
   "source": [
    "im = map_raw_etg(Z0_1, Z_1, ET_1, c_map_name='gist_gray')\n",
    "display(im)"
   ]
  },
  {
   "cell_type": "code",
   "execution_count": null,
   "metadata": {},
   "outputs": [],
   "source": [
    "im = get_gray_im(ET_1, Z_1, Z0_1)\n",
    "display(im)"
   ]
  },
  {
   "cell_type": "code",
   "execution_count": null,
   "metadata": {},
   "outputs": [],
   "source": []
  },
  {
   "cell_type": "code",
   "execution_count": null,
   "metadata": {},
   "outputs": [],
   "source": []
  },
  {
   "cell_type": "code",
   "execution_count": null,
   "metadata": {},
   "outputs": [],
   "source": [
    "show_color_maps()"
   ]
  },
  {
   "cell_type": "code",
   "execution_count": null,
   "metadata": {},
   "outputs": [],
   "source": [
    "print('%s\\n%s\\n%s'%('ET','Zd','Zr'))\n",
    "new_im = cat_im_list_verti(im_list)\n",
    "display(new_im)"
   ]
  },
  {
   "cell_type": "code",
   "execution_count": null,
   "metadata": {},
   "outputs": [],
   "source": [
    "g_im_et = primitive_2_gray(ET_1)\n",
    "\n",
    "display(g_im_et)"
   ]
  },
  {
   "cell_type": "code",
   "execution_count": null,
   "metadata": {},
   "outputs": [],
   "source": [
    "g_im_Zd = primitive_2_gray(np.abs(Z_1 - Z0_1))\n",
    "display(g_im_Zd)"
   ]
  },
  {
   "cell_type": "code",
   "execution_count": null,
   "metadata": {},
   "outputs": [],
   "source": [
    "# Zd_1, Zr_1, ETn_1 = etg_norm(Z0_1, Z_1, ET_1)\n",
    "Zv = np.abs(Z_1 - Z0_1)\n",
    "Zv = np.arctan2(np.imag(Zv), np.real(Zv))\n",
    "g_im_Zr = primitive_2_gray(Zv)\n",
    "# g_im = tip.Image.fromarray(Zv, 'L', colors=2**16-1)\n",
    "\n",
    "display(g_im_Zr)"
   ]
  },
  {
   "cell_type": "markdown",
   "metadata": {},
   "source": [
    "### View all results as an HSV (converted to RGB for display)\n",
    "```python\n",
    "# normalized enumeration of Z-Z0 distance, rotation (Zd, Zr) and Escape Time\n",
    "Zd, Zr, ETn = etg_norm(Z0, Z, ET)\n",
    "\n",
    "A = np.zeros((n_rows, n_cols,3))\n",
    "A[:,:,0] += ETn     # Hue\n",
    "A[:,:,1] += Zr      # Saturation\n",
    "A[:,:,2] += Zd      # Value\n",
    "```"
   ]
  },
  {
   "cell_type": "code",
   "execution_count": null,
   "metadata": {},
   "outputs": [],
   "source": [
    "im = get_im(ET_1, Z_1, Z0_1)\n",
    "display(im)"
   ]
  },
  {
   "cell_type": "markdown",
   "metadata": {},
   "source": [
    "## Re-Compute\n",
    "* *theta* rotates the domain before calculation\n",
    "* Rotate to view symmetry with the broad part at the bottom - humans like that"
   ]
  },
  {
   "cell_type": "code",
   "execution_count": null,
   "metadata": {},
   "outputs": [],
   "source": [
    "#                          Rotate the image for human readability:\n",
    "\n",
    "run_parameters = get_default_run_parameters(results_dir=None)\n",
    "run_parameters['theta'] = np.pi / 2\n",
    "\n",
    "t0 = time.time()\n",
    "ET, Z, Z0 = eq_iter.get_primitives(list_tuple, run_parameters)\n",
    "tt = time.time() - t0\n",
    "\n",
    "print(tt, 's\\ndata matrices size = ', ET.shape)"
   ]
  },
  {
   "cell_type": "markdown",
   "metadata": {},
   "source": [
    "## View The Rotated Data with different color assignments"
   ]
  },
  {
   "cell_type": "code",
   "execution_count": null,
   "metadata": {},
   "outputs": [],
   "source": [
    "#                     HSV to RGB composite\n",
    "im = get_im(ET, Z, Z0)\n",
    "display(im)"
   ]
  },
  {
   "cell_type": "code",
   "execution_count": null,
   "metadata": {},
   "outputs": [],
   "source": [
    "#                     HSV to RGB composite to Greyscale\n",
    "im = get_gray_im(ET, Z, Z0)\n",
    "display(im)"
   ]
  },
  {
   "cell_type": "markdown",
   "metadata": {},
   "source": [
    "## Color map assignment to where greyscale is used as index to map\n",
    "(choose color map from the list)"
   ]
  },
  {
   "cell_type": "code",
   "execution_count": null,
   "metadata": {},
   "outputs": [],
   "source": [
    "show_color_maps(6)"
   ]
  },
  {
   "cell_type": "code",
   "execution_count": null,
   "metadata": {},
   "outputs": [],
   "source": [
    "#                     HSV to RGB composite to Greyscale as index to colormap\n",
    "do_im = map_etg_composite(Z0, Z, ET, c_map_name='afmhot')\n",
    "display(do_im)"
   ]
  },
  {
   "cell_type": "code",
   "execution_count": null,
   "metadata": {},
   "outputs": [],
   "source": [
    "do_im = map_etg_composite(Z0, Z, ET, c_map_name='gray')\n",
    "display(do_im)"
   ]
  },
  {
   "cell_type": "code",
   "execution_count": null,
   "metadata": {},
   "outputs": [],
   "source": [
    "do_im = map_etg_composite(Z0, Z, ET, c_map_name='nipy_spectral')\n",
    "display(do_im)"
   ]
  },
  {
   "cell_type": "code",
   "execution_count": null,
   "metadata": {},
   "outputs": [],
   "source": [
    "do_im = map_etg_composite(Z0, Z, ET, c_map_name='jet')\n",
    "display(do_im)"
   ]
  },
  {
   "cell_type": "code",
   "execution_count": null,
   "metadata": {},
   "outputs": [],
   "source": []
  }
 ],
 "metadata": {
  "kernelspec": {
   "display_name": "Python 3",
   "language": "python",
   "name": "python3"
  },
  "language_info": {
   "codemirror_mode": {
    "name": "ipython",
    "version": 3
   },
   "file_extension": ".py",
   "mimetype": "text/x-python",
   "name": "python",
   "nbconvert_exporter": "python",
   "pygments_lexer": "ipython3",
   "version": "3.7.3"
  }
 },
 "nbformat": 4,
 "nbformat_minor": 2
}
