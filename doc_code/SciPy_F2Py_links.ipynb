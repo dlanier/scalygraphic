{
 "cells": [
  {
   "cell_type": "markdown",
   "metadata": {},
   "source": [
    "[**scipy.org**](https://scipy.org/) <br>\n",
    "[f2py **advanced usages**](https://docs.scipy.org/doc/numpy/f2py/advanced.html) <br>\n",
    "# f2py\n",
    "```python\n",
    "import numpy.f2py\n",
    "```\n",
    "****\n",
    "## 2006\n",
    "[f2py & numpy, scipy-cookbook](https://scipy-cookbook.readthedocs.io/items/f2py_and_NumPy.html) <br>\n",
    "[f2py, scipy-cookbook](https://scipy-cookbook.readthedocs.io/items/F2Py.html) <br>\n",
    "[-]() <br>\n",
    "[-]() <br>\n",
    "[-]() <br>\n",
    "****\n",
    "## 2019\n",
    "[f2py User Guide](https://docs.scipy.org/doc/numpy/f2py/) <br>\n",
    "[f2py usage](https://het.as.utexas.edu/HET/Software/Numpy/f2py/python-usage.html) <br>\n",
    "[f2py.pdf ucsb.edu](https://sites.engineering.ucsb.edu/~shell/che210d/f2py.pdf) <br>\n",
    "[f2py usage examples page](https://docs.scipy.org/doc/numpy/f2py/usage.html) <br>\n",
    "[f2py 3 ways 2 get started](https://docs.scipy.org/doc/numpy/f2py/getting-started.html) <br>\n",
    "[f2py usage ref](https://numpy.org/devdocs/f2py/usage.html) <br>\n",
    "[f2py usage bindings](https://numpy.org/devdocs/f2py/python-usage.html) <br>\n",
    "[-]() <br>\n",
    "## Reactionaries:\n",
    "[StackOverflow -callback](https://stackoverflow.com/questions/20265697/how-to-return-a-value-from-a-python-callback-in-fortran-using-f2py) <br>\n",
    "[-]() <br>"
   ]
  },
  {
   "cell_type": "code",
   "execution_count": 1,
   "metadata": {},
   "outputs": [
    {
     "name": "stdout",
     "output_type": "stream",
     "text": [
      "print\n"
     ]
    }
   ],
   "source": [
    "print('print')"
   ]
  },
  {
   "cell_type": "code",
   "execution_count": null,
   "metadata": {},
   "outputs": [],
   "source": [
    "print('imperitive')"
   ]
  }
 ],
 "metadata": {
  "kernelspec": {
   "display_name": "Python 3",
   "language": "python",
   "name": "python3"
  },
  "language_info": {
   "codemirror_mode": {
    "name": "ipython",
    "version": 3
   },
   "file_extension": ".py",
   "mimetype": "text/x-python",
   "name": "python",
   "nbconvert_exporter": "python",
   "pygments_lexer": "ipython3",
   "version": "3.7.3"
  }
 },
 "nbformat": 4,
 "nbformat_minor": 2
}
