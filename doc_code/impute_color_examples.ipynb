{
 "cells": [
  {
   "cell_type": "markdown",
   "metadata": {},
   "source": [
    "## Useful examples -- *impute_color.py* functions"
   ]
  },
  {
   "cell_type": "code",
   "execution_count": null,
   "metadata": {},
   "outputs": [],
   "source": [
    "import warnings\n",
    "warnings.filterwarnings('ignore')\n",
    "\n",
    "import time\n",
    "import sys\n",
    "sys.path.insert(0, '../src/')\n",
    "sys.path.insert(0, 'scalygraphic/src/')\n",
    "\n",
    "from im_scale_products import *\n",
    "from impute_color import *"
   ]
  },
  {
   "cell_type": "markdown",
   "metadata": {},
   "source": [
    "# Compute\n",
    "****\n",
    "### Algebraic Vector Matrix Data: *EscapeTime, Z_initial, Z_final* (ET, Z0, Z)"
   ]
  },
  {
   "cell_type": "code",
   "execution_count": null,
   "metadata": {},
   "outputs": [],
   "source": [
    "results_dir = '../../results'\n",
    "run_parameters = get_default_run_parameters(results_dir=None)\n",
    "\n",
    "if os.path.isdir(run_parameters['dir_path']) == False:\n",
    "    os.makedirs(run_parameters['dir_path'])\n",
    "    \n",
    "fcn_name = 'nlC3'\n",
    "eq = EQUS_DICT[EQUS_DICT_NAMED_IDX[fcn_name]][1]\n",
    "# generate parameters:\n",
    "# p = eq(1, None)\n",
    "\n",
    "p = [0.106699281931, -1.446300888486, 0.763588120232]\n",
    "print('Using Equation parameters:\\n',p,'\\n')\n",
    "\n",
    "list_tuple = [(eq, (p))]\n",
    "\n",
    "t0 = time.time()\n",
    "ET_1, Z_1, Z0_1 = eq_iter.get_primitives(list_tuple, run_parameters)\n",
    "tt = time.time() - t0\n",
    "print(tt, 's\\ndata matrices size = ', ET_1.shape)"
   ]
  },
  {
   "cell_type": "markdown",
   "metadata": {},
   "source": [
    "## View the raw escape time & distance data in greyscle:\n",
    "* Note that most of the data is not easy to see because the extremes hog the black or white.\n",
    "* Enumerated, normalized version below shows all three imputed with an HSV scheme."
   ]
  },
  {
   "cell_type": "code",
   "execution_count": null,
   "metadata": {},
   "outputs": [],
   "source": [
    "g_im = primitive_2_gray(ET_1)\n",
    "display(g_im)"
   ]
  },
  {
   "cell_type": "code",
   "execution_count": null,
   "metadata": {},
   "outputs": [],
   "source": [
    "g_im = primitive_2_gray(np.abs(Z_1 - Z0_1))\n",
    "display(g_im)"
   ]
  },
  {
   "cell_type": "markdown",
   "metadata": {},
   "source": [
    "### View all results as an HSV (converted to RGB for display)\n",
    "```python\n",
    "# normalized enumeration of Z-Z0 distance, rotation (Zd, Zr) and Escape Time\n",
    "Zd, Zr, ETn = etg_norm(Z0, Z, ET)\n",
    "\n",
    "A = np.zeros((n_rows, n_cols,3))\n",
    "A[:,:,0] += ETn     # Hue\n",
    "A[:,:,1] += Zr      # Saturation\n",
    "A[:,:,2] += Zd      # Value\n",
    "```"
   ]
  },
  {
   "cell_type": "code",
   "execution_count": null,
   "metadata": {},
   "outputs": [],
   "source": [
    "im = get_im(ET_1, Z_1, Z0_1)\n",
    "display(im)"
   ]
  },
  {
   "cell_type": "markdown",
   "metadata": {},
   "source": [
    "## Re-Compute\n",
    "* *theta* rotates the domain before calculation\n",
    "* Rotate to view symmetry with the broad part at the bottom - humans like that"
   ]
  },
  {
   "cell_type": "code",
   "execution_count": null,
   "metadata": {},
   "outputs": [],
   "source": [
    "#                          Rotate the image for human readability:\n",
    "\n",
    "run_parameters = get_default_run_parameters(results_dir=None)\n",
    "run_parameters['theta'] = np.pi / 2\n",
    "\n",
    "t0 = time.time()\n",
    "ET, Z, Z0 = eq_iter.get_primitives(list_tuple, run_parameters)\n",
    "tt = time.time() - t0\n",
    "\n",
    "print(tt, 's\\ndata matrices size = ', ET.shape)"
   ]
  },
  {
   "cell_type": "markdown",
   "metadata": {},
   "source": [
    "## View The Rotated Data with different color assignments"
   ]
  },
  {
   "cell_type": "code",
   "execution_count": null,
   "metadata": {},
   "outputs": [],
   "source": [
    "#                     HSV to RGB composite\n",
    "im = get_im(ET, Z, Z0)\n",
    "display(im)"
   ]
  },
  {
   "cell_type": "code",
   "execution_count": null,
   "metadata": {},
   "outputs": [],
   "source": [
    "#                     HSV to RGB composite to Greyscale\n",
    "im = get_gray_im(ET, Z, Z0)\n",
    "display(im)"
   ]
  },
  {
   "cell_type": "markdown",
   "metadata": {},
   "source": [
    "## Color map assignment to where greyscale is used as index to map\n",
    "(choose color map from the list)"
   ]
  },
  {
   "cell_type": "code",
   "execution_count": null,
   "metadata": {},
   "outputs": [],
   "source": [
    "show_color_maps(6)"
   ]
  },
  {
   "cell_type": "code",
   "execution_count": null,
   "metadata": {},
   "outputs": [],
   "source": [
    "#                     HSV to RGB composite to Greyscale as index to colormap\n",
    "do_im = map_etg_composite(Z0, Z, ET, c_map_name='afmhot')\n",
    "display(do_im)"
   ]
  },
  {
   "cell_type": "code",
   "execution_count": null,
   "metadata": {},
   "outputs": [],
   "source": [
    "do_im = map_etg_composite(Z0, Z, ET, c_map_name='gray')\n",
    "display(do_im)"
   ]
  },
  {
   "cell_type": "code",
   "execution_count": null,
   "metadata": {},
   "outputs": [],
   "source": [
    "do_im = map_etg_composite(Z0, Z, ET, c_map_name='nipy_spectral')\n",
    "display(do_im)"
   ]
  },
  {
   "cell_type": "code",
   "execution_count": null,
   "metadata": {},
   "outputs": [],
   "source": [
    "do_im = map_etg_composite(Z0, Z, ET, c_map_name='jet')\n",
    "display(do_im)"
   ]
  },
  {
   "cell_type": "code",
   "execution_count": null,
   "metadata": {},
   "outputs": [],
   "source": []
  }
 ],
 "metadata": {
  "kernelspec": {
   "display_name": "Python 3",
   "language": "python",
   "name": "python3"
  },
  "language_info": {
   "codemirror_mode": {
    "name": "ipython",
    "version": 3
   },
   "file_extension": ".py",
   "mimetype": "text/x-python",
   "name": "python",
   "nbconvert_exporter": "python",
   "pygments_lexer": "ipython3",
   "version": "3.7.3"
  }
 },
 "nbformat": 4,
 "nbformat_minor": 2
}
