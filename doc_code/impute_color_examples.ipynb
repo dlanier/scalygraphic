{
 "cells": [
  {
   "cell_type": "markdown",
   "metadata": {},
   "source": [
    "# Coloring to preserve Computational Details:\n",
    "\n"
   ]
  },
  {
   "cell_type": "code",
   "execution_count": null,
   "metadata": {},
   "outputs": [],
   "source": [
    "import warnings\n",
    "warnings.filterwarnings('ignore')\n",
    "\n",
    "import time\n",
    "import sys\n",
    "import tempfile\n",
    "\n",
    "import skimage.io as im_io\n",
    "\n",
    "from PIL import TiffImagePlugin as tip\n",
    "from PIL.TiffImagePlugin import Image\n",
    "\n",
    "sys.path.insert(0, '../src/')\n",
    "sys.path.insert(0, 'scalygraphic/src/')\n",
    "\n",
    "from im_scale_products import *\n",
    "from impute_color import *"
   ]
  },
  {
   "cell_type": "markdown",
   "metadata": {},
   "source": [
    "# Compute\n",
    "****\n",
    "### Algebraic Vector Matrix Data: *EscapeTime, Z_initial, Z_final* (ET, Z0, Z)"
   ]
  },
  {
   "cell_type": "code",
   "execution_count": null,
   "metadata": {},
   "outputs": [],
   "source": [
    "results_dir = '../../results'\n",
    "run_parameters = get_default_run_parameters(results_dir=None)\n",
    "run_parameters['theta'] = np.pi / 2\n",
    "if os.path.isdir(run_parameters['dir_path']) == False:\n",
    "    os.makedirs(run_parameters['dir_path'])\n",
    "    \n",
    "fcn_name = 'nlC3'\n",
    "eq = EQUS_DICT[EQUS_DICT_NAMED_IDX[fcn_name]][1]\n",
    "# generate parameters:\n",
    "# p = eq(1, None)\n",
    "\n",
    "p = [0.106699281931, -1.446300888486, 0.763588120232]\n",
    "print('Using Equation parameters:\\n',p,'\\n')\n",
    "\n",
    "list_tuple = [(eq, (p))]\n",
    "\n",
    "t0 = time.time()\n",
    "ET_1, Z_1, Z0_1 = eq_iter.get_primitives(list_tuple, run_parameters)\n",
    "tt = time.time() - t0\n",
    "print(tt, 's\\ndata matrices size = ', ET_1.shape)"
   ]
  },
  {
   "cell_type": "markdown",
   "metadata": {},
   "source": [
    "## Useful examples -- *impute_color.py* functions\n",
    "****\n",
    "### View the raw escape time & distance data in greyscle:\n",
    "* Note that most of the data is not easy to see because the extremes hog the black or white.\n",
    "* Enumerated, normalized version below shows all three imputed with an HSV scheme.\n",
    "### Naive method: no normalization"
   ]
  },
  {
   "cell_type": "code",
   "execution_count": null,
   "metadata": {},
   "outputs": [],
   "source": [
    "g_im_et = primitive_2_gray(ET_1)\n",
    "g_im_Zd = primitive_2_gray(np.abs(Z_1 - Z0_1))\n",
    "Zv = Z_1 - Z0_1\n",
    "Zv = np.arctan2(np.imag(Zv), np.real(Zv))\n",
    "g_im_Zr = primitive_2_gray(Zv)\n",
    "\n",
    "\n",
    "im_list = [g_im_et,g_im_Zd,g_im_Zr]\n",
    "new_im = cat_im_list_hori(im_list)\n",
    "\n",
    "print('%15s%30s%30s'%('ET','Zd','Zr'))\n",
    "display(new_im)"
   ]
  },
  {
   "cell_type": "markdown",
   "metadata": {},
   "source": [
    "### Naive method: normalize all to graphic floats in range (0, 1)"
   ]
  },
  {
   "cell_type": "code",
   "execution_count": null,
   "metadata": {},
   "outputs": [],
   "source": [
    "# complex result vectors == final minus initial\n",
    "Z_vec = Z_1 - Z0_1\n",
    "\n",
    "#                             normaize all to (0, 1)\n",
    "# number of iterations\n",
    "ET_n1 = graphic_norm(ET_1)\n",
    "g_im_et = primitive_2_gray(ET_n1)\n",
    "# complex result vectors: distance component\n",
    "Zd_n1 = np.abs(Z_vec)\n",
    "Zd_n1 = graphic_norm(Zd_n1)\n",
    "g_im_Zd = primitive_2_gray(Zd_n1)\n",
    "\n",
    "# complex result vectors: rotation component\n",
    "Zr_n1 = np.arctan2(np.imag(Z_vec), np.real(Z_vec))\n",
    "Zr_n1 = graphic_norm(Zr_n1)\n",
    "g_im_Zr = primitive_2_gray(Zr_n1)\n",
    "\n",
    "n_rows = np.shape(ET_1)[0]\n",
    "n_cols = np.shape(ET_1)[1]\n",
    "\n",
    "im_list = [g_im_et,g_im_Zd,g_im_Zr]\n",
    "new_im = cat_im_list_hori(im_list)\n",
    "\n",
    "print('%15s%30s%30s'%('ET','Zd','Zr'))\n",
    "display(new_im)"
   ]
  },
  {
   "cell_type": "markdown",
   "metadata": {},
   "source": [
    "### Problems with the Naive method:\n",
    "    * Extremes pixel values mask the details in the softer regions\n"
   ]
  },
  {
   "cell_type": "code",
   "execution_count": null,
   "metadata": {},
   "outputs": [],
   "source": [
    "Zd_n2, Zr_n2, ETn_n2 = etg_norm(Z0_1, Z_1, ET_1)\n",
    "\n",
    "g_im_et = primitive_2_gray(ETn_n2)\n",
    "# complex result vectors: distance component\n",
    "g_im_Zd = primitive_2_gray(Zd_n2)\n",
    "\n",
    "# complex result vectors: rotation component\n",
    "g_im_Zr = primitive_2_gray(Zr_n2)\n",
    "\n",
    "im_list = [g_im_et,g_im_Zd,g_im_Zr]\n",
    "new_im = cat_im_list_hori(im_list)\n",
    "\n",
    "print('%15s%30s%30s'%('ET','Zd','Zr'))\n",
    "display(new_im)"
   ]
  },
  {
   "cell_type": "markdown",
   "metadata": {},
   "source": [
    "### Much better visibility for the distance channel \n",
    "\n",
    "\n",
    "### Compositing all three makes a smooter image"
   ]
  },
  {
   "cell_type": "code",
   "execution_count": null,
   "metadata": {},
   "outputs": [],
   "source": [
    "im_gray = get_gray_im(ET_1, Z_1, Z0_1)\n",
    "display(im_gray)"
   ]
  },
  {
   "cell_type": "code",
   "execution_count": null,
   "metadata": {},
   "outputs": [],
   "source": [
    "gray_array = np.array(im_gray)\n",
    "\n",
    "g = gray_array.reshape(-1)\n",
    "len(list(set(g)))"
   ]
  },
  {
   "cell_type": "code",
   "execution_count": null,
   "metadata": {},
   "outputs": [],
   "source": [
    "Zv = Z_1 - Z0_1\n",
    "\n",
    "ET_f, n_colors = flat_index(ET_1)\n",
    "g_im_et = primitive_2_gray(ET_f)\n",
    "\n",
    "Zv_f, n_colors = flat_index(np.abs(Zv))\n",
    "g_im_Zd = primitive_2_gray(Zv_f)\n",
    "\n",
    "\n",
    "Zr = np.arctan2(np.imag(Zv), np.real(Zv))\n",
    "Zr_f, n_colors = flat_index(Zr)\n",
    "g_im_Zr = primitive_2_gray(Zr_f)\n",
    "\n",
    "\n",
    "im_list = [g_im_et,g_im_Zd,g_im_Zr]\n",
    "new_im = cat_im_list_hori(im_list)\n",
    "\n",
    "print('%15s%30s%30s'%('ET','Zd','Zr'))\n",
    "display(new_im)"
   ]
  },
  {
   "cell_type": "code",
   "execution_count": null,
   "metadata": {},
   "outputs": [],
   "source": [
    "im = map_raw_etg(Z0_1, Z_1, ET_1, c_map_name='gist_gray')\n",
    "display(im)"
   ]
  },
  {
   "cell_type": "code",
   "execution_count": null,
   "metadata": {},
   "outputs": [],
   "source": [
    "im = get_gray_im(ET_1, Z_1, Z0_1)\n",
    "display(im)"
   ]
  },
  {
   "cell_type": "code",
   "execution_count": null,
   "metadata": {},
   "outputs": [],
   "source": [
    "g_im_et = primitive_2_gray(ET_1)\n",
    "display(g_im_et)"
   ]
  },
  {
   "cell_type": "code",
   "execution_count": null,
   "metadata": {},
   "outputs": [],
   "source": [
    "g_im_Zd = primitive_2_gray(np.abs(Z_1 - Z0_1))\n",
    "display(g_im_Zd)"
   ]
  },
  {
   "cell_type": "code",
   "execution_count": null,
   "metadata": {},
   "outputs": [],
   "source": [
    "# Zd_1, Zr_1, ETn_1 = etg_norm(Z0_1, Z_1, ET_1)\n",
    "Zv = Z_1 - Z0_1\n",
    "Zv = np.arctan2(np.imag(Zv), np.real(Zv))\n",
    "g_im_Zr = primitive_2_gray(Zv)\n",
    "# g_im = tip.Image.fromarray(Zv, 'L', colors=2**16-1)\n",
    "\n",
    "display(g_im_Zr)"
   ]
  },
  {
   "cell_type": "markdown",
   "metadata": {},
   "source": [
    "### View all results as an HSV (converted to RGB for display)\n",
    "```python\n",
    "# normalized enumeration of Z-Z0 distance, rotation (Zd, Zr) and Escape Time\n",
    "Zd, Zr, ETn = etg_norm(Z0, Z, ET)\n",
    "\n",
    "A = np.zeros((n_rows, n_cols,3))\n",
    "A[:,:,0] += ETn     # Hue\n",
    "A[:,:,1] += Zr      # Saturation\n",
    "A[:,:,2] += Zd      # Value\n",
    "```"
   ]
  },
  {
   "cell_type": "markdown",
   "metadata": {},
   "source": [
    "## View The Rotated Data with different color assignments"
   ]
  },
  {
   "cell_type": "code",
   "execution_count": null,
   "metadata": {},
   "outputs": [],
   "source": [
    "#                     HSV to RGB composite\n",
    "im = get_im(ET_1, Z_1, Z0_1)\n",
    "display(im)"
   ]
  },
  {
   "cell_type": "markdown",
   "metadata": {},
   "source": [
    "## Color map assignment to where greyscale is used as index to map\n",
    "(choose color map from the list)"
   ]
  },
  {
   "cell_type": "code",
   "execution_count": null,
   "metadata": {},
   "outputs": [],
   "source": [
    "show_color_maps(6)"
   ]
  },
  {
   "cell_type": "code",
   "execution_count": null,
   "metadata": {},
   "outputs": [],
   "source": [
    "#                     HSV to RGB composite to Greyscale as index to colormap\n",
    "do_im = map_etg_composite(Z0_1, Z_1, ET_1, c_map_name='afmhot')\n",
    "display(do_im)"
   ]
  },
  {
   "cell_type": "code",
   "execution_count": null,
   "metadata": {},
   "outputs": [],
   "source": [
    "do_im = map_etg_composite(Z0_1, Z_1, ET_1, c_map_name='gray')\n",
    "display(do_im)"
   ]
  },
  {
   "cell_type": "code",
   "execution_count": null,
   "metadata": {},
   "outputs": [],
   "source": [
    "do_im = map_etg_composite(Z0_1, Z_1, ET_1, c_map_name='nipy_spectral')\n",
    "display(do_im)"
   ]
  },
  {
   "cell_type": "code",
   "execution_count": null,
   "metadata": {},
   "outputs": [],
   "source": [
    "do_im = map_etg_composite(Z0_1, Z_1, ET_1, c_map_name='jet')\n",
    "display(do_im)"
   ]
  },
  {
   "cell_type": "code",
   "execution_count": null,
   "metadata": {},
   "outputs": [],
   "source": []
  }
 ],
 "metadata": {
  "kernelspec": {
   "display_name": "Python 3",
   "language": "python",
   "name": "python3"
  },
  "language_info": {
   "codemirror_mode": {
    "name": "ipython",
    "version": 3
   },
   "file_extension": ".py",
   "mimetype": "text/x-python",
   "name": "python",
   "nbconvert_exporter": "python",
   "pygments_lexer": "ipython3",
   "version": "3.7.3"
  }
 },
 "nbformat": 4,
 "nbformat_minor": 2
}
