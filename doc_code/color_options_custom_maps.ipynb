{
 "cells": [
  {
   "cell_type": "markdown",
   "metadata": {},
   "source": [
    "## Reference: Color - mapping, matplotlib and Pillow (PIL fork :~ )\n",
    "[Creating Color-Maps](https://matplotlib.org/3.1.0/tutorials/colors/colormap-manipulation.html) <br>\n",
    "[type: mpl.colors.ListedColormap](https://matplotlib.org/3.1.0/api/_as_gen/matplotlib.colors.ListedColormap.html#matplotlib.colors.ListedColormap) \n",
    "<br>\n",
    "[-]() <br>\n",
    "****\n",
    "[matplotlib colormaps](https://matplotlib.org/3.1.0/tutorials/colors/colormaps.html) <br>\n",
    "[matplotlib colorcet](https://matplotlib.org/3.1.0/tutorials/colors/colormaps.html#colorcet) <br>\n",
    "[matplotlib palettable](https://matplotlib.org/3.1.0/tutorials/colors/colormaps.html#palettable) <br>\n",
    "[matplotlib pyplot summary](https://matplotlib.org/api/pyplot_summary.html#the-object-oriented-api) <br>\n",
    "[pyplot api](https://matplotlib.org/api/pyplot_api.html) <br>\n",
    "****\n",
    "[StackOverflow colormapping](https://stackoverflow.com/questions/10965417/how-to-convert-numpy-array-to-pil-image-applying-matplotlib-colormap) <br>\n",
    "[StackOverflow colormapping](https://stackoverflow.com/questions/43457308/is-there-any-good-color-map-to-convert-gray-scale-image-to-colorful-ones-using-p) <br>\n",
    "****\n",
    "<br>Color Space conversions MIT License<br>\n",
    "[colorspacious docs](https://colorspacious.readthedocs.io/en/latest/) <br>\n",
    "[colorspacious pypi](https://pypi.org/project/colorspacious/) <br>\n",
    "****\n",
    "### Web Reference:\n",
    "[colorcet - percepually accurate maps](https://colorcet.pyviz.org/) <br>\n",
    "[palettes - collected by type](https://jiffyclub.github.io/palettable/#matplotlib-discrete-colormap) <br>\n",
    "[Seven Grayscale Algorithms (so-so)](http://www.tannerhelland.com/3643/grayscale-image-algorithm-vb6/) <br>\n",
    "\n",
    "****\n",
    "### Papers:\n",
    "Note on Scale: ET equation graphics convey _BOTH_ quantity (metric) & form (surface) information. <br>\n",
    "[Color Sequences for Univariate Maps: Theory, Experiments, and Principles, Ware](http://ccom.unh.edu/sites/default/files/publications/Ware_1988_CGA_Color_sequences_univariate_maps.pdf) <br>\n",
    "<br> Color Spaces (Heatmap) <br>\n",
    "[Diverging Color Maps for Scientific Visualization, Moreland](http://www.kennethmoreland.com/color-maps/ColorMapsExpanded.pdf) <br>\n",
    "<br>Specific requirements for linear, diverging, rainbow & cyclic colour maps developed in detail<br>\n",
    "[Good Color Maps: How to Design Them, Kovesi, 2015](https://arxiv.org/abs/1509.03700) <br>\n",
    "****\n",
    "[Classes of Color Maps](https://matplotlib.org/3.1.0/tutorials/colors/colormaps.html) <br>\n",
    "[grammer of graphics ggpy (R port)](http://yhat.github.io/ggpy/) <br>\n",
    "****\n",
    "<br>Possibly 3D display<br>\n",
    "[VisPy](https://github.com/vispy/vispy) <br>\n",
    "\n",
    "****\n",
    "\n",
    "# color options:\n",
    "****\n",
    "### Automate color-option-pipeline Choice\n",
    "[psnr in skimage](https://scikit-image.org/docs/dev/api/skimage.measure.html) <br>\n",
    "[matplotlib create color maps](https://matplotlib.org/3.1.0/tutorials/colors/colormap-manipulation.html) <br>"
   ]
  },
  {
   "cell_type": "code",
   "execution_count": null,
   "metadata": {},
   "outputs": [],
   "source": [
    "%matplotlib inline"
   ]
  },
  {
   "cell_type": "code",
   "execution_count": null,
   "metadata": {},
   "outputs": [],
   "source": [
    "import warnings\n",
    "warnings.filterwarnings('ignore')\n",
    "\n",
    "import time\n",
    "import sys\n",
    "import tempfile\n",
    "\n",
    "import cv2\n",
    "\n",
    "import skimage.io as im_io\n",
    "from skimage.measure import compare_psnr\n",
    "\n",
    "import matplotlib.pyplot as plt\n",
    "import matplotlib as mpl\n",
    "from matplotlib import cm\n",
    "from matplotlib.colors import LinearSegmentedColormap\n",
    "\n",
    "from PIL import TiffImagePlugin as tip\n",
    "from PIL.TiffImagePlugin import Image\n",
    "from PIL import ImageOps\n",
    "\n",
    "sys.path.insert(0, '../src/')\n",
    "sys.path.insert(0, 'scalygraphic/src/')\n",
    "\n",
    "from im_scale_products import *\n",
    "from impute_color import *\n",
    "\n",
    "t0 = time.time()"
   ]
  },
  {
   "cell_type": "code",
   "execution_count": null,
   "metadata": {},
   "outputs": [],
   "source": [
    "results_dir = '../../results'\n",
    "run_parameters = get_default_run_parameters(results_dir=None)\n",
    "run_parameters['it_max'] = 16\n",
    "run_parameters['zoom'] = 1/27\n",
    "run_parameters['max_d'] = 12 / run_parameters['zoom']\n",
    "run_parameters['center_point'] = -18\n",
    "run_parameters['theta'] = -np.pi / 2\n",
    "\n",
    "w = 720\n",
    "run_parameters['n_cols'] = w\n",
    "run_parameters['n_rows'] = np.int(w / (1.618))\n",
    "\n",
    "\n",
    "if os.path.isdir(run_parameters['dir_path']) == False:\n",
    "    os.makedirs(run_parameters['dir_path'])\n",
    "    \n",
    "fcn_name = 'bugga_bear'\n",
    "eq = name_functionhandle_dict[number_function_name_dict[fcn_name]][1]\n",
    "# generate parameters:\n",
    "p = eq(1, None)\n",
    "\n",
    "print(fcn_name,'\\tUsing Equation parameters:\\n',p,'\\n')\n",
    "for k, v in run_parameters.items():\n",
    "    print('%30s: %s'%(k, v))\n",
    "\n",
    "list_tuple = [(eq, (p))]\n",
    "\n",
    "t0 = time.time()\n",
    "ET_1, Z_1, Z0_1 = eq_iter.get_primitives(list_tuple, run_parameters)\n",
    "tt = time.time() - t0\n",
    "print(tt, 's\\ndata matrices size = ', ET_1.shape)"
   ]
  },
  {
   "cell_type": "code",
   "execution_count": null,
   "metadata": {},
   "outputs": [],
   "source": [
    "\"\"\"\n",
    "                            Indexers:\n",
    "\"\"\"\n",
    "I_16_hsv_norm = get_16bit_gray(Z0_1, Z_1, ET_1, norm='hsv')\n",
    "nb_imshow(I_16_hsv_norm)"
   ]
  },
  {
   "cell_type": "code",
   "execution_count": null,
   "metadata": {},
   "outputs": [],
   "source": [
    "Zd, Zr, ETn = etg_norm(Z0_1, Z_1, ET_1)\n",
    "\n",
    "IP_ET_16_g = primitive_2_gray_16bit(ETn)\n",
    "nb_imshow(IP_ET_16_g)\n"
   ]
  },
  {
   "cell_type": "code",
   "execution_count": null,
   "metadata": {},
   "outputs": [],
   "source": [
    "IP_Zd_16_g = primitive_2_gray_16bit(Zd)\n",
    "nb_imshow(IP_Zd_16_g)\n"
   ]
  },
  {
   "cell_type": "code",
   "execution_count": null,
   "metadata": {},
   "outputs": [],
   "source": [
    "\n",
    "IP_Zr_16_g = primitive_2_gray_16bit(Zr)\n",
    "nb_imshow(IP_Zr_16_g)"
   ]
  },
  {
   "cell_type": "code",
   "execution_count": null,
   "metadata": {},
   "outputs": [],
   "source": [
    "show_color_maps(6)"
   ]
  },
  {
   "cell_type": "code",
   "execution_count": null,
   "metadata": {},
   "outputs": [],
   "source": [
    "\"\"\"\n",
    "                            Stock maps\n",
    "\"\"\"\n",
    "c_map_name = 'coolwarm'\n",
    "\n",
    "I_mp_16_bg = mat_stock_map(IP_ET_16_g, c_map_name)\n",
    "nb_imshow(I_mp_16_bg)"
   ]
  },
  {
   "cell_type": "code",
   "execution_count": null,
   "metadata": {},
   "outputs": [],
   "source": []
  },
  {
   "cell_type": "code",
   "execution_count": null,
   "metadata": {},
   "outputs": [],
   "source": []
  },
  {
   "cell_type": "code",
   "execution_count": null,
   "metadata": {},
   "outputs": [],
   "source": []
  },
  {
   "cell_type": "code",
   "execution_count": null,
   "metadata": {},
   "outputs": [],
   "source": []
  },
  {
   "cell_type": "code",
   "execution_count": null,
   "metadata": {},
   "outputs": [],
   "source": []
  },
  {
   "cell_type": "code",
   "execution_count": null,
   "metadata": {},
   "outputs": [],
   "source": []
  },
  {
   "cell_type": "code",
   "execution_count": null,
   "metadata": {},
   "outputs": [],
   "source": []
  },
  {
   "cell_type": "code",
   "execution_count": null,
   "metadata": {},
   "outputs": [],
   "source": []
  },
  {
   "cell_type": "code",
   "execution_count": null,
   "metadata": {},
   "outputs": [],
   "source": [
    "nb_run_all_time = time.time() - t0\n",
    "print('%0.3f seconds to run all cells'%(nb_run_all_time))"
   ]
  }
 ],
 "metadata": {
  "kernelspec": {
   "display_name": "Python 3",
   "language": "python",
   "name": "python3"
  },
  "language_info": {
   "codemirror_mode": {
    "name": "ipython",
    "version": 3
   },
   "file_extension": ".py",
   "mimetype": "text/x-python",
   "name": "python",
   "nbconvert_exporter": "python",
   "pygments_lexer": "ipython3",
   "version": "3.7.3"
  }
 },
 "nbformat": 4,
 "nbformat_minor": 2
}
