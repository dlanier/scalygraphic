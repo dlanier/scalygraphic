{
 "cells": [
  {
   "cell_type": "markdown",
   "id": "4da7322b",
   "metadata": {},
   "source": [
    "##### extracted file name:\n",
    "~~~bash\n",
    "268  ls -la /home/shared/MayoAHI/\n",
    "269  clear\n",
    "270  ls -l /home/zhang303/ADNI3_selected\n",
    "271  cd MRI\n",
    "272  pwd\n",
    "273  cd /home/zhang303\n",
    "274  cd ADNI3_selected/\n",
    "277  ls -tl\n",
    "278  cd MRI\n",
    "281  cd ADNI/\n",
    "283  cd 941_S_5193\n",
    "285  cd MPRAGE/\n",
    "288  ls 2013-05-29_12_07_08.0\n",
    "289  cd 2013-05-29_12_07_08.0\n",
    "291  cd S190909/\n",
    "waybak: /home/zhang303/ADNI3_selected/MRI/ADNI/941_S_5193/MPRAGE/2013-05-29_12_07_08.0/S190909\n",
    "~~~\n",
    "\n",
    "##### code references\n",
    "[](), [](), [](), [](), [](), [](), []() <br>\n",
    "Google Developer (.com/edu) [regular-expressions](https://developers.google.com/edu/python/regular-expressions) <br>\n",
    "pypi (page tutorial) [regex](https://pypi.org/project/regex/) <br>\n",
    "[]() <br>"
   ]
  },
  {
   "cell_type": "code",
   "execution_count": 2,
   "id": "7377fa55",
   "metadata": {},
   "outputs": [],
   "source": [
    "import os, time, re\n",
    "import numpy as np\n",
    "import pandas as pd"
   ]
  },
  {
   "cell_type": "code",
   "execution_count": 37,
   "id": "62f419e2",
   "metadata": {},
   "outputs": [
    {
     "name": "stdout",
     "output_type": "stream",
     "text": [
      "file name: ADNI_941_S_5193_MR_MPRAGE_br_raw_20130529161642730_79_S190909_I374433\n",
      "file ext: .nii\n"
     ]
    }
   ],
   "source": [
    "s = 'ADNI_941_S_5193_MR_MPRAGE_br_raw_20130529161642730_79_S190909_I374433.nii'\n",
    "s_name, s_ext = os.path.splitext(s)\n",
    "print('file name: %s\\nfile ext: %s'%(s_name, s_ext))"
   ]
  },
  {
   "cell_type": "code",
   "execution_count": null,
   "id": "e0f27b1f",
   "metadata": {},
   "outputs": [],
   "source": []
  },
  {
   "cell_type": "code",
   "execution_count": 33,
   "id": "853480bf",
   "metadata": {},
   "outputs": [
    {
     "name": "stdout",
     "output_type": "stream",
     "text": [
      "12 items in name\n",
      "\n",
      "  n                 name    isnumeric      isalnum      isalpha      isdigit\n",
      "  0                 ADNI        False         True         True        False\n",
      "  1                  941         True         True        False         True\n",
      "  2                    S        False         True         True        False\n",
      "  3                 5193         True         True        False         True\n",
      "  4                   MR        False         True         True        False\n",
      "  5               MPRAGE        False         True         True        False\n",
      "  6                   br        False         True         True        False\n",
      "  7                  raw        False         True         True        False\n",
      "  8    20130529161642730         True         True        False         True\n",
      "  9                   79         True         True        False         True\n",
      " 10              S190909        False         True        False        False\n",
      " 11              I374433        False         True        False        False\n"
     ]
    }
   ],
   "source": [
    "#                                        Filename: Component type table\n",
    "s_list = s_name.split('_')\n",
    "print(len(s_list), 'items in name\\n')\n",
    "print('%3s %20s %12s %12s %12s %12s'%('n', 'name', 'isnumeric', 'isalnum', 'isalpha', 'isdigit'))\n",
    "\n",
    "for i, s in enumerate(s_list):\n",
    "    print('%3i %20s %12s %12s %12s %12s'%(i, s, s.isnumeric(), s.isalnum(), s.isalpha(), s.isdigit()))"
   ]
  },
  {
   "cell_type": "code",
   "execution_count": 34,
   "id": "356c2929",
   "metadata": {},
   "outputs": [
    {
     "data": {
      "text/plain": [
       "('20130529161642730', '2013', '05', '29', '161642730')"
      ]
     },
     "execution_count": 34,
     "metadata": {},
     "output_type": "execute_result"
    }
   ],
   "source": [
    "#                                        separate the date string\n",
    "date_str = s_list[8]\n",
    "date_str, date_str[0:4], date_str[4:6], date_str[6:8], date_str[8:] "
   ]
  },
  {
   "cell_type": "code",
   "execution_count": 59,
   "id": "eb6fd0c6",
   "metadata": {},
   "outputs": [
    {
     "data": {
      "text/plain": [
       "['filenames.py',\n",
       " 'home_zhang303_ADNI3_selected_MRI.csv',\n",
       " 'home_zhang303_ADNI3_selected_PET.csv']"
      ]
     },
     "execution_count": 59,
     "metadata": {},
     "output_type": "execute_result"
    }
   ],
   "source": [
    "os.listdir('../../../../DATA/HAL_tank')"
   ]
  },
  {
   "cell_type": "code",
   "execution_count": null,
   "id": "0beb1d5d",
   "metadata": {},
   "outputs": [],
   "source": []
  }
 ],
 "metadata": {
  "kernelspec": {
   "display_name": "Python [conda env:pytorch_env] *",
   "language": "python",
   "name": "conda-env-pytorch_env-py"
  },
  "language_info": {
   "codemirror_mode": {
    "name": "ipython",
    "version": 3
   },
   "file_extension": ".py",
   "mimetype": "text/x-python",
   "name": "python",
   "nbconvert_exporter": "python",
   "pygments_lexer": "ipython3",
   "version": "3.8.12"
  }
 },
 "nbformat": 4,
 "nbformat_minor": 5
}
